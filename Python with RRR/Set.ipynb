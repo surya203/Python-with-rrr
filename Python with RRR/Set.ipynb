{
 "cells": [
  {
   "cell_type": "markdown",
   "id": "ec9d3af0-2e0f-45eb-b714-3d966c1a4331",
   "metadata": {},
   "source": [
    "<h1>Set"
   ]
  },
  {
   "cell_type": "code",
   "execution_count": 3,
   "id": "8b26c011-96e2-4bf3-b57a-a67ea2b304d4",
   "metadata": {},
   "outputs": [],
   "source": [
    "bikes = {\"Hero\",\"Honda\",\"Avenger\",\"Duke\",\"Yamaha\",\"Royal Enfield\",\"Glamour\"}"
   ]
  },
  {
   "cell_type": "code",
   "execution_count": 6,
   "id": "6c6597ee-f439-4788-9d21-d14e29d22075",
   "metadata": {},
   "outputs": [],
   "source": [
    "#bike2 = [\"Hero\",\"Honda\",\"Avenger\",\"Duke\",\"Yamaha\",\"Royal Enfield\",\"Glamour\"]"
   ]
  },
  {
   "cell_type": "code",
   "execution_count": 7,
   "id": "f97d686e-8364-4b13-a4b6-0675f19634cf",
   "metadata": {},
   "outputs": [
    {
     "data": {
      "text/plain": [
       "list"
      ]
     },
     "execution_count": 7,
     "metadata": {},
     "output_type": "execute_result"
    }
   ],
   "source": [
    "type(bike2)"
   ]
  },
  {
   "cell_type": "code",
   "execution_count": 10,
   "id": "4bed52bd-292c-4ff5-a9bc-cba0706274b3",
   "metadata": {},
   "outputs": [],
   "source": [
    "bikes.add(3)"
   ]
  },
  {
   "cell_type": "code",
   "execution_count": 11,
   "id": "0c3626c3-4245-43f3-8aa7-465833e949f2",
   "metadata": {},
   "outputs": [
    {
     "data": {
      "text/plain": [
       "{3,\n",
       " 'Avenger',\n",
       " 'Duke',\n",
       " 'Glamour',\n",
       " 'Hero',\n",
       " 'Honda',\n",
       " 'Royal Enfield',\n",
       " 'Tvs',\n",
       " 'Yamaha'}"
      ]
     },
     "execution_count": 11,
     "metadata": {},
     "output_type": "execute_result"
    }
   ],
   "source": [
    "bikes"
   ]
  },
  {
   "cell_type": "code",
   "execution_count": 12,
   "id": "0b283438-e862-4010-ac99-f0eb1a59e1c2",
   "metadata": {},
   "outputs": [],
   "source": [
    "bikes.clear()"
   ]
  },
  {
   "cell_type": "code",
   "execution_count": 13,
   "id": "0013b0f3-b638-4dec-9f85-520ee91db4f2",
   "metadata": {},
   "outputs": [
    {
     "data": {
      "text/plain": [
       "set()"
      ]
     },
     "execution_count": 13,
     "metadata": {},
     "output_type": "execute_result"
    }
   ],
   "source": [
    "bikes"
   ]
  },
  {
   "cell_type": "code",
   "execution_count": null,
   "id": "6d619797",
   "metadata": {},
   "outputs": [],
   "source": []
  },
  {
   "cell_type": "code",
   "execution_count": 14,
   "id": "ca29506e-73cf-45eb-b65b-f8fbfa42f0a7",
   "metadata": {},
   "outputs": [],
   "source": [
    "Highend_bikes = {\"Royal Enfield\",\"Avenger\",\"yamaha\",\"Duke\",\"KTM\"}"
   ]
  },
  {
   "cell_type": "code",
   "execution_count": 15,
   "id": "24186922-cdcf-4184-8090-eb463b149c39",
   "metadata": {},
   "outputs": [
    {
     "data": {
      "text/plain": [
       "{'Avenger', 'Duke', 'KTM', 'Royal Enfield', 'yamaha'}"
      ]
     },
     "execution_count": 15,
     "metadata": {},
     "output_type": "execute_result"
    }
   ],
   "source": [
    "Highend_bikes"
   ]
  },
  {
   "cell_type": "code",
   "execution_count": 16,
   "id": "cf558aff-aefd-4c65-ace7-43f9b8da6320",
   "metadata": {},
   "outputs": [],
   "source": [
    "l1= [1,2,3]\n",
    "l2= [2,3,4]"
   ]
  },
  {
   "cell_type": "code",
   "execution_count": 17,
   "id": "04add4b4-52e5-4d2c-a7d5-b0c557b8ad05",
   "metadata": {},
   "outputs": [
    {
     "data": {
      "text/plain": [
       "[1, 2, 3, 2, 3, 4]"
      ]
     },
     "execution_count": 17,
     "metadata": {},
     "output_type": "execute_result"
    }
   ],
   "source": [
    "l1+l2"
   ]
  },
  {
   "cell_type": "code",
   "execution_count": 19,
   "id": "ae802ab8-7c76-4d79-9ac9-4020d22b84e4",
   "metadata": {},
   "outputs": [],
   "source": [
    "s1 = {1,2,3}\n",
    "s2 = {2,3,4}"
   ]
  },
  {
   "cell_type": "code",
   "execution_count": 21,
   "id": "73f5e880-4026-4cf9-8b14-7d2f3e05b257",
   "metadata": {},
   "outputs": [
    {
     "data": {
      "text/plain": [
       "{1, 2, 3, 4}"
      ]
     },
     "execution_count": 21,
     "metadata": {},
     "output_type": "execute_result"
    }
   ],
   "source": [
    "s1.union(s2)"
   ]
  },
  {
   "cell_type": "code",
   "execution_count": 22,
   "id": "ac903c97-fad2-441d-a730-fa8d0033416d",
   "metadata": {},
   "outputs": [],
   "source": [
    "rs = {1,2,3,4,4,4,1,1,1,2,2,2,26,6,6,7,7,7,74,4,3,2,2}"
   ]
  },
  {
   "cell_type": "code",
   "execution_count": 23,
   "id": "12c5aab9-3525-443a-bf37-b444bc2fba9b",
   "metadata": {},
   "outputs": [
    {
     "data": {
      "text/plain": [
       "{1, 2, 3, 4, 6, 7, 26, 74}"
      ]
     },
     "execution_count": 23,
     "metadata": {},
     "output_type": "execute_result"
    }
   ],
   "source": [
    "rs"
   ]
  },
  {
   "cell_type": "code",
   "execution_count": 24,
   "id": "89b77119-5877-475e-8a16-33e2b1a2bc76",
   "metadata": {},
   "outputs": [],
   "source": [
    "bikes = {\"Hero\",\"Honda\",\"Avenger\",\"duke\",\"Yamaha\",\"Royal Enfield\",\"Glamour\"}"
   ]
  },
  {
   "cell_type": "code",
   "execution_count": 25,
   "id": "a76f54b1-9d99-40cd-85b7-f3ff3e4ffde0",
   "metadata": {},
   "outputs": [
    {
     "data": {
      "text/plain": [
       "{'Avenger', 'Glamour', 'Hero', 'Honda', 'Royal Enfield', 'Yamaha', 'duke'}"
      ]
     },
     "execution_count": 25,
     "metadata": {},
     "output_type": "execute_result"
    }
   ],
   "source": [
    "bikes"
   ]
  },
  {
   "cell_type": "code",
   "execution_count": 26,
   "id": "81b66f96-b3e5-4b47-8e10-48348ef8c281",
   "metadata": {},
   "outputs": [
    {
     "data": {
      "text/plain": [
       "{'Avenger', 'Duke', 'KTM', 'Royal Enfield', 'yamaha'}"
      ]
     },
     "execution_count": 26,
     "metadata": {},
     "output_type": "execute_result"
    }
   ],
   "source": [
    "Highend_bikes"
   ]
  },
  {
   "cell_type": "code",
   "execution_count": 27,
   "id": "0c2bef5d-e59d-437c-8ca1-45e9c1e98fb5",
   "metadata": {},
   "outputs": [],
   "source": [
    "result = bikes.union(Highend_bikes)\n",
    "\n",
    "#is there any way to ACCESS set?"
   ]
  },
  {
   "cell_type": "code",
   "execution_count": 28,
   "id": "59cf30fc",
   "metadata": {},
   "outputs": [
    {
     "data": {
      "text/plain": [
       "{'Avenger',\n",
       " 'Duke',\n",
       " 'Glamour',\n",
       " 'Hero',\n",
       " 'Honda',\n",
       " 'KTM',\n",
       " 'Royal Enfield',\n",
       " 'Yamaha',\n",
       " 'duke',\n",
       " 'yamaha'}"
      ]
     },
     "execution_count": 28,
     "metadata": {},
     "output_type": "execute_result"
    }
   ],
   "source": [
    "result"
   ]
  },
  {
   "cell_type": "code",
   "execution_count": 29,
   "id": "c8d831ff-4dc3-48b5-a39c-a20db801b445",
   "metadata": {},
   "outputs": [],
   "source": [
    "#frozenset()\n",
    "l3 = [\"item1\",\"item2\",\"item3\",45,76,23,76]"
   ]
  },
  {
   "cell_type": "code",
   "execution_count": 30,
   "id": "e15e9e78",
   "metadata": {},
   "outputs": [
    {
     "data": {
      "text/plain": [
       "['item1', 'item2', 'item3', 45, 76, 23, 76]"
      ]
     },
     "execution_count": 30,
     "metadata": {},
     "output_type": "execute_result"
    }
   ],
   "source": [
    "l3"
   ]
  },
  {
   "cell_type": "code",
   "execution_count": null,
   "id": "1fa023c9",
   "metadata": {},
   "outputs": [],
   "source": []
  },
  {
   "cell_type": "code",
   "execution_count": 31,
   "id": "8f688e77-3376-4b54-92e5-6acade8c2381",
   "metadata": {},
   "outputs": [],
   "source": [
    "#list ----> set\n",
    "l3 = set(l3)"
   ]
  },
  {
   "cell_type": "code",
   "execution_count": 32,
   "id": "8147a9d8-debf-408b-bfbe-3f07f847cb5d",
   "metadata": {},
   "outputs": [
    {
     "data": {
      "text/plain": [
       "{23, 45, 76, 'item1', 'item2', 'item3'}"
      ]
     },
     "execution_count": 32,
     "metadata": {},
     "output_type": "execute_result"
    }
   ],
   "source": [
    "l3"
   ]
  },
  {
   "cell_type": "code",
   "execution_count": null,
   "id": "4c877349-fa6d-4fce-baf7-f76aa6f2f861",
   "metadata": {},
   "outputs": [],
   "source": [
    "type(l3)"
   ]
  },
  {
   "cell_type": "code",
   "execution_count": null,
   "id": "0d7530e9-5205-4696-baa0-c484020f4edc",
   "metadata": {},
   "outputs": [],
   "source": [
    "l4 = [3,5,6,2,5,3,98,45]\n"
   ]
  },
  {
   "cell_type": "code",
   "execution_count": null,
   "id": "3a3ac1c1-06c4-4874-8f12-0352b389d951",
   "metadata": {},
   "outputs": [],
   "source": [
    "l5=set(l4)"
   ]
  },
  {
   "cell_type": "code",
   "execution_count": null,
   "id": "45f6b6f0-e83b-41b3-9c1a-0bec80ed9082",
   "metadata": {},
   "outputs": [],
   "source": [
    "l5"
   ]
  },
  {
   "cell_type": "code",
   "execution_count": null,
   "id": "dc5842b8-935e-44bf-ba87-b2c2dca66c4e",
   "metadata": {},
   "outputs": [],
   "source": [
    "l4 = frozenset(l4)"
   ]
  },
  {
   "cell_type": "code",
   "execution_count": null,
   "id": "31d3c36d-5121-4370-bc4c-62507e2d0e1e",
   "metadata": {},
   "outputs": [],
   "source": []
  },
  {
   "cell_type": "code",
   "execution_count": 33,
   "id": "0b9ea53f-55ef-46a1-af21-452fdd1f7f9c",
   "metadata": {},
   "outputs": [],
   "source": [
    "set_items = {\"item1\",\"item2\",\"item3\",45,76,23,76}"
   ]
  },
  {
   "cell_type": "code",
   "execution_count": 34,
   "id": "040726b9-6072-48ae-98ad-9a05acba6286",
   "metadata": {},
   "outputs": [
    {
     "data": {
      "text/plain": [
       "{23, 45, 76, 'item1', 'item2', 'item3'}"
      ]
     },
     "execution_count": 34,
     "metadata": {},
     "output_type": "execute_result"
    }
   ],
   "source": [
    "set_items"
   ]
  },
  {
   "cell_type": "code",
   "execution_count": 35,
   "id": "4eec0056-427b-44b5-a723-94ce0e4df1af",
   "metadata": {},
   "outputs": [],
   "source": [
    "frozen = frozenset({\"item1\",\"item2\",\"item3\",45,76,23,76})"
   ]
  },
  {
   "cell_type": "code",
   "execution_count": 36,
   "id": "3845a539-e2cb-43d3-ad80-b77fd6a5c113",
   "metadata": {},
   "outputs": [
    {
     "data": {
      "text/plain": [
       "frozenset({23, 45, 76, 'item1', 'item2', 'item3'})"
      ]
     },
     "execution_count": 36,
     "metadata": {},
     "output_type": "execute_result"
    }
   ],
   "source": [
    "frozen"
   ]
  },
  {
   "cell_type": "code",
   "execution_count": 37,
   "id": "5b35b674-83f0-487d-96c6-db18b10d9526",
   "metadata": {},
   "outputs": [
    {
     "ename": "AttributeError",
     "evalue": "'frozenset' object has no attribute 'add'",
     "output_type": "error",
     "traceback": [
      "\u001b[1;31m---------------------------------------------------------------------------\u001b[0m",
      "\u001b[1;31mAttributeError\u001b[0m                            Traceback (most recent call last)",
      "\u001b[1;32m~\\AppData\\Local\\Temp\\ipykernel_12016\\556388532.py\u001b[0m in \u001b[0;36m<module>\u001b[1;34m\u001b[0m\n\u001b[1;32m----> 1\u001b[1;33m \u001b[0mfrozen\u001b[0m\u001b[1;33m.\u001b[0m\u001b[0madd\u001b[0m\u001b[1;33m(\u001b[0m\u001b[1;36m4\u001b[0m\u001b[1;33m)\u001b[0m\u001b[1;33m\u001b[0m\u001b[1;33m\u001b[0m\u001b[0m\n\u001b[0m",
      "\u001b[1;31mAttributeError\u001b[0m: 'frozenset' object has no attribute 'add'"
     ]
    }
   ],
   "source": [
    "frozen.add(4)"
   ]
  },
  {
   "cell_type": "code",
   "execution_count": null,
   "id": "540d34fe-1076-4ec8-9208-08bed8570563",
   "metadata": {},
   "outputs": [],
   "source": []
  },
  {
   "cell_type": "code",
   "execution_count": null,
   "id": "e4847b99-09d3-4fbb-bccb-acd906e5de3a",
   "metadata": {},
   "outputs": [],
   "source": []
  },
  {
   "cell_type": "code",
   "execution_count": null,
   "id": "17660c6d-123a-4898-b1cc-8033748fb4d1",
   "metadata": {},
   "outputs": [],
   "source": []
  },
  {
   "cell_type": "code",
   "execution_count": null,
   "id": "c74f2292-90b2-4f4b-977d-5061b2e2231f",
   "metadata": {},
   "outputs": [],
   "source": []
  },
  {
   "cell_type": "code",
   "execution_count": null,
   "id": "0f5dd967-42e4-48f1-8ce6-8fbed4df02ae",
   "metadata": {},
   "outputs": [],
   "source": []
  },
  {
   "cell_type": "code",
   "execution_count": null,
   "id": "eeb26bcf-0a10-4ae3-aa7a-40becbadc591",
   "metadata": {},
   "outputs": [],
   "source": []
  },
  {
   "cell_type": "code",
   "execution_count": null,
   "id": "78e6a0d0",
   "metadata": {},
   "outputs": [],
   "source": [
    "number = int(input())\n",
    "print(number)"
   ]
  },
  {
   "cell_type": "code",
   "execution_count": null,
   "id": "65bc5079",
   "metadata": {},
   "outputs": [],
   "source": [
    "yyy\n",
    "type(yyy)"
   ]
  },
  {
   "cell_type": "code",
   "execution_count": null,
   "id": "f737ad27-7cb4-4ac4-8de0-205dd8940c3c",
   "metadata": {},
   "outputs": [],
   "source": []
  }
 ],
 "metadata": {
  "kernelspec": {
   "display_name": "Python 3 (ipykernel)",
   "language": "python",
   "name": "python3"
  },
  "language_info": {
   "codemirror_mode": {
    "name": "ipython",
    "version": 3
   },
   "file_extension": ".py",
   "mimetype": "text/x-python",
   "name": "python",
   "nbconvert_exporter": "python",
   "pygments_lexer": "ipython3",
   "version": "3.9.7"
  }
 },
 "nbformat": 4,
 "nbformat_minor": 5
}
