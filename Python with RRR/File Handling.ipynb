{
 "cells": [
  {
   "cell_type": "markdown",
   "id": "e9284b6b-f6e2-4983-846d-24c8198ca49d",
   "metadata": {},
   "source": [
    "<h1>File Handling in Python"
   ]
  },
  {
   "cell_type": "markdown",
   "id": "ea79edf2-23b5-470f-b5d7-0ca1fddf583a",
   "metadata": {},
   "source": [
    "<p>Python too supports file handling and allows users to handle files i.e., to read and write files, along with many other file handling options, to operate on files"
   ]
  },
  {
   "cell_type": "markdown",
   "id": "cd1ade29-2141-44ae-b50e-4d39675a93ab",
   "metadata": {},
   "source": [
    "<p>Before performing any operation on the file like reading or writing, first, we have to open that file. For this, we should use Python’s inbuilt function open() but at the time of opening, we have to specify the mode, which represents the purpose of the opening file."
   ]
  },
  {
   "cell_type": "markdown",
   "id": "1fb2b01b-3b88-4442-bb30-4a090683183e",
   "metadata": {},
   "source": [
    "<p>Where the following mode is supported:\n",
    "\n",
    "    r: open an existing file for a read operation.\n",
    "    \n",
    "    w: open an existing file for a write operation. If the file already contains some data then it will be overridden but if the file is not present then it creates the file as well.\n",
    "    \n",
    "    a:  open an existing file for append operation. It won’t override existing data.\n",
    "    \n",
    "     r+:  To read and write data into the file. The previous data in the file will be overridden.\n",
    "    \n",
    "    w+: To write and read data. It will override existing data.\n",
    "    \n",
    "    a+: To append and read data from the file. It won’t override existing data."
   ]
  },
  {
   "cell_type": "code",
   "execution_count": 8,
   "id": "728bfea7-abd6-41f3-8119-6f39c1106e68",
   "metadata": {},
   "outputs": [
    {
     "name": "stdout",
     "output_type": "stream",
     "text": [
      "My name is Ai walkers.\n",
      "I am learning Python.\n",
      "I have intrest in AI.\n"
     ]
    }
   ],
   "source": [
    "# Python code to illustrate read() mode\n",
    "file = open(\"welcome.txt\", \"r\") # file = open(\"file name/path\", \"mode\")\n",
    "print (file.read())"
   ]
  },
  {
   "cell_type": "code",
   "execution_count": 9,
   "id": "55ccdf31-4d11-4897-a50f-e7ea36d6b94a",
   "metadata": {},
   "outputs": [
    {
     "name": "stdout",
     "output_type": "stream",
     "text": [
      "My name\n"
     ]
    }
   ],
   "source": [
    "file = open(\"welcome.txt\", \"r\")\n",
    "print(file.read(7))"
   ]
  },
  {
   "cell_type": "code",
   "execution_count": 12,
   "id": "40042012-172a-470b-8a12-09a85adefe14",
   "metadata": {},
   "outputs": [
    {
     "name": "stdout",
     "output_type": "stream",
     "text": [
      "My name is Ai walkers.\n",
      "\n"
     ]
    }
   ],
   "source": [
    "file = open(\"welcome.txt\", \"r\")\n",
    "print (file.readline())"
   ]
  },
  {
   "cell_type": "code",
   "execution_count": 13,
   "id": "f290c8e7-17ee-4c2d-aa93-377ad0031668",
   "metadata": {},
   "outputs": [
    {
     "name": "stdout",
     "output_type": "stream",
     "text": [
      "['My name is Ai walkers.\\n', 'I am learning Python.\\n', 'I have intrest in AI.']\n"
     ]
    }
   ],
   "source": [
    "file = open(\"welcome.txt\", \"r\")\n",
    "print (file.readlines())"
   ]
  },
  {
   "cell_type": "code",
   "execution_count": 34,
   "id": "4ecde4e3-72bf-4266-a460-f338d0da8db5",
   "metadata": {},
   "outputs": [
    {
     "name": "stdout",
     "output_type": "stream",
     "text": [
      "['My name is Ai walkers.\\n', 'I am learning Python.\\n', 'I have intrest in AI.']\n"
     ]
    }
   ],
   "source": [
    "file = open(\"welcome.txt\", \"r\")\n",
    "print (file.readlines())"
   ]
  },
  {
   "cell_type": "code",
   "execution_count": 26,
   "id": "b73f629f-9877-4ddf-9455-81a16837e4fa",
   "metadata": {},
   "outputs": [],
   "source": [
    "file = open(\"welcome.txt\", \"r\")"
   ]
  },
  {
   "cell_type": "code",
   "execution_count": null,
   "id": "7d3ec0dd-ccbf-4792-bbdf-54fc7022bbe8",
   "metadata": {},
   "outputs": [],
   "source": []
  },
  {
   "cell_type": "code",
   "execution_count": 41,
   "id": "eaf3cde2-9700-4309-98d8-437e0434befb",
   "metadata": {},
   "outputs": [
    {
     "name": "stdout",
     "output_type": "stream",
     "text": [
      "['I love python and i am learning it.']\n"
     ]
    }
   ],
   "source": [
    "file = open(\"C:/Users/91756\\OneDrive - Ai walkers/Desktop/pythontext.txt\", \"r\")\n",
    "print (file.readlines())\n",
    "file.close()"
   ]
  },
  {
   "cell_type": "code",
   "execution_count": 42,
   "id": "28910819-cf1f-48c8-9cc8-6c5cd63fafe2",
   "metadata": {},
   "outputs": [],
   "source": [
    "import os\n",
    "os.remove(\"C:/Users/91756/OneDrive - Ai walkers/Desktop/pythontext.txt\")"
   ]
  },
  {
   "cell_type": "code",
   "execution_count": null,
   "id": "fb6b145a-d362-471a-9101-855813222b0e",
   "metadata": {},
   "outputs": [],
   "source": []
  },
  {
   "cell_type": "code",
   "execution_count": null,
   "id": "67794401-5f08-4137-bfde-73becd18c601",
   "metadata": {},
   "outputs": [],
   "source": []
  },
  {
   "cell_type": "code",
   "execution_count": null,
   "id": "3a491bdf-faa4-4cf4-9a5b-fc8f8c2590ae",
   "metadata": {},
   "outputs": [],
   "source": []
  },
  {
   "cell_type": "code",
   "execution_count": null,
   "id": "66e45e37-5947-44a1-9c08-a126fbc8190b",
   "metadata": {},
   "outputs": [],
   "source": []
  },
  {
   "cell_type": "code",
   "execution_count": null,
   "id": "686976cd-165b-443b-bbb9-e126b0d35dd8",
   "metadata": {},
   "outputs": [],
   "source": []
  },
  {
   "cell_type": "code",
   "execution_count": null,
   "id": "f32149ee-252e-4bbf-91d9-98643eb1c0da",
   "metadata": {},
   "outputs": [],
   "source": []
  },
  {
   "cell_type": "code",
   "execution_count": null,
   "id": "b5fa5138-916c-4794-a8e4-64f032cdcbf6",
   "metadata": {},
   "outputs": [],
   "source": []
  },
  {
   "cell_type": "code",
   "execution_count": null,
   "id": "8efa5415-2a24-4a9e-acc6-fed1e7059e38",
   "metadata": {},
   "outputs": [],
   "source": []
  },
  {
   "cell_type": "code",
   "execution_count": null,
   "id": "6b309372-2f33-4d26-bbb9-ce43051149fe",
   "metadata": {},
   "outputs": [],
   "source": []
  },
  {
   "cell_type": "code",
   "execution_count": null,
   "id": "9ced48c5-5fb1-4943-8dbe-0c01e9243880",
   "metadata": {},
   "outputs": [],
   "source": []
  },
  {
   "cell_type": "code",
   "execution_count": null,
   "id": "fd8eeb60-e0a9-4c4c-8026-4dec89752391",
   "metadata": {},
   "outputs": [],
   "source": []
  },
  {
   "cell_type": "code",
   "execution_count": 29,
   "id": "f235cc81-c485-48da-b9e5-973c39ec326d",
   "metadata": {},
   "outputs": [],
   "source": [
    "# Python code to create a file\n",
    "file = open('hello.txt','w')\n",
    "file.write(\"I can change content \")\n",
    "file.write(\"7463ewfd43edbjebd\")\n",
    "file.close()"
   ]
  },
  {
   "cell_type": "code",
   "execution_count": null,
   "id": "86e60ded-713e-454c-91c7-7f418177549d",
   "metadata": {},
   "outputs": [],
   "source": []
  },
  {
   "cell_type": "code",
   "execution_count": null,
   "id": "6cf27112-d4eb-4a34-9d4b-ece64d8b058e",
   "metadata": {},
   "outputs": [],
   "source": []
  },
  {
   "cell_type": "code",
   "execution_count": null,
   "id": "4d897762-3c70-4951-a6ad-08e45f0e3273",
   "metadata": {},
   "outputs": [],
   "source": []
  },
  {
   "cell_type": "code",
   "execution_count": null,
   "id": "a671fe6d-5ce9-47b8-9c95-2581b93a2c5a",
   "metadata": {},
   "outputs": [],
   "source": []
  },
  {
   "cell_type": "code",
   "execution_count": null,
   "id": "4b4b814f-4ca6-4c8f-8a43-728d040dfc0d",
   "metadata": {},
   "outputs": [],
   "source": []
  },
  {
   "cell_type": "code",
   "execution_count": null,
   "id": "8e677fe7-3899-40a2-be0c-c7268488a62e",
   "metadata": {},
   "outputs": [],
   "source": []
  },
  {
   "cell_type": "code",
   "execution_count": null,
   "id": "a9bfe661-667e-4ae0-a293-df79a16e499e",
   "metadata": {},
   "outputs": [],
   "source": []
  },
  {
   "cell_type": "code",
   "execution_count": null,
   "id": "0485c1cd-5a71-412a-963c-db09fa573047",
   "metadata": {},
   "outputs": [],
   "source": []
  },
  {
   "cell_type": "code",
   "execution_count": null,
   "id": "e585a659-1455-4f08-a5b9-d5cafde5b081",
   "metadata": {},
   "outputs": [],
   "source": []
  },
  {
   "cell_type": "code",
   "execution_count": 31,
   "id": "1da512ee-b54e-4f48-8a86-05b49f824eaf",
   "metadata": {},
   "outputs": [],
   "source": [
    "# Python code to illustrate append() mode\n",
    "file = open('hello.txt', 'a')\n",
    "file.write(\" This is my life\")\n",
    "\n",
    "file.write(\" I can change content 7463ewfd43edbjebd \")\n",
    "file.close()"
   ]
  },
  {
   "cell_type": "code",
   "execution_count": null,
   "id": "52459d5e-01c2-4131-8b3c-7d3a6db97b7b",
   "metadata": {},
   "outputs": [],
   "source": []
  },
  {
   "cell_type": "code",
   "execution_count": null,
   "id": "5f97685e-6908-47c3-befc-edbfbeb810d7",
   "metadata": {},
   "outputs": [],
   "source": []
  },
  {
   "cell_type": "code",
   "execution_count": null,
   "id": "0c61f2fe-3586-4cd5-b903-1bd536fc6ca3",
   "metadata": {},
   "outputs": [],
   "source": []
  },
  {
   "cell_type": "code",
   "execution_count": null,
   "id": "378f48fa-ca28-4ff3-8304-337576cf29fd",
   "metadata": {},
   "outputs": [],
   "source": []
  },
  {
   "cell_type": "code",
   "execution_count": 33,
   "id": "c14d16ad-ba09-4b87-94e1-96360cd9231a",
   "metadata": {},
   "outputs": [],
   "source": [
    "import os\n",
    "os.remove(\"foo.txt\")"
   ]
  },
  {
   "cell_type": "code",
   "execution_count": null,
   "id": "d41b2621-b12e-4910-be7c-4446668224b3",
   "metadata": {},
   "outputs": [],
   "source": []
  }
 ],
 "metadata": {
  "kernelspec": {
   "display_name": "Python 3 (ipykernel)",
   "language": "python",
   "name": "python3"
  },
  "language_info": {
   "codemirror_mode": {
    "name": "ipython",
    "version": 3
   },
   "file_extension": ".py",
   "mimetype": "text/x-python",
   "name": "python",
   "nbconvert_exporter": "python",
   "pygments_lexer": "ipython3",
   "version": "3.9.7"
  }
 },
 "nbformat": 4,
 "nbformat_minor": 5
}
