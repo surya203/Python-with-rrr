{
 "cells": [
  {
   "cell_type": "markdown",
   "id": "af63ddbe-b5d4-4dee-b970-029b98c89e26",
   "metadata": {},
   "source": [
    "<h1>lambda"
   ]
  },
  {
   "cell_type": "code",
   "execution_count": 1,
   "id": "832eeaf4-2ec6-45ac-ae1e-769d34feccb3",
   "metadata": {},
   "outputs": [],
   "source": [
    "#Normal function\n",
    "def add(a,b):\n",
    "    return a+b"
   ]
  },
  {
   "cell_type": "code",
   "execution_count": 5,
   "id": "01d659fd-17d6-42e4-9d9f-09f64db66ec4",
   "metadata": {},
   "outputs": [
    {
     "data": {
      "text/plain": [
       "100"
      ]
     },
     "execution_count": 5,
     "metadata": {},
     "output_type": "execute_result"
    }
   ],
   "source": [
    "add(45,55)"
   ]
  },
  {
   "cell_type": "code",
   "execution_count": 3,
   "id": "bd51ff57-4c7f-4d07-a5e4-7704d0cdcf61",
   "metadata": {},
   "outputs": [],
   "source": [
    "#Lambda function\n",
    "add_lambda = lambda a,b:a+b"
   ]
  },
  {
   "cell_type": "code",
   "execution_count": 6,
   "id": "77160b23-3079-4afb-9361-124df1e7f672",
   "metadata": {},
   "outputs": [
    {
     "data": {
      "text/plain": [
       "100"
      ]
     },
     "execution_count": 6,
     "metadata": {},
     "output_type": "execute_result"
    }
   ],
   "source": [
    "add_lambda(45,55)"
   ]
  },
  {
   "cell_type": "code",
   "execution_count": 7,
   "id": "85006f47-4872-454c-bd6c-8d1b0acd6ff0",
   "metadata": {},
   "outputs": [],
   "source": [
    "def add(x):\n",
    "    print(x+100)"
   ]
  },
  {
   "cell_type": "code",
   "execution_count": 8,
   "id": "52570d9d-8aa6-477c-bffe-963e2d1f3994",
   "metadata": {},
   "outputs": [
    {
     "name": "stdout",
     "output_type": "stream",
     "text": [
      "130\n"
     ]
    }
   ],
   "source": [
    "add(30)"
   ]
  },
  {
   "cell_type": "code",
   "execution_count": 9,
   "id": "4940c774-9160-4dbd-a3aa-58de435b3136",
   "metadata": {},
   "outputs": [],
   "source": [
    "# x = x+100 \n",
    "add = lambda x : x+100"
   ]
  },
  {
   "cell_type": "code",
   "execution_count": 10,
   "id": "87588dba-7117-4e17-8ad4-1ec08e403108",
   "metadata": {},
   "outputs": [
    {
     "name": "stdout",
     "output_type": "stream",
     "text": [
      "130\n"
     ]
    }
   ],
   "source": [
    "print(add(30))"
   ]
  },
  {
   "cell_type": "code",
   "execution_count": 12,
   "id": "4d3c4c50-291a-4a95-a24e-973ad2d448c8",
   "metadata": {},
   "outputs": [
    {
     "data": {
      "text/plain": [
       "200"
      ]
     },
     "execution_count": 12,
     "metadata": {},
     "output_type": "execute_result"
    }
   ],
   "source": [
    "# we can do both def and callling in single line\n",
    "(lambda a,b: a*b)(10,20)"
   ]
  },
  {
   "cell_type": "code",
   "execution_count": 13,
   "id": "09c61e1f-e2f7-4009-b064-81026c9053d9",
   "metadata": {},
   "outputs": [],
   "source": [
    "def coutry(India,usa,canada,uk):\n",
    "    return India+usa+canada+uk"
   ]
  },
  {
   "cell_type": "code",
   "execution_count": 16,
   "id": "240b0aab-6b31-43df-8ba9-a127ec2c884d",
   "metadata": {},
   "outputs": [
    {
     "name": "stdout",
     "output_type": "stream",
     "text": [
      "260 cr is total population count\n"
     ]
    }
   ],
   "source": [
    "print(coutry(140,50,30,40), \"cr is total population count\")"
   ]
  },
  {
   "cell_type": "code",
   "execution_count": 19,
   "id": "7e81c275-d2c3-4bce-96d9-45c452c821cf",
   "metadata": {},
   "outputs": [
    {
     "data": {
      "text/plain": [
       "260"
      ]
     },
     "execution_count": 19,
     "metadata": {},
     "output_type": "execute_result"
    }
   ],
   "source": [
    "(lambda India,usa,canada,uk:India+usa+canada+uk)(140,50,30,40)"
   ]
  },
  {
   "cell_type": "code",
   "execution_count": 22,
   "id": "e4b3d059-44f6-4041-b39b-fa7841248cb5",
   "metadata": {},
   "outputs": [
    {
     "data": {
      "text/plain": [
       "1350"
      ]
     },
     "execution_count": 22,
     "metadata": {},
     "output_type": "execute_result"
    }
   ],
   "source": [
    "(lambda x,y,z : x*y*z)(z=10, x=45, y=3)"
   ]
  },
  {
   "cell_type": "code",
   "execution_count": 23,
   "id": "8cdce64c-c2b8-488d-a2d2-5dc916252942",
   "metadata": {},
   "outputs": [
    {
     "data": {
      "text/plain": [
       "1350"
      ]
     },
     "execution_count": 23,
     "metadata": {},
     "output_type": "execute_result"
    }
   ],
   "source": [
    "product = lambda x,y,z : x*y*z\n",
    "product(z=10, x =45, y=3)"
   ]
  },
  {
   "cell_type": "code",
   "execution_count": 26,
   "id": "ed781034-3e38-47ac-833f-c14c7be831e1",
   "metadata": {},
   "outputs": [
    {
     "data": {
      "text/plain": [
       "75"
      ]
     },
     "execution_count": 26,
     "metadata": {},
     "output_type": "execute_result"
    }
   ],
   "source": [
    "#it support default params\n",
    "add = lambda x, y=25, z=25 :x+y+z\n",
    "add(30,z=20)"
   ]
  },
  {
   "cell_type": "code",
   "execution_count": 28,
   "id": "90b8ce95-7c49-40f0-9919-ffb0ece05e6e",
   "metadata": {},
   "outputs": [
    {
     "data": {
      "text/plain": [
       "652"
      ]
     },
     "execution_count": 28,
     "metadata": {},
     "output_type": "execute_result"
    }
   ],
   "source": [
    "# it support *arg\n",
    "addition = lambda *args : sum(args)\n",
    "addition(20,45,67,32,45,67,89,23,45,67,87,65)"
   ]
  },
  {
   "cell_type": "code",
   "execution_count": 44,
   "id": "3e509cea-e80e-4fb1-8417-29bf5215db92",
   "metadata": {},
   "outputs": [],
   "source": [
    "function = lambda x,func: x + func(x) \n"
   ]
  },
  {
   "cell_type": "code",
   "execution_count": 53,
   "id": "274a78a5-fd56-48a1-8cd9-a64a13ae1b65",
   "metadata": {},
   "outputs": [],
   "source": [
    "def function(x,func):\n",
    "    return x+func(x)"
   ]
  },
  {
   "cell_type": "code",
   "execution_count": 54,
   "id": "5689b972-15e6-4af3-a18d-a4b6d95327a9",
   "metadata": {},
   "outputs": [
    {
     "data": {
      "text/plain": [
       "18"
      ]
     },
     "execution_count": 54,
     "metadata": {},
     "output_type": "execute_result"
    }
   ],
   "source": [
    "function(4,lambda x:x+10)"
   ]
  },
  {
   "cell_type": "code",
   "execution_count": null,
   "id": "45ab0380-6415-4b0e-ab5a-dde89e4aef70",
   "metadata": {},
   "outputs": [],
   "source": []
  },
  {
   "cell_type": "code",
   "execution_count": null,
   "id": "96b57916-aa32-444d-b7d1-ccf876082c22",
   "metadata": {},
   "outputs": [],
   "source": [
    "function(5, lambda x: x+10)"
   ]
  },
  {
   "cell_type": "code",
   "execution_count": null,
   "id": "c024a9a9-ffb4-4776-82bb-e2e326273a89",
   "metadata": {},
   "outputs": [],
   "source": []
  },
  {
   "cell_type": "code",
   "execution_count": null,
   "id": "31135109-2541-4d46-9c0d-7313efa3c3ae",
   "metadata": {},
   "outputs": [],
   "source": []
  },
  {
   "cell_type": "code",
   "execution_count": null,
   "id": "1a0b4e03-1491-464e-b527-7363e6f04188",
   "metadata": {},
   "outputs": [],
   "source": [
    "func = lambda x: x*x"
   ]
  },
  {
   "cell_type": "code",
   "execution_count": 37,
   "id": "3fead8ff-14bc-4296-8624-7fec45835b33",
   "metadata": {},
   "outputs": [
    {
     "data": {
      "text/plain": [
       "25"
      ]
     },
     "execution_count": 37,
     "metadata": {},
     "output_type": "execute_result"
    }
   ],
   "source": [
    "func(5)"
   ]
  },
  {
   "cell_type": "code",
   "execution_count": 38,
   "id": "c304851d-2dc1-4a87-9b85-31671be6ccb6",
   "metadata": {},
   "outputs": [
    {
     "ename": "TypeError",
     "evalue": "'int' object is not callable",
     "output_type": "error",
     "traceback": [
      "\u001b[1;31m---------------------------------------------------------------------------\u001b[0m",
      "\u001b[1;31mTypeError\u001b[0m                                 Traceback (most recent call last)",
      "\u001b[1;32m~\\AppData\\Local\\Temp\\ipykernel_6788\\985158622.py\u001b[0m in \u001b[0;36m<module>\u001b[1;34m\u001b[0m\n\u001b[1;32m----> 1\u001b[1;33m \u001b[0mfunction\u001b[0m\u001b[1;33m(\u001b[0m\u001b[1;36m10\u001b[0m\u001b[1;33m,\u001b[0m\u001b[1;36m5\u001b[0m\u001b[1;33m)\u001b[0m\u001b[1;33m\u001b[0m\u001b[1;33m\u001b[0m\u001b[0m\n\u001b[0m",
      "\u001b[1;32m~\\AppData\\Local\\Temp\\ipykernel_6788\\2923068143.py\u001b[0m in \u001b[0;36m<lambda>\u001b[1;34m(x, func)\u001b[0m\n\u001b[1;32m----> 1\u001b[1;33m \u001b[0mfunction\u001b[0m \u001b[1;33m=\u001b[0m \u001b[1;32mlambda\u001b[0m \u001b[0mx\u001b[0m\u001b[1;33m,\u001b[0m\u001b[0mfunc\u001b[0m\u001b[1;33m:\u001b[0m \u001b[0mx\u001b[0m \u001b[1;33m+\u001b[0m \u001b[0mfunc\u001b[0m\u001b[1;33m(\u001b[0m\u001b[0mx\u001b[0m\u001b[1;33m)\u001b[0m\u001b[1;33m\u001b[0m\u001b[1;33m\u001b[0m\u001b[0m\n\u001b[0m",
      "\u001b[1;31mTypeError\u001b[0m: 'int' object is not callable"
     ]
    }
   ],
   "source": [
    "function(10,5)"
   ]
  },
  {
   "cell_type": "code",
   "execution_count": null,
   "id": "a303eef2-5869-4361-9490-5fcdf3a54dce",
   "metadata": {},
   "outputs": [],
   "source": []
  }
 ],
 "metadata": {
  "kernelspec": {
   "display_name": "Python 3 (ipykernel)",
   "language": "python",
   "name": "python3"
  },
  "language_info": {
   "codemirror_mode": {
    "name": "ipython",
    "version": 3
   },
   "file_extension": ".py",
   "mimetype": "text/x-python",
   "name": "python",
   "nbconvert_exporter": "python",
   "pygments_lexer": "ipython3",
   "version": "3.9.7"
  }
 },
 "nbformat": 4,
 "nbformat_minor": 5
}
