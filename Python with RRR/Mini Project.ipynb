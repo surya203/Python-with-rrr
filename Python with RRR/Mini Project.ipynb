{
 "cells": [
  {
   "cell_type": "markdown",
   "id": "d76393d6-1814-4c4e-93f7-854e876a7b30",
   "metadata": {},
   "source": [
    "<h1>ATM machine"
   ]
  },
  {
   "cell_type": "code",
   "execution_count": 18,
   "id": "e980bde7-ebd2-45ee-9cd8-4c5bf8d76f72",
   "metadata": {},
   "outputs": [
    {
     "name": "stdin",
     "output_type": "stream",
     "text": [
      "Enter your pin number 1234\n"
     ]
    },
    {
     "name": "stdout",
     "output_type": "stream",
     "text": [
      "You only have 2 left\n",
      "Welcome to Ai walkers bank\n",
      "1. check balance\n",
      "2. deposit money\n",
      "3. withdraw money\n"
     ]
    },
    {
     "name": "stdin",
     "output_type": "stream",
     "text": [
      "select the number 2\n",
      "Enter the amount to deposit:  12000\n"
     ]
    },
    {
     "name": "stdout",
     "output_type": "stream",
     "text": [
      "Your balance is: 13000 Rs/-\n"
     ]
    }
   ],
   "source": [
    "choices = 3\n",
    "while choices>0:\n",
    "    balance= 1000\n",
    "    pin_num=int(input(\"Enter your pin number\")) #1234 is my pin\n",
    "    print(\"You only have\", choices-1, \"left\")\n",
    "    if pin_num==1234:\n",
    "        print(\"Welcome to Ai walkers bank\")\n",
    "        print(\"1. check balance\")\n",
    "        print(\"2. deposit money\")\n",
    "        print(\"3. withdraw money\")\n",
    "        user_choice = int(input(\"select the number\"))\n",
    "        if user_choice == 1:\n",
    "            print(\"Your balance is:\",balance,\"Rs/-\")\n",
    "            break\n",
    "        elif user_choice == 2:\n",
    "            amount = int(input(\"Enter the amount to deposit: \"))\n",
    "            balance = balance + amount\n",
    "            print(\"Your balance is:\",balance,\"Rs/-\")\n",
    "            break\n",
    "        elif user_choice==3:\n",
    "            with_amount = int(input(\"Enter the amount to withdraw: \"))\n",
    "            balance = balance - with_amount\n",
    "            print(\"Your balance is:\",balance,\"Rs/-\")\n",
    "            break\n",
    "        else:\n",
    "            print(\"Invalid Input\")\n",
    "\n",
    "    else:\n",
    "        print(\"PIN number is wrong\")\n",
    "        \n",
    "    choices =choices-1"
   ]
  },
  {
   "cell_type": "code",
   "execution_count": null,
   "id": "b89581e8-97b4-499b-9f7a-bcadca9e8521",
   "metadata": {},
   "outputs": [],
   "source": [
    "x = x + 2"
   ]
  },
  {
   "cell_type": "code",
   "execution_count": null,
   "id": "1748e007-3263-4961-8aad-85cc98ca5ae7",
   "metadata": {},
   "outputs": [],
   "source": []
  }
 ],
 "metadata": {
  "kernelspec": {
   "display_name": "Python 3 (ipykernel)",
   "language": "python",
   "name": "python3"
  },
  "language_info": {
   "codemirror_mode": {
    "name": "ipython",
    "version": 3
   },
   "file_extension": ".py",
   "mimetype": "text/x-python",
   "name": "python",
   "nbconvert_exporter": "python",
   "pygments_lexer": "ipython3",
   "version": "3.9.7"
  }
 },
 "nbformat": 4,
 "nbformat_minor": 5
}
