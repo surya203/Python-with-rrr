{
 "cells": [
  {
   "cell_type": "markdown",
   "id": "567a4d01-0473-446e-b4c6-0ce0ef4121cd",
   "metadata": {},
   "source": [
    "<h2>Functions"
   ]
  },
  {
   "cell_type": "code",
   "execution_count": null,
   "id": "7f8cd5df-7622-492a-a2ff-54f01d1ef67b",
   "metadata": {},
   "outputs": [],
   "source": [
    "def first(name):\n",
    "    \"\"\"\n",
    "    This function is used to print cse student names\n",
    "    \"\"\"\n",
    "    print(\"hello cse\",name)"
   ]
  },
  {
   "cell_type": "code",
   "execution_count": null,
   "id": "fcc3910f-9046-4659-8598-f2c2ae8c64d4",
   "metadata": {},
   "outputs": [],
   "source": []
  },
  {
   "cell_type": "code",
   "execution_count": null,
   "id": "468b022e-4bc4-458a-b0be-5c75ab76c2fb",
   "metadata": {},
   "outputs": [],
   "source": []
  },
  {
   "cell_type": "code",
   "execution_count": null,
   "id": "300dd0b5-7a92-47ef-8e90-b30967183720",
   "metadata": {},
   "outputs": [],
   "source": []
  },
  {
   "cell_type": "code",
   "execution_count": null,
   "id": "106c2e09-1158-49ec-a245-5a74bde67a1d",
   "metadata": {},
   "outputs": [],
   "source": []
  },
  {
   "cell_type": "code",
   "execution_count": 49,
   "id": "41f3c05b-da78-40cd-8807-e8f294dfe123",
   "metadata": {},
   "outputs": [],
   "source": [
    "def twitter(username,password):\n",
    "    for i in range(3):\n",
    "        if username==\"surya\" and password==1122:\n",
    "            print(\"welcome to twitter\")\n",
    "        else:\n",
    "            print(\"wrong details\")\n",
    "            username=input(\"enter uname:\")\n",
    "            password= int(input(\"enter password\"))"
   ]
  },
  {
   "cell_type": "code",
   "execution_count": 50,
   "id": "33c214a8-feea-43d2-9023-3dd7ab479d83",
   "metadata": {},
   "outputs": [
    {
     "name": "stdout",
     "output_type": "stream",
     "text": [
      "wrong details\n"
     ]
    },
    {
     "name": "stdin",
     "output_type": "stream",
     "text": [
      "enter uname: hedjkd\n",
      "enter password 34543\n"
     ]
    },
    {
     "name": "stdout",
     "output_type": "stream",
     "text": [
      "wrong details\n"
     ]
    },
    {
     "name": "stdin",
     "output_type": "stream",
     "text": [
      "enter uname: surya\n",
      "enter password 1122\n"
     ]
    },
    {
     "name": "stdout",
     "output_type": "stream",
     "text": [
      "welcome to twitter\n"
     ]
    }
   ],
   "source": [
    "twitter(\"surya\",1111)"
   ]
  },
  {
   "cell_type": "code",
   "execution_count": 56,
   "id": "fa43fad7-7076-4caa-9501-66e5c6982750",
   "metadata": {},
   "outputs": [
    {
     "name": "stdin",
     "output_type": "stream",
     "text": [
      "enter pin: 1122\n"
     ]
    },
    {
     "name": "stdout",
     "output_type": "stream",
     "text": [
      "welcome to bank\n",
      "1.balance\n",
      "2.deposit\n"
     ]
    },
    {
     "name": "stdin",
     "output_type": "stream",
     "text": [
      "enter your chooice 1\n"
     ]
    },
    {
     "name": "stdout",
     "output_type": "stream",
     "text": [
      "2344\n"
     ]
    }
   ],
   "source": [
    "pin = int(input(\"enter pin:\"))\n",
    "def atm(pin):\n",
    "    balance=2344\n",
    "    if pin==1122:\n",
    "        print(\"welcome to bank\")\n",
    "        print(\"1.balance\")\n",
    "        print(\"2.deposit\")\n",
    "        choice = int(input(\"enter your chooice\"))\n",
    "        if choice ==1:\n",
    "            print(balance)\n",
    "        \n",
    "atm(pin)"
   ]
  },
  {
   "cell_type": "code",
   "execution_count": 52,
   "id": "99628be2-3aff-443c-b812-735da727515d",
   "metadata": {},
   "outputs": [
    {
     "name": "stdout",
     "output_type": "stream",
     "text": [
      "welcome to bank\n"
     ]
    }
   ],
   "source": [
    "atm(1122)"
   ]
  },
  {
   "cell_type": "code",
   "execution_count": null,
   "id": "abdee16a-1d6d-4b87-96ba-10472f545549",
   "metadata": {},
   "outputs": [],
   "source": []
  },
  {
   "cell_type": "code",
   "execution_count": null,
   "id": "315424d9-f734-411d-a94b-96a7617ecb93",
   "metadata": {},
   "outputs": [],
   "source": []
  },
  {
   "cell_type": "code",
   "execution_count": null,
   "id": "91752b4d-3cd6-426d-b2e8-f8f5dfb810ab",
   "metadata": {},
   "outputs": [],
   "source": []
  },
  {
   "cell_type": "code",
   "execution_count": null,
   "id": "a7d76f59-aefa-4f0b-9930-56577cf726d1",
   "metadata": {},
   "outputs": [],
   "source": []
  },
  {
   "cell_type": "code",
   "execution_count": null,
   "id": "da8e5013-9823-4a81-932b-d796cf264ab0",
   "metadata": {},
   "outputs": [],
   "source": []
  },
  {
   "cell_type": "code",
   "execution_count": null,
   "id": "d58b298b-2350-453b-8d3d-9afe9a95b110",
   "metadata": {},
   "outputs": [],
   "source": []
  },
  {
   "cell_type": "code",
   "execution_count": null,
   "id": "78efe770-a99e-47d4-b0da-05ec189ebd0d",
   "metadata": {},
   "outputs": [],
   "source": []
  },
  {
   "cell_type": "code",
   "execution_count": null,
   "id": "d530c585-c14d-4360-b547-a49fc9cced99",
   "metadata": {},
   "outputs": [],
   "source": []
  },
  {
   "cell_type": "code",
   "execution_count": 5,
   "id": "b0da729c-127b-4c82-9d7e-f58a318a7348",
   "metadata": {},
   "outputs": [],
   "source": [
    "def greet(name):\n",
    "    \"\"\"\n",
    "    This is a function which is usedto greet a person.\n",
    "    \"\"\"\n",
    "    print(\"hello\",name)"
   ]
  },
  {
   "cell_type": "code",
   "execution_count": 7,
   "id": "0541c5c4-0a21-4393-b782-d3ea05abee9f",
   "metadata": {},
   "outputs": [
    {
     "name": "stdout",
     "output_type": "stream",
     "text": [
      "hello surya\n"
     ]
    }
   ],
   "source": [
    "greet(\"surya\")"
   ]
  },
  {
   "cell_type": "code",
   "execution_count": 8,
   "id": "21c0db65-cf7c-4d4f-a732-3a30a4a981a8",
   "metadata": {},
   "outputs": [
    {
     "name": "stdin",
     "output_type": "stream",
     "text": [
      "enter no: 23\n",
      "enter no: 34\n"
     ]
    },
    {
     "name": "stdout",
     "output_type": "stream",
     "text": [
      "57\n"
     ]
    }
   ],
   "source": [
    "num1=int(input(\"enter no:\"))\n",
    "num2=int(input(\"enter no:\"))\n",
    "print(num1+num2)"
   ]
  },
  {
   "cell_type": "code",
   "execution_count": 9,
   "id": "e24daa6a-f10f-4bd6-95d6-89e5fc48c4cc",
   "metadata": {},
   "outputs": [],
   "source": [
    "def add(num1,num2):\n",
    "    print(num1+num2)"
   ]
  },
  {
   "cell_type": "code",
   "execution_count": 15,
   "id": "805ef187-38b3-4836-bafc-feebc0129826",
   "metadata": {},
   "outputs": [
    {
     "ename": "TypeError",
     "evalue": "add() missing 1 required positional argument: 'num2'",
     "output_type": "error",
     "traceback": [
      "\u001b[1;31m---------------------------------------------------------------------------\u001b[0m",
      "\u001b[1;31mTypeError\u001b[0m                                 Traceback (most recent call last)",
      "\u001b[1;32m~\\AppData\\Local\\Temp\\ipykernel_16980\\1060480977.py\u001b[0m in \u001b[0;36m<module>\u001b[1;34m\u001b[0m\n\u001b[1;32m----> 1\u001b[1;33m \u001b[0madd\u001b[0m\u001b[1;33m(\u001b[0m\u001b[1;36m354\u001b[0m\u001b[1;33m)\u001b[0m\u001b[1;33m\u001b[0m\u001b[1;33m\u001b[0m\u001b[0m\n\u001b[0m",
      "\u001b[1;31mTypeError\u001b[0m: add() missing 1 required positional argument: 'num2'"
     ]
    }
   ],
   "source": [
    "add(354)"
   ]
  },
  {
   "cell_type": "code",
   "execution_count": 16,
   "id": "e3c037a8-9f48-418b-9b8b-316c31e42fc9",
   "metadata": {},
   "outputs": [],
   "source": [
    "#default parameterss\n",
    "\n",
    "def add(num1,num2=0):\n",
    "    print(num1+num2)"
   ]
  },
  {
   "cell_type": "code",
   "execution_count": 18,
   "id": "a2b6b41d-08cc-4127-b516-4e91d61403f0",
   "metadata": {},
   "outputs": [
    {
     "name": "stdout",
     "output_type": "stream",
     "text": [
      "100\n"
     ]
    }
   ],
   "source": [
    "add(45,55)"
   ]
  },
  {
   "cell_type": "code",
   "execution_count": 19,
   "id": "0fea0650-f650-4d2a-b463-41cd26ffd892",
   "metadata": {},
   "outputs": [],
   "source": [
    "#forms optional values\n",
    "\n",
    "def mobile(pn1,pn2=\"9XXXXXXXXX\"):\n",
    "    print(pn1,pn2)"
   ]
  },
  {
   "cell_type": "code",
   "execution_count": 21,
   "id": "2544d238-0a6a-43d3-964d-d49e0898c248",
   "metadata": {},
   "outputs": [
    {
     "name": "stdout",
     "output_type": "stream",
     "text": [
      "9393949456 9898979767\n"
     ]
    }
   ],
   "source": [
    "mobile(9393949456,9898979767)"
   ]
  },
  {
   "cell_type": "code",
   "execution_count": null,
   "id": "ad5cda18-9233-4340-879e-f13f4b5ee809",
   "metadata": {},
   "outputs": [],
   "source": []
  },
  {
   "cell_type": "code",
   "execution_count": 30,
   "id": "179c5740-d54a-4c39-9c08-29e714c23e03",
   "metadata": {},
   "outputs": [],
   "source": [
    "def add(a=0,b=0,c=0,d=0):\n",
    "    print(a+b+c+d)"
   ]
  },
  {
   "cell_type": "code",
   "execution_count": 36,
   "id": "f8ef562e-e783-4db9-9f4b-df97547a3872",
   "metadata": {},
   "outputs": [
    {
     "name": "stdout",
     "output_type": "stream",
     "text": [
      "28\n"
     ]
    }
   ],
   "source": [
    "add(5,9,6,8)"
   ]
  },
  {
   "cell_type": "code",
   "execution_count": 40,
   "id": "8e985caa-d427-460d-a472-084baf0084ca",
   "metadata": {},
   "outputs": [],
   "source": [
    "def add(*a):\n",
    "    print(sum(a))"
   ]
  },
  {
   "cell_type": "code",
   "execution_count": 44,
   "id": "992ac8f2-cc88-4947-863d-1b68714de347",
   "metadata": {},
   "outputs": [
    {
     "name": "stdout",
     "output_type": "stream",
     "text": [
      "2157\n"
     ]
    }
   ],
   "source": [
    "add(45,35,45,67,9,8,34,56,23,87,16,234,986,245,23,90,23,75,34,9,13)"
   ]
  },
  {
   "cell_type": "code",
   "execution_count": null,
   "id": "8b8e813f-eebf-451f-a062-528f005adc79",
   "metadata": {},
   "outputs": [],
   "source": []
  },
  {
   "cell_type": "code",
   "execution_count": null,
   "id": "9b66dddb-6770-485a-8b5c-0300487c8d99",
   "metadata": {},
   "outputs": [],
   "source": []
  },
  {
   "cell_type": "code",
   "execution_count": null,
   "id": "8634b50b-3fc4-4e93-a8c4-f5c78b5b36da",
   "metadata": {},
   "outputs": [],
   "source": []
  },
  {
   "cell_type": "code",
   "execution_count": null,
   "id": "802e6c9c-9f82-4663-b310-3ace93fe8e20",
   "metadata": {},
   "outputs": [],
   "source": []
  },
  {
   "cell_type": "code",
   "execution_count": null,
   "id": "45d8a6a0-e3a8-4bb4-9ae6-aaff76b5be03",
   "metadata": {},
   "outputs": [],
   "source": [
    "first(\"surya\")"
   ]
  },
  {
   "cell_type": "code",
   "execution_count": null,
   "id": "16cba03b-210b-46c1-b669-3a165ea91101",
   "metadata": {},
   "outputs": [],
   "source": [
    "def add(num1,num2):\n",
    "    print(num1+num2)"
   ]
  },
  {
   "cell_type": "code",
   "execution_count": null,
   "id": "3f579f42-2089-4b68-9c8d-190793ebf0e4",
   "metadata": {},
   "outputs": [],
   "source": [
    "add(12,45.9)"
   ]
  },
  {
   "cell_type": "code",
   "execution_count": null,
   "id": "fb4d8b3d-21ad-4b85-a1cb-f2d5e4380347",
   "metadata": {},
   "outputs": [],
   "source": [
    "def is_even(number):\n",
    "    if number%2==0:\n",
    "        return True\n",
    "    else:\n",
    "        return False"
   ]
  },
  {
   "cell_type": "code",
   "execution_count": null,
   "id": "db9242da-61a2-4ae6-8009-56fa4802f778",
   "metadata": {},
   "outputs": [],
   "source": [
    "is_even(40)"
   ]
  },
  {
   "cell_type": "code",
   "execution_count": null,
   "id": "c134f9bc-eb4f-41c0-8d40-874adc7d780c",
   "metadata": {},
   "outputs": [],
   "source": [
    "def atm(pin):\n",
    "    for i in range(3):\n",
    "        if pin ==1111:\n",
    "            print(\"welcome\")\n",
    "            break\n",
    "        else:\n",
    "            print(\"wrong pin\")\n",
    "            pin=int(input(\"Enter pin:\"))\n",
    "        "
   ]
  },
  {
   "cell_type": "code",
   "execution_count": null,
   "id": "dfb55fff-7a74-4a47-957e-610d47a863c7",
   "metadata": {},
   "outputs": [],
   "source": [
    "atm(1122)"
   ]
  },
  {
   "cell_type": "code",
   "execution_count": null,
   "id": "d226c0eb-2558-44e6-bb89-4da2d3bb4831",
   "metadata": {},
   "outputs": [],
   "source": [
    "def add(*args):\n",
    "    print(sum(args))\n",
    "    "
   ]
  },
  {
   "cell_type": "code",
   "execution_count": null,
   "id": "8706a4c4-36a4-45cd-bec3-3796a9ef60d1",
   "metadata": {},
   "outputs": [],
   "source": [
    "add(9,3,45,66,23,45,798,12)"
   ]
  },
  {
   "cell_type": "code",
   "execution_count": null,
   "id": "5c6cfd98-c26d-4bd3-b105-f57984f3341f",
   "metadata": {},
   "outputs": [],
   "source": [
    "def default(ph1,ph2=\"9XXXXXXXX\"):\n",
    "    print(ph1,ph2)"
   ]
  },
  {
   "cell_type": "code",
   "execution_count": null,
   "id": "faf2e646-11ef-435a-a93a-5e82832057e3",
   "metadata": {},
   "outputs": [],
   "source": [
    "default(9876543210, 9393949456)"
   ]
  },
  {
   "cell_type": "code",
   "execution_count": null,
   "id": "822fed2a-e469-4452-9b5b-abe9e12e3316",
   "metadata": {},
   "outputs": [],
   "source": []
  }
 ],
 "metadata": {
  "kernelspec": {
   "display_name": "Python 3 (ipykernel)",
   "language": "python",
   "name": "python3"
  },
  "language_info": {
   "codemirror_mode": {
    "name": "ipython",
    "version": 3
   },
   "file_extension": ".py",
   "mimetype": "text/x-python",
   "name": "python",
   "nbconvert_exporter": "python",
   "pygments_lexer": "ipython3",
   "version": "3.9.7"
  }
 },
 "nbformat": 4,
 "nbformat_minor": 5
}
