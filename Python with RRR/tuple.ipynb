{
 "cells": [
  {
   "cell_type": "markdown",
   "id": "8a465ec4-6860-4700-82a9-3c612da8b828",
   "metadata": {},
   "source": [
    "<h1>Tuple"
   ]
  },
  {
   "cell_type": "code",
   "execution_count": 1,
   "id": "a86858a8-126d-462e-afc4-cc3c36dd3929",
   "metadata": {},
   "outputs": [],
   "source": [
    "#tuple indication ( ) tuples\n",
    "states = (\"telangana\",\"Ap\",\"tamilnadu\",\"bihar\",\"delhi\")"
   ]
  },
  {
   "cell_type": "code",
   "execution_count": 2,
   "id": "ae1d8a0f-8865-4ad1-82c7-e9bdd65c268f",
   "metadata": {},
   "outputs": [
    {
     "data": {
      "text/plain": [
       "('telangana', 'Ap', 'tamilnadu', 'bihar', 'delhi')"
      ]
     },
     "execution_count": 2,
     "metadata": {},
     "output_type": "execute_result"
    }
   ],
   "source": [
    "states"
   ]
  },
  {
   "cell_type": "code",
   "execution_count": null,
   "id": "d9542bc1-f0ff-405a-9dc7-cd9e920c4bf9",
   "metadata": {},
   "outputs": [],
   "source": [
    "states"
   ]
  },
  {
   "cell_type": "code",
   "execution_count": null,
   "id": "8d5a87db-3f93-41bf-b147-17ae7e55dbbc",
   "metadata": {},
   "outputs": [],
   "source": []
  },
  {
   "cell_type": "code",
   "execution_count": 3,
   "id": "2725c74a-78da-4681-bb32-07ab9445bb26",
   "metadata": {},
   "outputs": [
    {
     "data": {
      "text/plain": [
       "tuple"
      ]
     },
     "execution_count": 3,
     "metadata": {},
     "output_type": "execute_result"
    }
   ],
   "source": [
    "type(states)"
   ]
  },
  {
   "cell_type": "code",
   "execution_count": null,
   "id": "15e2111b-afdc-469f-9a0f-fb7fe909aa93",
   "metadata": {},
   "outputs": [],
   "source": [
    "states"
   ]
  },
  {
   "cell_type": "code",
   "execution_count": 4,
   "id": "0df6830a-30c5-45c3-a4d0-78f5874501e5",
   "metadata": {},
   "outputs": [],
   "source": [
    "states1 = (\"telangana\",\"Ap\",\"tamilnadu\",\"bihar\",\"delhi\",\"up\")"
   ]
  },
  {
   "cell_type": "code",
   "execution_count": 5,
   "id": "3bc9993d-fe2a-4299-a869-fd44583c0607",
   "metadata": {},
   "outputs": [
    {
     "data": {
      "text/plain": [
       "('telangana', 'Ap', 'tamilnadu', 'bihar', 'delhi', 'up')"
      ]
     },
     "execution_count": 5,
     "metadata": {},
     "output_type": "execute_result"
    }
   ],
   "source": [
    "states1"
   ]
  },
  {
   "cell_type": "code",
   "execution_count": 6,
   "id": "8aabcea0-3865-423e-9ed0-21240357bbc5",
   "metadata": {},
   "outputs": [],
   "source": [
    "states_list = list(states)"
   ]
  },
  {
   "cell_type": "code",
   "execution_count": 7,
   "id": "cf1facba-6e31-49f5-a91c-43d7b47bdb21",
   "metadata": {},
   "outputs": [
    {
     "data": {
      "text/plain": [
       "['telangana', 'Ap', 'tamilnadu', 'bihar', 'delhi']"
      ]
     },
     "execution_count": 7,
     "metadata": {},
     "output_type": "execute_result"
    }
   ],
   "source": [
    "states_list"
   ]
  },
  {
   "cell_type": "code",
   "execution_count": 8,
   "id": "f54d0def-c9d1-418e-9167-6b575f8fcef9",
   "metadata": {},
   "outputs": [
    {
     "data": {
      "text/plain": [
       "list"
      ]
     },
     "execution_count": 8,
     "metadata": {},
     "output_type": "execute_result"
    }
   ],
   "source": [
    "type(states_list)"
   ]
  },
  {
   "cell_type": "code",
   "execution_count": 9,
   "id": "9512acc5-9c76-4f11-8ae0-02ff1c42bc2e",
   "metadata": {},
   "outputs": [],
   "source": [
    "states_list.append(\"jammu and kashmir\")"
   ]
  },
  {
   "cell_type": "code",
   "execution_count": 10,
   "id": "a342278f-6606-48cf-a667-4d56a52e961d",
   "metadata": {},
   "outputs": [
    {
     "data": {
      "text/plain": [
       "['telangana', 'Ap', 'tamilnadu', 'bihar', 'delhi', 'jammu and kashmir']"
      ]
     },
     "execution_count": 10,
     "metadata": {},
     "output_type": "execute_result"
    }
   ],
   "source": [
    "states_list"
   ]
  },
  {
   "cell_type": "code",
   "execution_count": 11,
   "id": "a95c8043-f91d-43a5-b65e-3909b23a9ee0",
   "metadata": {},
   "outputs": [],
   "source": [
    "states1 = tuple(states_list)"
   ]
  },
  {
   "cell_type": "code",
   "execution_count": 12,
   "id": "58548cf2-3847-4ea1-af26-a5a9545dcc45",
   "metadata": {},
   "outputs": [
    {
     "data": {
      "text/plain": [
       "('telangana', 'Ap', 'tamilnadu', 'bihar', 'delhi', 'jammu and kashmir')"
      ]
     },
     "execution_count": 12,
     "metadata": {},
     "output_type": "execute_result"
    }
   ],
   "source": [
    "states1"
   ]
  },
  {
   "cell_type": "code",
   "execution_count": null,
   "id": "e6199391-3d70-4fcb-9db6-9ff4c93c9475",
   "metadata": {},
   "outputs": [],
   "source": []
  },
  {
   "cell_type": "code",
   "execution_count": null,
   "id": "be369bb9-1e1f-4d86-855c-750dc2f7b023",
   "metadata": {},
   "outputs": [],
   "source": [
    "type(states1)"
   ]
  },
  {
   "cell_type": "code",
   "execution_count": null,
   "id": "eb35db02-c343-44dd-b73d-dbdc3bd877e1",
   "metadata": {},
   "outputs": [],
   "source": []
  },
  {
   "cell_type": "code",
   "execution_count": null,
   "id": "00030d2a-19c8-4243-bfe7-b4767166879d",
   "metadata": {},
   "outputs": [],
   "source": []
  },
  {
   "cell_type": "code",
   "execution_count": null,
   "id": "17274523-ca41-46e9-9f74-7cb92406568a",
   "metadata": {},
   "outputs": [],
   "source": []
  },
  {
   "cell_type": "code",
   "execution_count": null,
   "id": "8ec7acd1-aacc-4674-b5be-6a92fa68f5e9",
   "metadata": {},
   "outputs": [],
   "source": []
  },
  {
   "cell_type": "code",
   "execution_count": null,
   "id": "f9d069b6-ed00-4fcf-9383-847be960df5a",
   "metadata": {},
   "outputs": [],
   "source": []
  },
  {
   "cell_type": "code",
   "execution_count": null,
   "id": "2d918d3b-0d88-4951-bbef-68f892d5e6b6",
   "metadata": {},
   "outputs": [],
   "source": []
  },
  {
   "cell_type": "code",
   "execution_count": null,
   "id": "46c40af3-e8ad-4c37-b754-6728b45a24fe",
   "metadata": {},
   "outputs": [],
   "source": []
  },
  {
   "cell_type": "code",
   "execution_count": null,
   "id": "106a8caa-acad-4efa-89c6-f40a1afcfe2a",
   "metadata": {},
   "outputs": [],
   "source": []
  },
  {
   "cell_type": "code",
   "execution_count": null,
   "id": "7acedbb5-0107-4ac0-a2bc-820b0e7e3017",
   "metadata": {},
   "outputs": [],
   "source": []
  },
  {
   "cell_type": "code",
   "execution_count": null,
   "id": "f8e162e2-3b7b-4353-a526-19f132d411da",
   "metadata": {},
   "outputs": [],
   "source": []
  },
  {
   "cell_type": "code",
   "execution_count": null,
   "id": "a88f3be9-899f-4281-a9b5-0d7b94f4ef73",
   "metadata": {},
   "outputs": [],
   "source": []
  },
  {
   "cell_type": "code",
   "execution_count": 13,
   "id": "66fdcf42-28cf-49bd-897c-612bb9742103",
   "metadata": {},
   "outputs": [],
   "source": [
    "food = (\"pani puri\", \"ice cream\", \"gobi\", \"pizza\", \"milkshake\")"
   ]
  },
  {
   "cell_type": "code",
   "execution_count": 14,
   "id": "ca2cf767-b8b5-4d84-9d60-a77aff95d7bf",
   "metadata": {},
   "outputs": [
    {
     "data": {
      "text/plain": [
       "tuple"
      ]
     },
     "execution_count": 14,
     "metadata": {},
     "output_type": "execute_result"
    }
   ],
   "source": [
    "type(food)"
   ]
  },
  {
   "cell_type": "code",
   "execution_count": 15,
   "id": "735d142f-6224-44e0-9bf2-9c4af4d3ccca",
   "metadata": {},
   "outputs": [
    {
     "ename": "AttributeError",
     "evalue": "'tuple' object has no attribute 'append'",
     "output_type": "error",
     "traceback": [
      "\u001b[1;31m---------------------------------------------------------------------------\u001b[0m",
      "\u001b[1;31mAttributeError\u001b[0m                            Traceback (most recent call last)",
      "\u001b[1;32m~\\AppData\\Local\\Temp\\ipykernel_20052\\4259637938.py\u001b[0m in \u001b[0;36m<module>\u001b[1;34m\u001b[0m\n\u001b[1;32m----> 1\u001b[1;33m \u001b[0mfood\u001b[0m\u001b[1;33m.\u001b[0m\u001b[0mappend\u001b[0m\u001b[1;33m(\u001b[0m\u001b[1;34m\"idly\"\u001b[0m\u001b[1;33m)\u001b[0m\u001b[1;33m\u001b[0m\u001b[1;33m\u001b[0m\u001b[0m\n\u001b[0m",
      "\u001b[1;31mAttributeError\u001b[0m: 'tuple' object has no attribute 'append'"
     ]
    }
   ],
   "source": [
    "food.append(\"idly\")"
   ]
  },
  {
   "cell_type": "code",
   "execution_count": 16,
   "id": "8b190df8-b8c9-423a-94fe-3c2679bc7c07",
   "metadata": {},
   "outputs": [],
   "source": [
    "food_list = list(food)"
   ]
  },
  {
   "cell_type": "code",
   "execution_count": 17,
   "id": "496174a5-18bc-49fa-8959-2ff2db803894",
   "metadata": {},
   "outputs": [
    {
     "data": {
      "text/plain": [
       "['pani puri', 'ice cream', 'gobi', 'pizza', 'milkshake']"
      ]
     },
     "execution_count": 17,
     "metadata": {},
     "output_type": "execute_result"
    }
   ],
   "source": [
    "food_list"
   ]
  },
  {
   "cell_type": "code",
   "execution_count": 18,
   "id": "2ea624cb-b4a3-4ac0-8847-931212fc02da",
   "metadata": {},
   "outputs": [
    {
     "data": {
      "text/plain": [
       "list"
      ]
     },
     "execution_count": 18,
     "metadata": {},
     "output_type": "execute_result"
    }
   ],
   "source": [
    "type(food_list)"
   ]
  },
  {
   "cell_type": "code",
   "execution_count": 19,
   "id": "3d084560-2d81-4158-a701-5e89088ed461",
   "metadata": {},
   "outputs": [],
   "source": [
    "food_list.append(\"cake\")"
   ]
  },
  {
   "cell_type": "code",
   "execution_count": 20,
   "id": "f0a7d490-1138-462d-a35d-b135c70795de",
   "metadata": {},
   "outputs": [
    {
     "data": {
      "text/plain": [
       "['pani puri', 'ice cream', 'gobi', 'pizza', 'milkshake', 'cake']"
      ]
     },
     "execution_count": 20,
     "metadata": {},
     "output_type": "execute_result"
    }
   ],
   "source": [
    "food_list"
   ]
  },
  {
   "cell_type": "code",
   "execution_count": 21,
   "id": "448a0cbf-d9de-4480-8670-5c3f36d4aa85",
   "metadata": {},
   "outputs": [],
   "source": [
    "food = tuple(food_list)"
   ]
  },
  {
   "cell_type": "code",
   "execution_count": 22,
   "id": "7daff836-b0fb-4c79-8444-509cdf549423",
   "metadata": {},
   "outputs": [
    {
     "data": {
      "text/plain": [
       "('pani puri', 'ice cream', 'gobi', 'pizza', 'milkshake', 'cake')"
      ]
     },
     "execution_count": 22,
     "metadata": {},
     "output_type": "execute_result"
    }
   ],
   "source": [
    "food"
   ]
  },
  {
   "cell_type": "markdown",
   "id": "4088a0b8-6d8c-4789-afe5-1eb178be8347",
   "metadata": {},
   "source": [
    "1. created a tuple\n",
    "2. cnvrt into List\n",
    "3. Added my data\n",
    "4. again cnvrt that list into tuple"
   ]
  },
  {
   "cell_type": "code",
   "execution_count": 4,
   "id": "097ede02-ade5-4525-97dd-675d7e12d469",
   "metadata": {},
   "outputs": [],
   "source": [
    "drinks = (\"coke\",\"sprit\",\"limca\",\"thumps up\",\"slice\",\"maza\")"
   ]
  },
  {
   "cell_type": "code",
   "execution_count": 5,
   "id": "94590775-8f98-4436-8ccd-a3a6f4949c1a",
   "metadata": {},
   "outputs": [
    {
     "data": {
      "text/plain": [
       "('coke', 'sprit', 'limca', 'thumps up', 'slice', 'maza')"
      ]
     },
     "execution_count": 5,
     "metadata": {},
     "output_type": "execute_result"
    }
   ],
   "source": [
    "drinks"
   ]
  },
  {
   "cell_type": "code",
   "execution_count": 6,
   "id": "78333709-3113-4bc4-98d3-378d364f84b5",
   "metadata": {},
   "outputs": [],
   "source": [
    "drinks_list = list(drinks)"
   ]
  },
  {
   "cell_type": "code",
   "execution_count": 7,
   "id": "e852946c-9ffd-4fc6-a5c5-7bff8792491d",
   "metadata": {},
   "outputs": [
    {
     "data": {
      "text/plain": [
       "['coke', 'sprit', 'limca', 'thumps up', 'slice', 'maza']"
      ]
     },
     "execution_count": 7,
     "metadata": {},
     "output_type": "execute_result"
    }
   ],
   "source": [
    "drinks_list"
   ]
  },
  {
   "cell_type": "code",
   "execution_count": null,
   "id": "ee0256cb-398a-4434-8b84-c0adc212f713",
   "metadata": {},
   "outputs": [],
   "source": [
    "drinks_list.insert(2,\"fizz\")"
   ]
  },
  {
   "cell_type": "code",
   "execution_count": null,
   "id": "db37d3de-c0ab-4d5f-82a8-3686f9a1827a",
   "metadata": {},
   "outputs": [],
   "source": [
    "drinks_list"
   ]
  },
  {
   "cell_type": "code",
   "execution_count": null,
   "id": "356912d7-1a64-4ddf-b2d7-df009e4cc044",
   "metadata": {},
   "outputs": [],
   "source": [
    "drinks = tuple(drinks_list)"
   ]
  },
  {
   "cell_type": "code",
   "execution_count": null,
   "id": "dea51a2c-c983-4f96-9487-613c6c34fb31",
   "metadata": {},
   "outputs": [],
   "source": [
    "drinks"
   ]
  },
  {
   "cell_type": "code",
   "execution_count": null,
   "id": "c7544c85-699a-498a-a0a8-3416e456eaf0",
   "metadata": {},
   "outputs": [],
   "source": [
    "drinks[1]"
   ]
  },
  {
   "cell_type": "code",
   "execution_count": null,
   "id": "12d6e257-8260-428b-aa63-a97c938fd3bd",
   "metadata": {},
   "outputs": [],
   "source": [
    "drinks[:5]"
   ]
  },
  {
   "cell_type": "code",
   "execution_count": null,
   "id": "2616516f-8dcc-4129-a640-1876cebd16cf",
   "metadata": {},
   "outputs": [],
   "source": []
  },
  {
   "cell_type": "code",
   "execution_count": null,
   "id": "143d3063-74b3-4dc4-85ac-41a3d02ac3f5",
   "metadata": {},
   "outputs": [],
   "source": []
  },
  {
   "cell_type": "code",
   "execution_count": 23,
   "id": "42ab71a9-b2b1-45ab-adef-d890404443fa",
   "metadata": {},
   "outputs": [],
   "source": [
    "#unpack\n",
    "fruits = (\"apple\",\"banana\",\"orange\",\"cherry\")"
   ]
  },
  {
   "cell_type": "code",
   "execution_count": 24,
   "id": "b8b8c419-e93c-4d72-8a4e-a5d6921d087b",
   "metadata": {},
   "outputs": [
    {
     "data": {
      "text/plain": [
       "('apple', 'banana', 'orange', 'cherry')"
      ]
     },
     "execution_count": 24,
     "metadata": {},
     "output_type": "execute_result"
    }
   ],
   "source": [
    "fruits"
   ]
  },
  {
   "cell_type": "code",
   "execution_count": 29,
   "id": "835b1190-3f79-4f15-b2f8-2af7ca7152e0",
   "metadata": {},
   "outputs": [],
   "source": [
    "fruit1,fruit2,fruit3,fruits4 = fruits"
   ]
  },
  {
   "cell_type": "code",
   "execution_count": 26,
   "id": "23caa011-571c-4c86-8b9d-b16651590b32",
   "metadata": {},
   "outputs": [
    {
     "name": "stdout",
     "output_type": "stream",
     "text": [
      "(501, 502, 503, 504)\n",
      "501 502 503 504\n"
     ]
    }
   ],
   "source": [
    "id_num = (501,502, 503, 504)\n",
    "print(id_num)\n",
    "student1, student2, student3, student4 = id_num\n",
    "print(student1, student2, student3, student4)"
   ]
  },
  {
   "cell_type": "code",
   "execution_count": 32,
   "id": "1045f30f-5509-40d6-baec-339973d42358",
   "metadata": {},
   "outputs": [
    {
     "data": {
      "text/plain": [
       "'cherry'"
      ]
     },
     "execution_count": 32,
     "metadata": {},
     "output_type": "execute_result"
    }
   ],
   "source": [
    "fruits4"
   ]
  },
  {
   "cell_type": "code",
   "execution_count": 33,
   "id": "4754ce28-01af-4663-80ec-3b9fa722f744",
   "metadata": {},
   "outputs": [
    {
     "data": {
      "text/plain": [
       "501"
      ]
     },
     "execution_count": 33,
     "metadata": {},
     "output_type": "execute_result"
    }
   ],
   "source": [
    "student1"
   ]
  },
  {
   "cell_type": "code",
   "execution_count": null,
   "id": "5fc1e98f-784f-4c08-a2e6-4cef264e0edc",
   "metadata": {},
   "outputs": [],
   "source": []
  },
  {
   "cell_type": "code",
   "execution_count": null,
   "id": "578cf973-ef47-4ee4-bfab-dc0962ebe778",
   "metadata": {},
   "outputs": [],
   "source": []
  },
  {
   "cell_type": "code",
   "execution_count": null,
   "id": "d4775a84-fb19-47ce-8d49-c2c2498ba48d",
   "metadata": {},
   "outputs": [],
   "source": []
  },
  {
   "cell_type": "code",
   "execution_count": null,
   "id": "3233c53b-fceb-4ded-aec5-f3cb283fe7ac",
   "metadata": {},
   "outputs": [],
   "source": []
  },
  {
   "cell_type": "code",
   "execution_count": 34,
   "id": "a990694d-8d08-4c19-a3cb-d4987aeeb577",
   "metadata": {},
   "outputs": [],
   "source": [
    "marks = (56,78,94,78)\n",
    "surya, pradeep, rk, chandu = marks\n"
   ]
  },
  {
   "cell_type": "code",
   "execution_count": 36,
   "id": "a1a34407-ad08-427d-b54c-2dc4212227dc",
   "metadata": {},
   "outputs": [
    {
     "data": {
      "text/plain": [
       "56"
      ]
     },
     "execution_count": 36,
     "metadata": {},
     "output_type": "execute_result"
    }
   ],
   "source": [
    "surya"
   ]
  },
  {
   "cell_type": "code",
   "execution_count": null,
   "id": "d4c3276c-e970-4ebc-be96-b99779de29e2",
   "metadata": {},
   "outputs": [],
   "source": []
  },
  {
   "cell_type": "code",
   "execution_count": null,
   "id": "37fe4321-2191-4228-ba14-9ae84b47ec7b",
   "metadata": {},
   "outputs": [],
   "source": []
  },
  {
   "cell_type": "code",
   "execution_count": null,
   "id": "87a1b2cb-83e7-4b45-b09b-defbb69cb60c",
   "metadata": {},
   "outputs": [],
   "source": []
  },
  {
   "cell_type": "code",
   "execution_count": null,
   "id": "277427c3-0c11-4a08-b2e8-30ed28889971",
   "metadata": {},
   "outputs": [],
   "source": []
  },
  {
   "cell_type": "code",
   "execution_count": 37,
   "id": "d4e18b72-50a6-49de-844d-cad51f2002ca",
   "metadata": {},
   "outputs": [
    {
     "name": "stdout",
     "output_type": "stream",
     "text": [
      "(1, 2, 3, 4, 5, 6, 7, 8)\n"
     ]
    }
   ],
   "source": [
    "#join\n",
    "tuple1 = (1,2,3,4)\n",
    "tuple2 = (5,6,7,8)\n",
    "\n",
    "print(tuple1 + tuple2)"
   ]
  },
  {
   "cell_type": "code",
   "execution_count": 38,
   "id": "6b1da846-61a2-4166-90b9-1bb4f67b7584",
   "metadata": {},
   "outputs": [
    {
     "data": {
      "text/plain": [
       "(1, 2, 3, 4, 1, 2, 3, 4, 1, 2, 3, 4, 1, 2, 3, 4, 1, 2, 3, 4)"
      ]
     },
     "execution_count": 38,
     "metadata": {},
     "output_type": "execute_result"
    }
   ],
   "source": [
    "tuple1 * 5"
   ]
  },
  {
   "cell_type": "code",
   "execution_count": 40,
   "id": "89c52d22-f102-4509-9c30-5cc0ec9bbfa2",
   "metadata": {},
   "outputs": [
    {
     "name": "stdout",
     "output_type": "stream",
     "text": [
      "surya surya surya surya surya surya surya surya surya surya \n"
     ]
    }
   ],
   "source": [
    "print(\"shiva \"*10)"
   ]
  },
  {
   "cell_type": "code",
   "execution_count": null,
   "id": "9c6966c1-3870-42a1-8843-e65ed68eec01",
   "metadata": {},
   "outputs": [],
   "source": [
    "l1 = [1,2,3]\n",
    "l2 = [2,3,4]\n",
    "l1+l2"
   ]
  },
  {
   "cell_type": "code",
   "execution_count": null,
   "id": "536a6a5b-4c3f-495d-a6b1-d2a2ded0a79a",
   "metadata": {},
   "outputs": [],
   "source": []
  },
  {
   "cell_type": "code",
   "execution_count": null,
   "id": "77fd8036-a757-44df-9b4c-fdcbf7b67aa0",
   "metadata": {},
   "outputs": [],
   "source": []
  },
  {
   "cell_type": "code",
   "execution_count": null,
   "id": "1765d53c-cbf5-492d-b382-2ca87e73aeb8",
   "metadata": {},
   "outputs": [],
   "source": []
  },
  {
   "cell_type": "code",
   "execution_count": 8,
   "id": "623ffe62-22a7-45d0-8d9b-ab95e855ba64",
   "metadata": {},
   "outputs": [],
   "source": [
    "c1 = (1234,2345,3456,4567)"
   ]
  },
  {
   "cell_type": "code",
   "execution_count": 9,
   "id": "4e8efbac-d3df-4631-9645-87566e1a58bd",
   "metadata": {},
   "outputs": [],
   "source": [
    "c2=(4321,5432,6543,7654)"
   ]
  },
  {
   "cell_type": "code",
   "execution_count": 10,
   "id": "60abc1c2-e4fb-481b-9537-73e05cad2675",
   "metadata": {},
   "outputs": [
    {
     "data": {
      "text/plain": [
       "(1234, 2345, 3456, 4567, 4321, 5432, 6543, 7654)"
      ]
     },
     "execution_count": 10,
     "metadata": {},
     "output_type": "execute_result"
    }
   ],
   "source": [
    "c1+c2"
   ]
  },
  {
   "cell_type": "code",
   "execution_count": 17,
   "id": "6796069f-e457-4b59-ac77-d9ca140b196d",
   "metadata": {},
   "outputs": [],
   "source": []
  },
  {
   "cell_type": "code",
   "execution_count": 18,
   "id": "7c671af1-8f74-49eb-8f5b-d785a1ffade5",
   "metadata": {},
   "outputs": [],
   "source": [
    "marks=(95.5,95.8,97.0,98.1,99.7)"
   ]
  },
  {
   "cell_type": "code",
   "execution_count": 21,
   "id": "602e5399-1f2a-43cf-93ab-fefe37f64ee4",
   "metadata": {},
   "outputs": [],
   "source": [
    "chandu,chitti,chinna,lucky,likki = marks"
   ]
  },
  {
   "cell_type": "code",
   "execution_count": 24,
   "id": "64a13a34-ef4a-477e-886a-4a048408d8db",
   "metadata": {},
   "outputs": [
    {
     "data": {
      "text/plain": [
       "97.0"
      ]
     },
     "execution_count": 24,
     "metadata": {},
     "output_type": "execute_result"
    }
   ],
   "source": [
    "chinna"
   ]
  },
  {
   "cell_type": "code",
   "execution_count": null,
   "id": "eecc6b13-4ea0-4fbd-bfb5-96cd4d79dbaf",
   "metadata": {},
   "outputs": [],
   "source": []
  },
  {
   "cell_type": "code",
   "execution_count": null,
   "id": "8ac76605-9ae1-459c-9e79-6b02229e8ef0",
   "metadata": {},
   "outputs": [],
   "source": []
  },
  {
   "cell_type": "code",
   "execution_count": null,
   "id": "678b65e7-dd62-4efe-b012-991b2b041798",
   "metadata": {},
   "outputs": [],
   "source": []
  },
  {
   "cell_type": "code",
   "execution_count": null,
   "id": "3a4d6622-6a70-4e4d-ad57-8d44095c9673",
   "metadata": {},
   "outputs": [],
   "source": []
  }
 ],
 "metadata": {
  "kernelspec": {
   "display_name": "Python 3 (ipykernel)",
   "language": "python",
   "name": "python3"
  },
  "language_info": {
   "codemirror_mode": {
    "name": "ipython",
    "version": 3
   },
   "file_extension": ".py",
   "mimetype": "text/x-python",
   "name": "python",
   "nbconvert_exporter": "python",
   "pygments_lexer": "ipython3",
   "version": "3.9.7"
  }
 },
 "nbformat": 4,
 "nbformat_minor": 5
}
