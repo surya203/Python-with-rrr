{
 "cells": [
  {
   "cell_type": "markdown",
   "id": "949f14b4-f095-4585-b068-fa538da9f831",
   "metadata": {},
   "source": [
    "<h1>While loops"
   ]
  },
  {
   "cell_type": "code",
   "execution_count": null,
   "id": "62a30b21-6941-4ff3-8405-a2624386aae3",
   "metadata": {},
   "outputs": [],
   "source": [
    "#For loop\n",
    "#while loop"
   ]
  },
  {
   "cell_type": "code",
   "execution_count": 1,
   "id": "7761be2d-2b74-494e-b16c-5a2536d3813f",
   "metadata": {},
   "outputs": [
    {
     "name": "stdout",
     "output_type": "stream",
     "text": [
      "1\n",
      "2\n",
      "4\n",
      "6\n",
      "7\n",
      "3\n",
      "4\n",
      "5\n",
      "6\n"
     ]
    }
   ],
   "source": [
    "list1 =[1,2,4,6,7,3,4,5,6]\n",
    "for i in list1:\n",
    "    print(i)"
   ]
  },
  {
   "cell_type": "code",
   "execution_count": 6,
   "id": "bc5afe73-274e-4cdb-b20e-918387b91ee1",
   "metadata": {},
   "outputs": [
    {
     "name": "stdin",
     "output_type": "stream",
     "text": [
      "enter pin 3547\n"
     ]
    },
    {
     "name": "stdout",
     "output_type": "stream",
     "text": [
      "wrong pin\n"
     ]
    },
    {
     "name": "stdin",
     "output_type": "stream",
     "text": [
      "enter pin 546\n"
     ]
    },
    {
     "name": "stdout",
     "output_type": "stream",
     "text": [
      "wrong pin\n"
     ]
    },
    {
     "name": "stdin",
     "output_type": "stream",
     "text": [
      "enter pin 43\n"
     ]
    },
    {
     "name": "stdout",
     "output_type": "stream",
     "text": [
      "wrong pin\n"
     ]
    },
    {
     "name": "stdin",
     "output_type": "stream",
     "text": [
      "enter pin 67765\n"
     ]
    },
    {
     "name": "stdout",
     "output_type": "stream",
     "text": [
      "wrong pin\n"
     ]
    },
    {
     "name": "stdin",
     "output_type": "stream",
     "text": [
      "enter pin 2334435\n"
     ]
    },
    {
     "name": "stdout",
     "output_type": "stream",
     "text": [
      "wrong pin\n"
     ]
    },
    {
     "name": "stdin",
     "output_type": "stream",
     "text": [
      "enter pin 3245676743\n"
     ]
    },
    {
     "name": "stdout",
     "output_type": "stream",
     "text": [
      "wrong pin\n"
     ]
    },
    {
     "name": "stdin",
     "output_type": "stream",
     "text": [
      "enter pin 5\n"
     ]
    },
    {
     "name": "stdout",
     "output_type": "stream",
     "text": [
      "wrong pin\n"
     ]
    },
    {
     "name": "stdin",
     "output_type": "stream",
     "text": [
      "enter pin 3674657\n"
     ]
    },
    {
     "name": "stdout",
     "output_type": "stream",
     "text": [
      "wrong pin\n"
     ]
    },
    {
     "name": "stdin",
     "output_type": "stream",
     "text": [
      "enter pin 74667845\n"
     ]
    },
    {
     "name": "stdout",
     "output_type": "stream",
     "text": [
      "wrong pin\n"
     ]
    },
    {
     "name": "stdin",
     "output_type": "stream",
     "text": [
      "enter pin 3475578\n"
     ]
    },
    {
     "name": "stdout",
     "output_type": "stream",
     "text": [
      "wrong pin\n"
     ]
    },
    {
     "name": "stdin",
     "output_type": "stream",
     "text": [
      "enter pin 3435\n"
     ]
    },
    {
     "name": "stdout",
     "output_type": "stream",
     "text": [
      "wrong pin\n"
     ]
    },
    {
     "name": "stdin",
     "output_type": "stream",
     "text": [
      "enter pin 437863\n"
     ]
    },
    {
     "name": "stdout",
     "output_type": "stream",
     "text": [
      "wrong pin\n"
     ]
    },
    {
     "name": "stdin",
     "output_type": "stream",
     "text": [
      "enter pin 1234\n"
     ]
    },
    {
     "name": "stdout",
     "output_type": "stream",
     "text": [
      "welcome to bank\n"
     ]
    }
   ],
   "source": [
    "pin = int(input(\"enter pin\"))\n",
    "\n",
    "while pin!=1234:\n",
    "    print(\"wrong pin\")\n",
    "    pin = int(input(\"enter pin\"))\n",
    "else:\n",
    "    print(\"welcome to bank\")\n",
    "    \n",
    "    \n",
    "    "
   ]
  },
  {
   "cell_type": "code",
   "execution_count": 11,
   "id": "6fdb30d5-168a-4a64-bfb7-9a08400d9a01",
   "metadata": {},
   "outputs": [
    {
     "name": "stdout",
     "output_type": "stream",
     "text": [
      "10\n",
      "try again in next Exam\n",
      "20\n",
      "try again in next Exam\n",
      "30\n",
      "try again in next Exam\n",
      "40\n",
      "try again in next Exam\n"
     ]
    }
   ],
   "source": [
    "#while\n",
    "my_marks = 0\n",
    "\n",
    "while my_marks < 39:\n",
    "    my_marks = my_marks + 10\n",
    "    print(my_marks)\n",
    "    print(\"try again in next Exam\")"
   ]
  },
  {
   "cell_type": "code",
   "execution_count": null,
   "id": "0504b971-acd2-4568-bf44-ffcd53dcfb4d",
   "metadata": {},
   "outputs": [],
   "source": []
  },
  {
   "cell_type": "code",
   "execution_count": 13,
   "id": "f8ead90a-34a0-44c1-9f7e-52ef226a27e8",
   "metadata": {},
   "outputs": [
    {
     "name": "stdout",
     "output_type": "stream",
     "text": [
      "200\n",
      "199\n",
      "198\n",
      "197\n",
      "196\n",
      "195\n",
      "194\n",
      "193\n",
      "192\n",
      "191\n",
      "190\n",
      "189\n",
      "188\n",
      "187\n",
      "186\n",
      "185\n",
      "184\n",
      "183\n",
      "182\n",
      "181\n",
      "180\n",
      "179\n",
      "178\n",
      "177\n",
      "176\n",
      "175\n",
      "174\n",
      "173\n",
      "172\n",
      "171\n",
      "170\n",
      "169\n",
      "168\n",
      "167\n",
      "166\n",
      "165\n",
      "164\n",
      "163\n",
      "162\n",
      "161\n",
      "160\n",
      "159\n",
      "158\n",
      "157\n",
      "156\n",
      "155\n",
      "154\n",
      "153\n",
      "152\n",
      "151\n",
      "150\n",
      "149\n",
      "148\n",
      "147\n",
      "146\n",
      "145\n",
      "144\n",
      "143\n",
      "142\n",
      "141\n",
      "140\n",
      "139\n",
      "138\n",
      "137\n",
      "136\n",
      "135\n",
      "134\n",
      "133\n",
      "132\n",
      "131\n",
      "130\n",
      "129\n",
      "128\n",
      "127\n",
      "126\n",
      "125\n",
      "124\n",
      "123\n",
      "122\n",
      "121\n",
      "120\n",
      "119\n",
      "118\n",
      "117\n",
      "116\n",
      "115\n",
      "114\n",
      "113\n",
      "112\n",
      "111\n",
      "110\n",
      "109\n",
      "108\n",
      "107\n",
      "106\n",
      "105\n",
      "104\n",
      "103\n",
      "102\n",
      "101\n",
      "100\n",
      "99\n",
      "98\n",
      "97\n",
      "96\n",
      "95\n",
      "94\n",
      "93\n",
      "92\n",
      "91\n",
      "90\n",
      "89\n",
      "88\n",
      "87\n",
      "86\n",
      "85\n",
      "84\n",
      "83\n",
      "82\n",
      "81\n",
      "80\n",
      "79\n",
      "78\n",
      "77\n",
      "76\n",
      "75\n",
      "74\n",
      "73\n",
      "72\n",
      "71\n",
      "70\n",
      "69\n",
      "68\n",
      "67\n",
      "66\n",
      "65\n",
      "64\n",
      "63\n",
      "62\n",
      "61\n",
      "60\n",
      "59\n",
      "58\n",
      "57\n",
      "56\n",
      "55\n",
      "54\n",
      "53\n",
      "52\n",
      "51\n",
      "50\n",
      "49\n",
      "48\n",
      "47\n",
      "46\n",
      "45\n",
      "44\n",
      "43\n",
      "42\n",
      "41\n",
      "40\n",
      "39\n",
      "38\n",
      "37\n",
      "36\n",
      "35\n",
      "34\n",
      "33\n",
      "32\n",
      "31\n",
      "30\n",
      "29\n",
      "28\n",
      "27\n",
      "26\n",
      "25\n",
      "24\n",
      "23\n",
      "22\n",
      "21\n",
      "20\n",
      "19\n",
      "18\n",
      "17\n",
      "16\n",
      "15\n",
      "14\n",
      "13\n",
      "12\n",
      "11\n",
      "10\n"
     ]
    }
   ],
   "source": [
    "x =200\n",
    "\n",
    "\n",
    "while x>=10:\n",
    "    print(x)\n",
    "    x = x-1\n",
    "\n",
    "# 20, 19 , 18 17 16 15 10"
   ]
  },
  {
   "cell_type": "code",
   "execution_count": null,
   "id": "d2115fd7-c983-475f-a109-21d86c4930b7",
   "metadata": {},
   "outputs": [],
   "source": [
    "num =20"
   ]
  },
  {
   "cell_type": "code",
   "execution_count": 16,
   "id": "38f5e9cd-172a-4504-8927-7d580c84bf1e",
   "metadata": {},
   "outputs": [
    {
     "name": "stdout",
     "output_type": "stream",
     "text": [
      "five 20\n",
      "19\n",
      "18\n",
      "17\n",
      "16\n",
      "five 15\n",
      "14\n",
      "13\n",
      "12\n",
      "11\n",
      "five 10\n",
      "9\n",
      "8\n",
      "7\n",
      "6\n",
      "five 5\n",
      "4\n",
      "3\n",
      "2\n",
      "1\n"
     ]
    }
   ],
   "source": [
    "#15 stop\n",
    "num=20\n",
    "while num>0:\n",
    "    if num%5==0:\n",
    "        print(\"five\",num)\n",
    "        num=num-1\n",
    "    else:\n",
    "        \n",
    "        print(num)\n",
    "        num = num-1"
   ]
  },
  {
   "cell_type": "code",
   "execution_count": 17,
   "id": "4d8ccd96-50f3-45a2-90ed-2a7b218b6cc0",
   "metadata": {},
   "outputs": [
    {
     "name": "stdout",
     "output_type": "stream",
     "text": [
      "three\n",
      "1\n",
      "2\n",
      "three\n",
      "4\n",
      "5\n",
      "three\n",
      "7\n",
      "8\n",
      "three\n",
      "10\n",
      "11\n",
      "three\n",
      "13\n",
      "14\n",
      "three\n",
      "16\n",
      "17\n",
      "three\n",
      "19\n"
     ]
    }
   ],
   "source": [
    "for i in range(20):\n",
    "    if i%3==0:\n",
    "        print(\"three\")\n",
    "    else:\n",
    "        print(i)"
   ]
  },
  {
   "cell_type": "code",
   "execution_count": null,
   "id": "8cfd770a-5076-4cdf-8427-8b822414027e",
   "metadata": {},
   "outputs": [],
   "source": []
  },
  {
   "cell_type": "code",
   "execution_count": null,
   "id": "6b468490-358a-49ce-aa79-18da907c667b",
   "metadata": {},
   "outputs": [],
   "source": []
  },
  {
   "cell_type": "code",
   "execution_count": 19,
   "id": "2015d110-1f26-43e8-b0db-fdfc79a404e2",
   "metadata": {},
   "outputs": [
    {
     "name": "stdin",
     "output_type": "stream",
     "text": [
      "Enter a number:  34\n",
      "Enter a number:  56\n",
      "Enter a number:  98\n",
      "Enter a number:  23\n",
      "Enter a number:  0\n"
     ]
    },
    {
     "name": "stdout",
     "output_type": "stream",
     "text": [
      "total = 211\n"
     ]
    }
   ],
   "source": [
    "# program to calculate the sum of numbers\n",
    "# until the user enters zero\n",
    "\n",
    "total = 0\n",
    "\n",
    "number = int(input('Enter a number: '))\n",
    "\n",
    "# add numbers until number is zero\n",
    "while number != 0:\n",
    "    total = total + number    # total = total + number\n",
    "    \n",
    "    # take integer input again\n",
    "    number = int(input('Enter a number: '))\n",
    "    \n",
    "\n",
    "print('total =', total)"
   ]
  },
  {
   "cell_type": "code",
   "execution_count": null,
   "id": "a2322f2f-fe9c-451f-827b-1fc4312645a2",
   "metadata": {},
   "outputs": [],
   "source": []
  },
  {
   "cell_type": "code",
   "execution_count": 20,
   "id": "cad81961-70da-435b-a638-458cabe50792",
   "metadata": {},
   "outputs": [
    {
     "name": "stdout",
     "output_type": "stream",
     "text": [
      "Inside while\n",
      "Inside while\n",
      "Inside while\n",
      "Inside else\n"
     ]
    }
   ],
   "source": [
    "counter = 0\n",
    "\n",
    "while counter < 3:\n",
    "    print('Inside while')\n",
    "    counter = counter + 1\n",
    "else:\n",
    "    print('Inside else')"
   ]
  },
  {
   "cell_type": "code",
   "execution_count": null,
   "id": "e1fd9523-3402-473e-9798-5e7891837c68",
   "metadata": {},
   "outputs": [],
   "source": []
  },
  {
   "cell_type": "code",
   "execution_count": null,
   "id": "750321c0-32ae-42fb-94e1-92db2ad22d73",
   "metadata": {},
   "outputs": [],
   "source": []
  },
  {
   "cell_type": "code",
   "execution_count": null,
   "id": "65e15778-6721-4294-9aca-09cc4e3bb14d",
   "metadata": {},
   "outputs": [],
   "source": []
  },
  {
   "cell_type": "code",
   "execution_count": null,
   "id": "13606475-7e10-4f38-901e-5135649ae04d",
   "metadata": {},
   "outputs": [],
   "source": []
  },
  {
   "cell_type": "code",
   "execution_count": null,
   "id": "88b53d82-d63f-4a7f-b32d-04dbeefafcf3",
   "metadata": {},
   "outputs": [],
   "source": []
  },
  {
   "cell_type": "code",
   "execution_count": null,
   "id": "35be54a0-be1b-426f-818b-f4b85341bbda",
   "metadata": {},
   "outputs": [],
   "source": []
  },
  {
   "cell_type": "code",
   "execution_count": null,
   "id": "ac796146-def6-429c-9e90-5709fcb95f55",
   "metadata": {},
   "outputs": [],
   "source": []
  },
  {
   "cell_type": "code",
   "execution_count": null,
   "id": "0794600b-8ecb-465b-90d8-57733e02c2a7",
   "metadata": {},
   "outputs": [],
   "source": []
  },
  {
   "cell_type": "code",
   "execution_count": null,
   "id": "464c5ba1-a7a4-4c19-accc-ce71eec57ef0",
   "metadata": {},
   "outputs": [],
   "source": []
  },
  {
   "cell_type": "code",
   "execution_count": null,
   "id": "8c025716-7bf2-4c12-8213-2fde3c7b8073",
   "metadata": {},
   "outputs": [],
   "source": []
  },
  {
   "cell_type": "code",
   "execution_count": null,
   "id": "99cead54-1c0d-4e32-8d69-17674efead07",
   "metadata": {},
   "outputs": [],
   "source": []
  },
  {
   "cell_type": "code",
   "execution_count": null,
   "id": "02358860-5413-475f-b153-db8d16d250a8",
   "metadata": {},
   "outputs": [],
   "source": []
  },
  {
   "cell_type": "code",
   "execution_count": null,
   "id": "9bdba5c4-b165-4acf-818a-f015dc8f3707",
   "metadata": {},
   "outputs": [],
   "source": []
  },
  {
   "cell_type": "code",
   "execution_count": null,
   "id": "2aa2dad6-e99c-4635-8037-f8853803322b",
   "metadata": {},
   "outputs": [],
   "source": []
  },
  {
   "cell_type": "code",
   "execution_count": null,
   "id": "38743963-ecce-49f5-a7af-9c4d08e6be4e",
   "metadata": {},
   "outputs": [],
   "source": []
  },
  {
   "cell_type": "code",
   "execution_count": null,
   "id": "bafe034f-695c-46a6-b5e1-b5f237ee93f8",
   "metadata": {},
   "outputs": [],
   "source": []
  },
  {
   "cell_type": "code",
   "execution_count": null,
   "id": "3ad97a9e-afc8-4a5a-ac54-16c94413536c",
   "metadata": {},
   "outputs": [],
   "source": []
  },
  {
   "cell_type": "code",
   "execution_count": null,
   "id": "836e2f8e-afa1-4af4-9234-6199535918e9",
   "metadata": {},
   "outputs": [],
   "source": []
  },
  {
   "cell_type": "code",
   "execution_count": null,
   "id": "a400d53a-bbb0-4619-a221-e42addbe0d61",
   "metadata": {},
   "outputs": [],
   "source": []
  },
  {
   "cell_type": "code",
   "execution_count": null,
   "id": "27b368e4-54ca-4b1f-8452-de16aca3f588",
   "metadata": {},
   "outputs": [],
   "source": [
    "count = 0\n",
    "\n",
    "while count<101:\n",
    "    print(count)\n",
    "    count = count+10"
   ]
  },
  {
   "cell_type": "code",
   "execution_count": null,
   "id": "9d87d2ed-a96d-412b-bd6e-13322ae4a8e5",
   "metadata": {},
   "outputs": [],
   "source": [
    "credit_score = int(input(\"Enter your credit score\"))\n",
    "\n",
    "while credit_score<400:\n",
    "    print(\"Your score is not met with our req\")\n",
    "    break"
   ]
  },
  {
   "cell_type": "code",
   "execution_count": null,
   "id": "d6aacd73-e4a9-4449-9464-71886e066318",
   "metadata": {},
   "outputs": [],
   "source": []
  },
  {
   "cell_type": "markdown",
   "id": "56951512-720e-437e-979b-cc5eab40db2e",
   "metadata": {},
   "source": [
    "<h1> skills"
   ]
  },
  {
   "cell_type": "code",
   "execution_count": 14,
   "id": "c569565f-1848-4ce6-a389-26ca926dbfac",
   "metadata": {},
   "outputs": [
    {
     "name": "stdout",
     "output_type": "stream",
     "text": [
      "day 1 skills 0\n",
      "day 2 skills 10\n",
      "day 3 skills 15\n",
      "day 4 skills 22\n",
      "day 5 skills 31\n",
      "day 6 skills 42\n"
     ]
    }
   ],
   "source": [
    "skills = 0\n",
    "day = 1\n",
    "num=5\n",
    "print(\"day\",day,\"skills\",skills)\n",
    "while skills<32:\n",
    "    if skills<10:\n",
    "        skills=skills+10\n",
    "        day=day+1\n",
    "        print(\"day\",day,\"skills\",skills)\n",
    "    else:\n",
    "        skills = skills+num\n",
    "        day=day+1\n",
    "        print(\"day\",day,\"skills\",skills)\n",
    "        num = num+2"
   ]
  },
  {
   "cell_type": "code",
   "execution_count": null,
   "id": "1c67bbaa-6579-4904-9fc4-09f5f1cb0545",
   "metadata": {},
   "outputs": [],
   "source": [
    "\n",
    "\n",
    "\n"
   ]
  },
  {
   "cell_type": "code",
   "execution_count": null,
   "id": "61ed0d6f-dbda-4b47-b782-662716fce62d",
   "metadata": {},
   "outputs": [],
   "source": []
  },
  {
   "cell_type": "code",
   "execution_count": null,
   "id": "6ac44dbe-acd9-471f-b12c-a98413a944dc",
   "metadata": {},
   "outputs": [],
   "source": []
  }
 ],
 "metadata": {
  "kernelspec": {
   "display_name": "Python 3 (ipykernel)",
   "language": "python",
   "name": "python3"
  },
  "language_info": {
   "codemirror_mode": {
    "name": "ipython",
    "version": 3
   },
   "file_extension": ".py",
   "mimetype": "text/x-python",
   "name": "python",
   "nbconvert_exporter": "python",
   "pygments_lexer": "ipython3",
   "version": "3.9.7"
  }
 },
 "nbformat": 4,
 "nbformat_minor": 5
}
