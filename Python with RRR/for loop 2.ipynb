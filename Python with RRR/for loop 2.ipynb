{
 "cells": [
  {
   "cell_type": "markdown",
   "id": "9e530cd1-bda4-4cc3-b2c9-90a4d32a618a",
   "metadata": {},
   "source": [
    "<h1>for loops"
   ]
  },
  {
   "cell_type": "code",
   "execution_count": 16,
   "id": "3e43b680-c7e5-44c0-8c79-cbb081d7490f",
   "metadata": {},
   "outputs": [
    {
     "name": "stdout",
     "output_type": "stream",
     "text": [
      "range(1, 20)\n"
     ]
    }
   ],
   "source": [
    "print()\n"
   ]
  },
  {
   "cell_type": "code",
   "execution_count": 21,
   "id": "1d6d2615-d626-4130-9f64-94f0f3b7ea34",
   "metadata": {},
   "outputs": [
    {
     "name": "stdin",
     "output_type": "stream",
     "text": [
      "enter table num 3\n",
      "enter range num 9\n"
     ]
    },
    {
     "name": "stdout",
     "output_type": "stream",
     "text": [
      "3 x 1 = 3\n",
      "3 x 2 = 6\n",
      "3 x 3 = 9\n",
      "3 x 4 = 12\n",
      "3 x 5 = 15\n",
      "3 x 6 = 18\n",
      "3 x 7 = 21\n",
      "3 x 8 = 24\n",
      "3 x 9 = 27\n"
     ]
    }
   ],
   "source": [
    "num = int(input(\"enter table num\"))\n",
    "u_rng = int(input(\"enter range num\"))\n",
    "for i in range(1,u_rng+1):\n",
    "    print(num,\"x\",i,\"=\",num*i)"
   ]
  },
  {
   "cell_type": "code",
   "execution_count": 35,
   "id": "a3f23a84-e042-440b-be5c-b9476b6e1c58",
   "metadata": {},
   "outputs": [
    {
     "name": "stdin",
     "output_type": "stream",
     "text": [
      "enter mobile number: 77\n",
      "enter password: 99\n"
     ]
    },
    {
     "name": "stdout",
     "output_type": "stream",
     "text": [
      "incorrect details\n",
      "you used 0 attempts out of 2\n"
     ]
    },
    {
     "name": "stdin",
     "output_type": "stream",
     "text": [
      "enter mobile number: 9876\n",
      "enter password: 1234\n"
     ]
    },
    {
     "name": "stdout",
     "output_type": "stream",
     "text": [
      "welcome\n"
     ]
    }
   ],
   "source": [
    "username=int(input(\"enter mobile number:\"))\n",
    "password=int(input(\"enter password:\"))\n",
    "\n",
    "for i in range(4):\n",
    "    if password==1234 and username==9876:\n",
    "        print(\"welcome\")\n",
    "        break\n",
    "    else:\n",
    "        print(\"incorrect details\")\n",
    "        print(\"you used\", i, \"attempts out of 2\")\n",
    "        username=int(input(\"enter mobile number:\"))\n",
    "        password=int(input(\"enter password:\"))"
   ]
  },
  {
   "cell_type": "code",
   "execution_count": null,
   "id": "54be6282-1c2c-402c-adbf-fbf2b20a68ec",
   "metadata": {},
   "outputs": [],
   "source": []
  }
 ],
 "metadata": {
  "kernelspec": {
   "display_name": "Python 3 (ipykernel)",
   "language": "python",
   "name": "python3"
  },
  "language_info": {
   "codemirror_mode": {
    "name": "ipython",
    "version": 3
   },
   "file_extension": ".py",
   "mimetype": "text/x-python",
   "name": "python",
   "nbconvert_exporter": "python",
   "pygments_lexer": "ipython3",
   "version": "3.9.7"
  }
 },
 "nbformat": 4,
 "nbformat_minor": 5
}
