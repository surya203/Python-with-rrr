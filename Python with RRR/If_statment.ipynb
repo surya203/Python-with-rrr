{
 "cells": [
  {
   "cell_type": "markdown",
   "id": "449d81ca-f8d8-47ad-956b-a492d669f758",
   "metadata": {},
   "source": [
    "<h1>If statement"
   ]
  },
  {
   "cell_type": "code",
   "execution_count": null,
   "id": "e5753e5c-b693-4b96-a290-174c0a8f18e5",
   "metadata": {},
   "outputs": [],
   "source": [
    "\"\"\"syntax \n",
    "if something happen:\n",
    "  print(\"a and b are equal\")\n",
    "else:\n",
    "  print(\"something else\")\n",
    "\"\"\""
   ]
  },
  {
   "cell_type": "code",
   "execution_count": 3,
   "id": "fc4ae0c4-b0ee-4de5-b5fa-5c319f73cda0",
   "metadata": {},
   "outputs": [
    {
     "name": "stdout",
     "output_type": "stream",
     "text": [
      "His performance is well in english\n"
     ]
    }
   ],
   "source": [
    "#we have one student, we should check his performance in both maths and english subjects\n",
    "#we can use If, else One time only......\n",
    "\n",
    "maths =12\n",
    "english = 25\n",
    "\n",
    "if maths < english:\n",
    "    print(\"His performance is well in english\")\n",
    "else:\n",
    "    print(\"prnt else\")\n",
    "    "
   ]
  },
  {
   "cell_type": "code",
   "execution_count": null,
   "id": "59ef46b6-e5c0-44eb-b1be-2b911c9578fe",
   "metadata": {},
   "outputs": [],
   "source": []
  },
  {
   "cell_type": "code",
   "execution_count": 20,
   "id": "375007ac-4d21-4a50-9afb-5de3fd00c1e1",
   "metadata": {},
   "outputs": [
    {
     "name": "stdin",
     "output_type": "stream",
     "text": [
      "Enter your marks: -444\n"
     ]
    },
    {
     "name": "stdout",
     "output_type": "stream",
     "text": [
      "invalid\n"
     ]
    }
   ],
   "source": [
    "marks = int(input(\"Enter your marks:\"))\n",
    "if marks>34 and marks<101:\n",
    "    print(\"pass\")\n",
    "elif marks>0 and marks<35:\n",
    "    print(\"fail\")\n",
    "elif marks>100:\n",
    "    print(\"invalid input\")\n",
    "else:\n",
    "    print(\"invalid\")"
   ]
  },
  {
   "cell_type": "code",
   "execution_count": null,
   "id": "c8394cbd-2265-45d2-a61e-77ad76e65aa6",
   "metadata": {},
   "outputs": [],
   "source": []
  },
  {
   "cell_type": "code",
   "execution_count": null,
   "id": "565ac4fe-8f2e-4fbd-bb5f-69a11595aded",
   "metadata": {},
   "outputs": [],
   "source": [
    "#pin number---user input\n",
    "\"\"\"\n",
    "1.balance\n",
    "2.withdraw\n",
    "3.deposit\n",
    "4.help\n",
    "\"\"\""
   ]
  },
  {
   "cell_type": "code",
   "execution_count": 36,
   "id": "43760092-e4c3-40a7-ac5a-482282e6548b",
   "metadata": {},
   "outputs": [
    {
     "name": "stdin",
     "output_type": "stream",
     "text": [
      "Enter your pin number: 1111\n"
     ]
    },
    {
     "name": "stdout",
     "output_type": "stream",
     "text": [
      "welcome to bank\n",
      "1.balance\n",
      "2.withdraw\n",
      "3.deposit\n",
      "4.help\n"
     ]
    },
    {
     "name": "stdin",
     "output_type": "stream",
     "text": [
      "Enter your choice: 8\n"
     ]
    }
   ],
   "source": [
    "pin = int(input(\"Enter your pin number:\"))\n",
    "balance=500000\n",
    "if pin==1111:\n",
    "    print(\"welcome to bank\")\n",
    "    print(\"1.balance\")\n",
    "    print(\"2.withdraw\")\n",
    "    print(\"3.deposit\")\n",
    "    print(\"4.help\")\n",
    "    choice =int(input(\"Enter your choice:\"))\n",
    "    if choice==1:\n",
    "        print(balance)\n",
    "    elif choice==2:\n",
    "        w_amount = int(input(\"Enter amount:\"))\n",
    "        if w_amount < balance:\n",
    "            balance=balance-w_amount\n",
    "            print(balance)\n",
    "        else:\n",
    "            print(\"ins bal\")\n",
    "    elif choice==3:\n",
    "        d_amount = int(input(\"Enter amount:\"))\n",
    "        balance += d_amount\n",
    "        print(balance)\n",
    "else:\n",
    "    print(\"invalid pin\")"
   ]
  },
  {
   "cell_type": "code",
   "execution_count": null,
   "id": "c3398e1f-ec61-4a5f-8858-4a4e68f0d000",
   "metadata": {},
   "outputs": [],
   "source": []
  },
  {
   "cell_type": "code",
   "execution_count": null,
   "id": "112ceb49-3c67-4ddf-aa95-27e6218af445",
   "metadata": {},
   "outputs": [],
   "source": []
  },
  {
   "cell_type": "code",
   "execution_count": null,
   "id": "91c83261-e5c2-424f-b8e2-73778a17b288",
   "metadata": {},
   "outputs": [],
   "source": []
  },
  {
   "cell_type": "code",
   "execution_count": null,
   "id": "77f8994e-d3bf-46bf-867b-74b64c93c24d",
   "metadata": {},
   "outputs": [],
   "source": []
  },
  {
   "cell_type": "code",
   "execution_count": null,
   "id": "d3942d2d-3b00-406e-95b9-b60152e5d1f0",
   "metadata": {},
   "outputs": [],
   "source": []
  },
  {
   "cell_type": "code",
   "execution_count": null,
   "id": "1f2693d5-b802-4aaa-8f1f-c425e86361ab",
   "metadata": {},
   "outputs": [],
   "source": []
  },
  {
   "cell_type": "code",
   "execution_count": null,
   "id": "51740458-6a59-47a6-ad13-3246c4e9d6bc",
   "metadata": {},
   "outputs": [],
   "source": []
  },
  {
   "cell_type": "code",
   "execution_count": null,
   "id": "b5237e3b-2664-4957-886a-8094c1c0937e",
   "metadata": {},
   "outputs": [],
   "source": []
  },
  {
   "cell_type": "code",
   "execution_count": null,
   "id": "074cf0b5-b8fb-4d7b-987f-35c7a6ab3cef",
   "metadata": {},
   "outputs": [],
   "source": []
  },
  {
   "cell_type": "code",
   "execution_count": null,
   "id": "92ddf874-cb55-49a7-9351-b154def83577",
   "metadata": {},
   "outputs": [],
   "source": []
  },
  {
   "cell_type": "code",
   "execution_count": null,
   "id": "2aa79a84-8baf-44cd-8764-488f55c2d82a",
   "metadata": {},
   "outputs": [],
   "source": []
  },
  {
   "cell_type": "code",
   "execution_count": null,
   "id": "66ed0c84-b226-44a6-99b5-149720ce2ab2",
   "metadata": {},
   "outputs": [],
   "source": []
  },
  {
   "cell_type": "code",
   "execution_count": null,
   "id": "eae4105a-8867-441c-a5b0-9592bbf6e2f6",
   "metadata": {},
   "outputs": [],
   "source": []
  },
  {
   "cell_type": "code",
   "execution_count": null,
   "id": "8a538990-a700-4f9d-9698-9d6521e56f96",
   "metadata": {},
   "outputs": [
    {
     "name": "stdin",
     "output_type": "stream",
     "text": [
      "Enter your marks 35.6\n"
     ]
    },
    {
     "name": "stdout",
     "output_type": "stream",
     "text": [
      "Pass\n"
     ]
    }
   ],
   "source": [
    "marks =float(input(\"Enter your marks\"))\n",
    "\n",
    "if marks>34 and marks<75:\n",
    "    print(\"Pass\")\n",
    "    \n",
    "elif marks>74 and marks<101:\n",
    "    print(\"First class\")\n",
    "    \n",
    "elif marks<0 or marks>100:\n",
    "    print(\"invalid marks(enter b/w 0 to 100)\")\n",
    "\n",
    "else:\n",
    "    print(\"Fail\")"
   ]
  },
  {
   "cell_type": "code",
   "execution_count": null,
   "id": "433da5aa-2564-4d87-8dfb-f5057e42a4a3",
   "metadata": {},
   "outputs": [],
   "source": []
  },
  {
   "cell_type": "code",
   "execution_count": null,
   "id": "b5fd7cc6-be46-47d0-bd9a-99512c66fda8",
   "metadata": {},
   "outputs": [],
   "source": [
    "int(40.56)"
   ]
  },
  {
   "cell_type": "code",
   "execution_count": null,
   "id": "3f51f75f-7de5-4c09-b8a4-bca8e77b8cfa",
   "metadata": {},
   "outputs": [],
   "source": []
  },
  {
   "cell_type": "code",
   "execution_count": null,
   "id": "f4b28c90-0e2f-41ca-b335-4b44ee42584b",
   "metadata": {},
   "outputs": [],
   "source": []
  },
  {
   "cell_type": "code",
   "execution_count": null,
   "id": "2adcec12-6947-4bc6-ae7c-8c03b6ffaf57",
   "metadata": {},
   "outputs": [],
   "source": []
  }
 ],
 "metadata": {
  "kernelspec": {
   "display_name": "Python 3 (ipykernel)",
   "language": "python",
   "name": "python3"
  },
  "language_info": {
   "codemirror_mode": {
    "name": "ipython",
    "version": 3
   },
   "file_extension": ".py",
   "mimetype": "text/x-python",
   "name": "python",
   "nbconvert_exporter": "python",
   "pygments_lexer": "ipython3",
   "version": "3.9.7"
  }
 },
 "nbformat": 4,
 "nbformat_minor": 5
}
