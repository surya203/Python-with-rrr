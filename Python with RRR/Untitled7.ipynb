{
 "cells": [
  {
   "cell_type": "markdown",
   "id": "76e2a487-c0b3-4b1e-a657-4d4a05e68d3a",
   "metadata": {},
   "source": [
    "<h3>ATM card"
   ]
  },
  {
   "cell_type": "code",
   "execution_count": null,
   "id": "679a60e5-c4dd-48b3-9a14-bf7bf7bff56a",
   "metadata": {},
   "outputs": [],
   "source": []
  },
  {
   "cell_type": "code",
   "execution_count": 16,
   "id": "24306705-40af-4abd-9200-e342f337604e",
   "metadata": {},
   "outputs": [
    {
     "name": "stdin",
     "output_type": "stream",
     "text": [
      "enter your pin number 1122\n"
     ]
    },
    {
     "name": "stdout",
     "output_type": "stream",
     "text": [
      "welcome to Bank\n",
      "1. Balance\n",
      "2. Deposit\n",
      "3. Withdraw\n"
     ]
    },
    {
     "name": "stdin",
     "output_type": "stream",
     "text": [
      "enter your choice 3\n",
      "Enter withdraw amount: 6000\n"
     ]
    },
    {
     "name": "stdout",
     "output_type": "stream",
     "text": [
      "Enter lessthan balance value\n"
     ]
    }
   ],
   "source": [
    "## pin number\n",
    "#options\n",
    "#withdraw/deposit\n",
    "pin=int(input(\"enter your pin number\"))\n",
    "balance=2000\n",
    "if pin==1122:\n",
    "    print(\"welcome to Bank\")\n",
    "    print(\"1. Balance\")\n",
    "    print(\"2. Deposit\")\n",
    "    print(\"3. Withdraw\")\n",
    "    choice = int(input(\"enter your choice\"))\n",
    "    if choice==1:\n",
    "        print(\"Your balance is:\",balance)\n",
    "    elif choice==2:\n",
    "        d_amount = int(input(\"Enter deposit amount:\"))\n",
    "        balance=balance+d_amount\n",
    "        print(\"Your updated balance is:\",balance)\n",
    "    elif choice==3:\n",
    "        w_amount = int(input(\"Enter withdraw amount:\"))\n",
    "        if balance>w_amount:\n",
    "            print(\"Your updated balance is:\",balance)\n",
    "        else:\n",
    "            print(\"Enter insufficent\")\n",
    "    else:\n",
    "        print(\"Wrong choice enter number b/w 1 to 3\")\n",
    "else:\n",
    "    print(\"Incorrect pin\")"
   ]
  },
  {
   "cell_type": "code",
   "execution_count": null,
   "id": "ca6abc19-a169-471c-99d5-39a911a390fe",
   "metadata": {},
   "outputs": [],
   "source": [
    "fruits=[\"apple\",\"banana\",\"orange\","
   ]
  },
  {
   "cell_type": "code",
   "execution_count": null,
   "id": "96704594-e3e7-4249-82bc-4ab6fbe7cf24",
   "metadata": {},
   "outputs": [],
   "source": []
  }
 ],
 "metadata": {
  "kernelspec": {
   "display_name": "Python 3 (ipykernel)",
   "language": "python",
   "name": "python3"
  },
  "language_info": {
   "codemirror_mode": {
    "name": "ipython",
    "version": 3
   },
   "file_extension": ".py",
   "mimetype": "text/x-python",
   "name": "python",
   "nbconvert_exporter": "python",
   "pygments_lexer": "ipython3",
   "version": "3.9.7"
  }
 },
 "nbformat": 4,
 "nbformat_minor": 5
}
