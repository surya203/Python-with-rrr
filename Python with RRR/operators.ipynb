{
 "cells": [
  {
   "cell_type": "markdown",
   "id": "229acf25-eff0-42ed-b6a0-d8a74d7c5b81",
   "metadata": {},
   "source": [
    "<h1>operators"
   ]
  },
  {
   "cell_type": "code",
   "execution_count": 4,
   "id": "1acb9724-3ef1-43e5-8b05-c69d0518cab6",
   "metadata": {},
   "outputs": [
    {
     "name": "stdout",
     "output_type": "stream",
     "text": [
      "117\n"
     ]
    }
   ],
   "source": [
    "#Add\n",
    "a=67\n",
    "b=50\n",
    "print(a+b)"
   ]
  },
  {
   "cell_type": "code",
   "execution_count": 2,
   "id": "8f068ea1-7ff9-4167-9282-e33eebaef1a1",
   "metadata": {},
   "outputs": [
    {
     "name": "stdout",
     "output_type": "stream",
     "text": [
      "17\n"
     ]
    }
   ],
   "source": [
    "#sub\n",
    "a=47\n",
    "b=30\n",
    "print(a-b)"
   ]
  },
  {
   "cell_type": "code",
   "execution_count": 5,
   "id": "fe7d3509",
   "metadata": {},
   "outputs": [
    {
     "name": "stdout",
     "output_type": "stream",
     "text": [
      "67\n"
     ]
    }
   ],
   "source": [
    "print(a)"
   ]
  },
  {
   "cell_type": "code",
   "execution_count": null,
   "id": "2c60995d",
   "metadata": {},
   "outputs": [],
   "source": [
    "b"
   ]
  },
  {
   "cell_type": "code",
   "execution_count": 6,
   "id": "3afa417d-bc2b-4a76-a227-4f78ba9f7615",
   "metadata": {},
   "outputs": [
    {
     "name": "stdout",
     "output_type": "stream",
     "text": [
      "3350\n"
     ]
    }
   ],
   "source": [
    "#mul\n",
    "print(a*b)"
   ]
  },
  {
   "cell_type": "code",
   "execution_count": 7,
   "id": "85fbd01c-479d-4997-a9be-bd91e72164c6",
   "metadata": {},
   "outputs": [
    {
     "name": "stdout",
     "output_type": "stream",
     "text": [
      "1.34\n"
     ]
    }
   ],
   "source": [
    "print(a/b)"
   ]
  },
  {
   "cell_type": "code",
   "execution_count": 9,
   "id": "9931db0d-50fd-42a8-9c56-2a53dbe4e542",
   "metadata": {},
   "outputs": [
    {
     "data": {
      "text/plain": [
       "39"
      ]
     },
     "execution_count": 9,
     "metadata": {},
     "output_type": "execute_result"
    }
   ],
   "source": [
    "3*13"
   ]
  },
  {
   "cell_type": "code",
   "execution_count": 8,
   "id": "111917a4-3d28-4b59-9fc3-ca782f588767",
   "metadata": {},
   "outputs": [
    {
     "data": {
      "text/plain": [
       "9309.090909090908"
      ]
     },
     "execution_count": 8,
     "metadata": {},
     "output_type": "execute_result"
    }
   ],
   "source": [
    "10240/1.1"
   ]
  },
  {
   "cell_type": "code",
   "execution_count": 10,
   "id": "659a42b1-75e7-4e3f-98de-a82c85461bb6",
   "metadata": {},
   "outputs": [
    {
     "name": "stdout",
     "output_type": "stream",
     "text": [
      "1\n"
     ]
    }
   ],
   "source": [
    "print(40%3)"
   ]
  },
  {
   "cell_type": "code",
   "execution_count": null,
   "id": "4732eafb-0e20-4379-b2c0-e390c5ebefbe",
   "metadata": {},
   "outputs": [],
   "source": [
    "4*4*4"
   ]
  },
  {
   "cell_type": "code",
   "execution_count": 12,
   "id": "6ba16822-f1e4-48eb-bfde-a2d1adfd09fc",
   "metadata": {},
   "outputs": [
    {
     "data": {
      "text/plain": [
       "64"
      ]
     },
     "execution_count": 12,
     "metadata": {},
     "output_type": "execute_result"
    }
   ],
   "source": [
    "2**6"
   ]
  },
  {
   "cell_type": "code",
   "execution_count": 11,
   "id": "b6aa1aa2-05a8-4f76-a765-388a91bca33b",
   "metadata": {},
   "outputs": [
    {
     "data": {
      "text/plain": [
       "13"
      ]
     },
     "execution_count": 11,
     "metadata": {},
     "output_type": "execute_result"
    }
   ],
   "source": [
    "40//3"
   ]
  },
  {
   "cell_type": "code",
   "execution_count": null,
   "id": "b708b9d6-80dd-425d-a8ce-711cc1e15626",
   "metadata": {},
   "outputs": [],
   "source": [
    "10**4"
   ]
  },
  {
   "cell_type": "code",
   "execution_count": null,
   "id": "00412d53-d6e5-4789-9467-89441c284193",
   "metadata": {},
   "outputs": [],
   "source": [
    "40/3"
   ]
  },
  {
   "cell_type": "code",
   "execution_count": null,
   "id": "0679dc7d-b302-4e26-a234-6868a9067ed9",
   "metadata": {},
   "outputs": [],
   "source": []
  },
  {
   "cell_type": "code",
   "execution_count": 15,
   "id": "1d96064a-53ea-4ca1-a956-0b83732cf79e",
   "metadata": {},
   "outputs": [
    {
     "name": "stdout",
     "output_type": "stream",
     "text": [
      "True\n"
     ]
    }
   ],
   "source": [
    "a=20\n",
    "b=27\n",
    "print(a!=b)"
   ]
  },
  {
   "cell_type": "code",
   "execution_count": 16,
   "id": "f8582e24-4e57-46b1-9e6f-17feead23384",
   "metadata": {},
   "outputs": [
    {
     "name": "stdout",
     "output_type": "stream",
     "text": [
      "False\n"
     ]
    }
   ],
   "source": [
    "number1 = 46\n",
    "number2 = 664\n",
    "print(number1==number2)"
   ]
  },
  {
   "cell_type": "code",
   "execution_count": 17,
   "id": "2e4481ae-b076-4687-ac97-184af5cf6265",
   "metadata": {},
   "outputs": [
    {
     "data": {
      "text/plain": [
       "False"
      ]
     },
     "execution_count": 17,
     "metadata": {},
     "output_type": "execute_result"
    }
   ],
   "source": [
    "number1>=number2"
   ]
  },
  {
   "cell_type": "code",
   "execution_count": 18,
   "id": "d6c64c07-fb7f-48bd-a24d-ffee69e47ce7",
   "metadata": {},
   "outputs": [
    {
     "data": {
      "text/plain": [
       "True"
      ]
     },
     "execution_count": 18,
     "metadata": {},
     "output_type": "execute_result"
    }
   ],
   "source": [
    "number1<=number2\n",
    "#n1 = 664 , n2 = 667"
   ]
  },
  {
   "cell_type": "code",
   "execution_count": 23,
   "id": "9e87c12c-e6a5-44a7-9557-3831e2253463",
   "metadata": {},
   "outputs": [
    {
     "name": "stdout",
     "output_type": "stream",
     "text": [
      "False\n"
     ]
    }
   ],
   "source": [
    "movie =150\n",
    "cricket =500\n",
    "\n",
    "print(movie<100 or cricket<100)\n"
   ]
  },
  {
   "cell_type": "code",
   "execution_count": null,
   "id": "499f99e8-38e1-454b-b5aa-6413a0dc3322",
   "metadata": {},
   "outputs": [],
   "source": []
  },
  {
   "cell_type": "code",
   "execution_count": 24,
   "id": "cd6d9922-7ddc-405f-b6a2-a73cf682ff6d",
   "metadata": {},
   "outputs": [
    {
     "name": "stdout",
     "output_type": "stream",
     "text": [
      "True\n"
     ]
    }
   ],
   "source": [
    "print(not(movie>600 and cricket>100))"
   ]
  },
  {
   "cell_type": "code",
   "execution_count": null,
   "id": "3da5a1a1-08b3-4da0-b005-674dcc8741ce",
   "metadata": {},
   "outputs": [],
   "source": []
  },
  {
   "cell_type": "code",
   "execution_count": null,
   "id": "f4428901-6e10-4b80-8b32-86b977d2ddbb",
   "metadata": {},
   "outputs": [],
   "source": []
  },
  {
   "cell_type": "code",
   "execution_count": null,
   "id": "1dfbdb66-edac-40cf-aa2a-9bebd30b96b2",
   "metadata": {},
   "outputs": [],
   "source": [
    "x=10\n",
    "y=10\n",
    "x is not y"
   ]
  },
  {
   "cell_type": "code",
   "execution_count": 1,
   "id": "866f2738-9269-48ab-9da3-de46936c7250",
   "metadata": {},
   "outputs": [
    {
     "name": "stdout",
     "output_type": "stream",
     "text": [
      "Collecting Pyppeteer\n",
      "  Downloading pyppeteer-1.0.2-py3-none-any.whl (83 kB)\n",
      "     -------------------------------------- 83.4/83.4 kB 585.1 kB/s eta 0:00:00\n",
      "Requirement already satisfied: tqdm<5.0.0,>=4.42.1 in c:\\users\\91756\\anaconda3\\lib\\site-packages (from Pyppeteer) (4.64.1)\n",
      "Requirement already satisfied: urllib3<2.0.0,>=1.25.8 in c:\\users\\91756\\anaconda3\\lib\\site-packages (from Pyppeteer) (1.26.14)\n",
      "Requirement already satisfied: websockets<11.0,>=10.0 in c:\\users\\91756\\anaconda3\\lib\\site-packages (from Pyppeteer) (10.3)\n",
      "Requirement already satisfied: certifi>=2021 in c:\\users\\91756\\anaconda3\\lib\\site-packages (from Pyppeteer) (2022.12.7)\n",
      "Collecting pyee<9.0.0,>=8.1.0Note: you may need to restart the kernel to use updated packages.\n",
      "  Downloading pyee-8.2.2-py2.py3-none-any.whl (12 kB)\n",
      "Requirement already satisfied: appdirs<2.0.0,>=1.4.3 in c:\\users\\91756\\anaconda3\\lib\\site-packages (from Pyppeteer) (1.4.4)\n",
      "Requirement already satisfied: importlib-metadata>=1.4 in c:\\users\\91756\\anaconda3\\lib\\site-packages (from Pyppeteer) (4.11.3)\n",
      "Requirement already satisfied: zipp>=0.5 in c:\\users\\91756\\anaconda3\\lib\\site-packages (from importlib-metadata>=1.4->Pyppeteer) (3.8.0)\n",
      "Requirement already satisfied: colorama in c:\\users\\91756\\anaconda3\\lib\\site-packages (from tqdm<5.0.0,>=4.42.1->Pyppeteer) (0.4.6)\n",
      "Installing collected packages: pyee, Pyppeteer\n",
      "Successfully installed Pyppeteer-1.0.2 pyee-8.2.2\n",
      "\n"
     ]
    },
    {
     "name": "stderr",
     "output_type": "stream",
     "text": [
      "WARNING: Ignoring invalid distribution -pencv-python-headless (c:\\users\\91756\\anaconda3\\lib\\site-packages)\n",
      "WARNING: Ignoring invalid distribution -ffi (c:\\users\\91756\\anaconda3\\lib\\site-packages)\n",
      "WARNING: Ignoring invalid distribution -pencv-python-headless (c:\\users\\91756\\anaconda3\\lib\\site-packages)\n",
      "WARNING: Ignoring invalid distribution -ffi (c:\\users\\91756\\anaconda3\\lib\\site-packages)\n",
      "WARNING: Ignoring invalid distribution -pencv-python-headless (c:\\users\\91756\\anaconda3\\lib\\site-packages)\n",
      "WARNING: Ignoring invalid distribution -ffi (c:\\users\\91756\\anaconda3\\lib\\site-packages)\n",
      "WARNING: Error parsing requirements for charset-normalizer: [Errno 2] No such file or directory: 'c:\\\\users\\\\91756\\\\anaconda3\\\\lib\\\\site-packages\\\\charset_normalizer-3.0.1.dist-info\\\\METADATA'\n",
      "WARNING: Ignoring invalid distribution -pencv-python-headless (c:\\users\\91756\\anaconda3\\lib\\site-packages)\n",
      "WARNING: Ignoring invalid distribution -ffi (c:\\users\\91756\\anaconda3\\lib\\site-packages)\n",
      "WARNING: Ignoring invalid distribution -pencv-python-headless (c:\\users\\91756\\anaconda3\\lib\\site-packages)\n",
      "WARNING: Ignoring invalid distribution -ffi (c:\\users\\91756\\anaconda3\\lib\\site-packages)\n",
      "WARNING: Ignoring invalid distribution -pencv-python-headless (c:\\users\\91756\\anaconda3\\lib\\site-packages)\n",
      "WARNING: Ignoring invalid distribution -ffi (c:\\users\\91756\\anaconda3\\lib\\site-packages)\n",
      "WARNING: Ignoring invalid distribution -pencv-python-headless (c:\\users\\91756\\anaconda3\\lib\\site-packages)\n",
      "WARNING: Ignoring invalid distribution -ffi (c:\\users\\91756\\anaconda3\\lib\\site-packages)\n",
      "WARNING: Ignoring invalid distribution -pencv-python-headless (c:\\users\\91756\\anaconda3\\lib\\site-packages)\n",
      "WARNING: Ignoring invalid distribution -ffi (c:\\users\\91756\\anaconda3\\lib\\site-packages)\n"
     ]
    }
   ],
   "source": [
    "pip install Pyppeteer "
   ]
  },
  {
   "cell_type": "code",
   "execution_count": null,
   "id": "d1324fd2-d054-4777-8aaf-0fec33de0566",
   "metadata": {},
   "outputs": [],
   "source": []
  }
 ],
 "metadata": {
  "kernelspec": {
   "display_name": "Python 3 (ipykernel)",
   "language": "python",
   "name": "python3"
  },
  "language_info": {
   "codemirror_mode": {
    "name": "ipython",
    "version": 3
   },
   "file_extension": ".py",
   "mimetype": "text/x-python",
   "name": "python",
   "nbconvert_exporter": "python",
   "pygments_lexer": "ipython3",
   "version": "3.9.7"
  }
 },
 "nbformat": 4,
 "nbformat_minor": 5
}
