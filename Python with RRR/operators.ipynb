{
 "cells": [
  {
   "cell_type": "markdown",
   "id": "229acf25-eff0-42ed-b6a0-d8a74d7c5b81",
   "metadata": {},
   "source": [
    "<h1>operators"
   ]
  },
  {
   "cell_type": "code",
   "execution_count": 1,
   "id": "1acb9724-3ef1-43e5-8b05-c69d0518cab6",
   "metadata": {},
   "outputs": [
    {
     "name": "stdout",
     "output_type": "stream",
     "text": [
      "117\n"
     ]
    }
   ],
   "source": [
    "#Add\n",
    "a=67\n",
    "b=50\n",
    "print(a+b)"
   ]
  },
  {
   "cell_type": "code",
   "execution_count": 3,
   "id": "5e3eac1b-5989-4e0f-a88b-bdb53cbfb2f3",
   "metadata": {
    "tags": []
   },
   "outputs": [
    {
     "name": "stdout",
     "output_type": "stream",
     "text": [
      "surya76\n"
     ]
    }
   ],
   "source": [
    "a=\"surya\"\n",
    "b=\"76\"\n",
    "print(a+b)"
   ]
  },
  {
   "cell_type": "code",
   "execution_count": 4,
   "id": "ac3108bc-bf5b-4953-8a55-6878dcba92f3",
   "metadata": {
    "tags": []
   },
   "outputs": [
    {
     "ename": "TypeError",
     "evalue": "can't multiply sequence by non-int of type 'str'",
     "output_type": "error",
     "traceback": [
      "\u001b[1;31m---------------------------------------------------------------------------\u001b[0m",
      "\u001b[1;31mTypeError\u001b[0m                                 Traceback (most recent call last)",
      "Cell \u001b[1;32mIn[4], line 3\u001b[0m\n\u001b[0;32m      1\u001b[0m a\u001b[38;5;241m=\u001b[39m \u001b[38;5;124m\"\u001b[39m\u001b[38;5;124m30\u001b[39m\u001b[38;5;124m\"\u001b[39m\n\u001b[0;32m      2\u001b[0m b\u001b[38;5;241m=\u001b[39m \u001b[38;5;124m\"\u001b[39m\u001b[38;5;124m40\u001b[39m\u001b[38;5;124m\"\u001b[39m\n\u001b[1;32m----> 3\u001b[0m \u001b[38;5;28mprint\u001b[39m(a\u001b[38;5;241m*\u001b[39mb)\n",
      "\u001b[1;31mTypeError\u001b[0m: can't multiply sequence by non-int of type 'str'"
     ]
    }
   ],
   "source": [
    "a= \"30\"\n",
    "b= \"40\"\n",
    "print(a*b)"
   ]
  },
  {
   "cell_type": "code",
   "execution_count": 5,
   "id": "0f511a61-c29b-4815-8854-419eedc67327",
   "metadata": {
    "tags": []
   },
   "outputs": [
    {
     "name": "stdout",
     "output_type": "stream",
     "text": [
      "404040404040404040404040404040404040404040404040404040404040\n"
     ]
    }
   ],
   "source": [
    "a= 30\n",
    "b= \"40\"\n",
    "print(a*b)"
   ]
  },
  {
   "cell_type": "code",
   "execution_count": 14,
   "id": "b39f27be-5d58-48e2-ae17-b7f89ea3bba4",
   "metadata": {
    "tags": []
   },
   "outputs": [
    {
     "name": "stdout",
     "output_type": "stream",
     "text": [
      "surya surya surya surya surya surya surya surya surya surya surya surya surya surya surya surya surya surya surya surya surya surya surya surya surya \n",
      "25\n",
      "surya \n"
     ]
    }
   ],
   "source": [
    "a = 25\n",
    "b = \"surya \"\n",
    "print(a*b,a,b, sep=\"\\n\", end=\"\\n\")"
   ]
  },
  {
   "cell_type": "code",
   "execution_count": 18,
   "id": "4736d782-53ff-4bf0-9f1f-6dd02f36f890",
   "metadata": {
    "tags": []
   },
   "outputs": [
    {
     "name": "stdout",
     "output_type": "stream",
     "text": [
      "surya chandana\n"
     ]
    }
   ],
   "source": [
    "print(\"surya chandana\", sep = \"\\n\")"
   ]
  },
  {
   "cell_type": "code",
   "execution_count": 17,
   "id": "14970f2e-748c-4529-bb8d-8bf958945d42",
   "metadata": {
    "tags": []
   },
   "outputs": [
    {
     "name": "stdout",
     "output_type": "stream",
     "text": [
      "surya\n",
      "chandana\n"
     ]
    }
   ],
   "source": [
    "print(\"surya\",\"chandana\",sep=\"\\n\")"
   ]
  },
  {
   "cell_type": "code",
   "execution_count": 19,
   "id": "8f068ea1-7ff9-4167-9282-e33eebaef1a1",
   "metadata": {},
   "outputs": [
    {
     "name": "stdout",
     "output_type": "stream",
     "text": [
      "17\n"
     ]
    }
   ],
   "source": [
    "#sub\n",
    "a=47\n",
    "b=30\n",
    "print(a-b)"
   ]
  },
  {
   "cell_type": "code",
   "execution_count": 22,
   "id": "816ee49c-2e3f-4d59-b4de-77b6a84b32ec",
   "metadata": {},
   "outputs": [],
   "source": [
    "a=566\n",
    "a=22\n",
    "a=644\n",
    "a=33"
   ]
  },
  {
   "cell_type": "code",
   "execution_count": 23,
   "id": "fe7d3509",
   "metadata": {},
   "outputs": [
    {
     "name": "stdout",
     "output_type": "stream",
     "text": [
      "33\n"
     ]
    }
   ],
   "source": [
    "print(a)"
   ]
  },
  {
   "cell_type": "code",
   "execution_count": null,
   "id": "2c60995d",
   "metadata": {},
   "outputs": [],
   "source": [
    "7/6"
   ]
  },
  {
   "cell_type": "code",
   "execution_count": 24,
   "id": "3afa417d-bc2b-4a76-a227-4f78ba9f7615",
   "metadata": {},
   "outputs": [
    {
     "name": "stdin",
     "output_type": "stream",
     "text": [
      "Enter num1: 10\n",
      "Enter num2: 20\n"
     ]
    },
    {
     "name": "stdout",
     "output_type": "stream",
     "text": [
      "200\n"
     ]
    }
   ],
   "source": [
    "#mul\n",
    "a = int(input(\"Enter num1:\"))\n",
    "b = int(input(\"Enter num2:\"))\n",
    "print(a*b)"
   ]
  },
  {
   "cell_type": "code",
   "execution_count": 30,
   "id": "85fbd01c-479d-4997-a9be-bd91e72164c6",
   "metadata": {},
   "outputs": [
    {
     "name": "stdin",
     "output_type": "stream",
     "text": [
      "Enter num1: 100\n",
      "Enter num2: 11\n"
     ]
    },
    {
     "name": "stdout",
     "output_type": "stream",
     "text": [
      "9.090909090909092\n"
     ]
    }
   ],
   "source": [
    "a = float(input(\"Enter num1:\"))\n",
    "b = float(input(\"Enter num2:\"))\n",
    "print(a/b)"
   ]
  },
  {
   "cell_type": "code",
   "execution_count": 31,
   "id": "6079658a-9987-4105-a25d-2e4d5c970dca",
   "metadata": {
    "tags": []
   },
   "outputs": [
    {
     "name": "stdout",
     "output_type": "stream",
     "text": [
      "23\n"
     ]
    }
   ],
   "source": [
    "value = 23.4\n",
    "print(int(value))"
   ]
  },
  {
   "cell_type": "code",
   "execution_count": 32,
   "id": "9931db0d-50fd-42a8-9c56-2a53dbe4e542",
   "metadata": {},
   "outputs": [
    {
     "data": {
      "text/plain": [
       "125"
      ]
     },
     "execution_count": 32,
     "metadata": {},
     "output_type": "execute_result"
    }
   ],
   "source": [
    "#power values\n",
    "5**3"
   ]
  },
  {
   "cell_type": "code",
   "execution_count": 33,
   "id": "111917a4-3d28-4b59-9fc3-ca782f588767",
   "metadata": {},
   "outputs": [
    {
     "data": {
      "text/plain": [
       "14.814814814814815"
      ]
     },
     "execution_count": 33,
     "metadata": {},
     "output_type": "execute_result"
    }
   ],
   "source": [
    "400/27"
   ]
  },
  {
   "cell_type": "code",
   "execution_count": 34,
   "id": "659a42b1-75e7-4e3f-98de-a82c85461bb6",
   "metadata": {},
   "outputs": [
    {
     "name": "stdout",
     "output_type": "stream",
     "text": [
      "14\n"
     ]
    }
   ],
   "source": [
    "print(400//27)"
   ]
  },
  {
   "cell_type": "code",
   "execution_count": null,
   "id": "3521e4de-c923-4a90-9924-2c513db695e2",
   "metadata": {
    "tags": []
   },
   "outputs": [],
   "source": []
  },
  {
   "cell_type": "code",
   "execution_count": null,
   "id": "507f8dc5-a890-4056-98fb-c8bfd15a4d24",
   "metadata": {},
   "outputs": [],
   "source": []
  },
  {
   "cell_type": "code",
   "execution_count": 36,
   "id": "03846e05-f73b-4c36-a71c-e50c3f492dcf",
   "metadata": {},
   "outputs": [
    {
     "data": {
      "text/plain": [
       "3.090909090909091"
      ]
     },
     "execution_count": 36,
     "metadata": {},
     "output_type": "execute_result"
    }
   ],
   "source": [
    "34/11"
   ]
  },
  {
   "cell_type": "code",
   "execution_count": 38,
   "id": "4732eafb-0e20-4379-b2c0-e390c5ebefbe",
   "metadata": {},
   "outputs": [
    {
     "data": {
      "text/plain": [
       "4"
      ]
     },
     "execution_count": 38,
     "metadata": {},
     "output_type": "execute_result"
    }
   ],
   "source": [
    "37%11"
   ]
  },
  {
   "cell_type": "code",
   "execution_count": 39,
   "id": "6ba16822-f1e4-48eb-bfde-a2d1adfd09fc",
   "metadata": {},
   "outputs": [
    {
     "data": {
      "text/plain": [
       "1"
      ]
     },
     "execution_count": 39,
     "metadata": {},
     "output_type": "execute_result"
    }
   ],
   "source": [
    "40%3"
   ]
  },
  {
   "cell_type": "code",
   "execution_count": 40,
   "id": "b6aa1aa2-05a8-4f76-a765-388a91bca33b",
   "metadata": {},
   "outputs": [
    {
     "data": {
      "text/plain": [
       "2"
      ]
     },
     "execution_count": 40,
     "metadata": {},
     "output_type": "execute_result"
    }
   ],
   "source": [
    "50%4"
   ]
  },
  {
   "cell_type": "code",
   "execution_count": 41,
   "id": "b708b9d6-80dd-425d-a8ce-711cc1e15626",
   "metadata": {},
   "outputs": [
    {
     "data": {
      "text/plain": [
       "3"
      ]
     },
     "execution_count": 41,
     "metadata": {},
     "output_type": "execute_result"
    }
   ],
   "source": [
    "63%6"
   ]
  },
  {
   "cell_type": "code",
   "execution_count": null,
   "id": "00412d53-d6e5-4789-9467-89441c284193",
   "metadata": {},
   "outputs": [],
   "source": []
  },
  {
   "cell_type": "markdown",
   "id": "fe3e0c7a-0289-4cca-81ff-6dbb6bf52c41",
   "metadata": {},
   "source": [
    "<h1>Com operators"
   ]
  },
  {
   "cell_type": "code",
   "execution_count": 61,
   "id": "1d96064a-53ea-4ca1-a956-0b83732cf79e",
   "metadata": {},
   "outputs": [
    {
     "name": "stdout",
     "output_type": "stream",
     "text": [
      "True\n"
     ]
    }
   ],
   "source": [
    "a=30\n",
    "b=30\n",
    "print(a==b)"
   ]
  },
  {
   "cell_type": "code",
   "execution_count": 47,
   "id": "f8582e24-4e57-46b1-9e6f-17feead23384",
   "metadata": {},
   "outputs": [
    {
     "name": "stdout",
     "output_type": "stream",
     "text": [
      "True\n"
     ]
    }
   ],
   "source": [
    "number1 = 420\n",
    "number2 = 1000000000\n",
    "print(number1!=number2)"
   ]
  },
  {
   "cell_type": "code",
   "execution_count": 48,
   "id": "2e4481ae-b076-4687-ac97-184af5cf6265",
   "metadata": {},
   "outputs": [
    {
     "data": {
      "text/plain": [
       "False"
      ]
     },
     "execution_count": 48,
     "metadata": {},
     "output_type": "execute_result"
    }
   ],
   "source": [
    "number1 = 66\n",
    "number2 = 120\n",
    "number1>=number2"
   ]
  },
  {
   "cell_type": "code",
   "execution_count": 49,
   "id": "35775200-849f-4019-9abe-8d2afcad0440",
   "metadata": {
    "tags": []
   },
   "outputs": [
    {
     "data": {
      "text/plain": [
       "False"
      ]
     },
     "execution_count": 49,
     "metadata": {},
     "output_type": "execute_result"
    }
   ],
   "source": [
    "num1 = 453\n",
    "num2 = 33\n",
    "num1<=num2"
   ]
  },
  {
   "cell_type": "code",
   "execution_count": null,
   "id": "3eb907df-1695-41ee-8895-43aa54f0bad6",
   "metadata": {},
   "outputs": [],
   "source": []
  },
  {
   "cell_type": "markdown",
   "id": "ac01123b-c87f-4a3c-9db3-69e3af9fdec7",
   "metadata": {},
   "source": [
    "<h1>Logical Operators"
   ]
  },
  {
   "cell_type": "code",
   "execution_count": 50,
   "id": "9e87c12c-e6a5-44a7-9557-3831e2253463",
   "metadata": {},
   "outputs": [
    {
     "name": "stdout",
     "output_type": "stream",
     "text": [
      "True\n"
     ]
    }
   ],
   "source": [
    "movie =100\n",
    "cricket =500\n",
    "\n",
    "print(movie<=100 and cricket<600)\n"
   ]
  },
  {
   "cell_type": "code",
   "execution_count": 51,
   "id": "499f99e8-38e1-454b-b5aa-6413a0dc3322",
   "metadata": {},
   "outputs": [
    {
     "name": "stdout",
     "output_type": "stream",
     "text": [
      "True\n"
     ]
    }
   ],
   "source": [
    "movie = 150\n",
    "lunch = 200\n",
    "print(movie<200 or lunch<250)"
   ]
  },
  {
   "cell_type": "code",
   "execution_count": 54,
   "id": "cd6d9922-7ddc-405f-b6a2-a73cf682ff6d",
   "metadata": {},
   "outputs": [
    {
     "name": "stdout",
     "output_type": "stream",
     "text": [
      "True\n"
     ]
    }
   ],
   "source": [
    "hanuman = \"SuperHit\"\n",
    "GK = \"Hit\"\n",
    "print(hanuman ==\"SuperHit\" and GK ==\"Hit\")"
   ]
  },
  {
   "cell_type": "code",
   "execution_count": 55,
   "id": "3da5a1a1-08b3-4da0-b005-674dcc8741ce",
   "metadata": {},
   "outputs": [
    {
     "name": "stdout",
     "output_type": "stream",
     "text": [
      "False\n"
     ]
    }
   ],
   "source": [
    "jailer = \"hit\"\n",
    "shankar = \"Hit\"\n",
    "print(not(jailer ==\"Hit\" or shankar ==\"Hit\"))"
   ]
  },
  {
   "cell_type": "code",
   "execution_count": 56,
   "id": "f4428901-6e10-4b80-8b32-86b977d2ddbb",
   "metadata": {},
   "outputs": [
    {
     "data": {
      "text/plain": [
       "True"
      ]
     },
     "execution_count": 56,
     "metadata": {},
     "output_type": "execute_result"
    }
   ],
   "source": [
    "not(False)"
   ]
  },
  {
   "cell_type": "code",
   "execution_count": 59,
   "id": "1dfbdb66-edac-40cf-aa2a-9bebd30b96b2",
   "metadata": {},
   "outputs": [
    {
     "data": {
      "text/plain": [
       "True"
      ]
     },
     "execution_count": 59,
     "metadata": {},
     "output_type": "execute_result"
    }
   ],
   "source": [
    "x=10\n",
    "y=15\n",
    "x is not y"
   ]
  },
  {
   "cell_type": "code",
   "execution_count": null,
   "id": "866f2738-9269-48ab-9da3-de46936c7250",
   "metadata": {},
   "outputs": [],
   "source": []
  },
  {
   "cell_type": "code",
   "execution_count": null,
   "id": "d1324fd2-d054-4777-8aaf-0fec33de0566",
   "metadata": {},
   "outputs": [],
   "source": []
  }
 ],
 "metadata": {
  "kernelspec": {
   "display_name": "Python 3 (ipykernel)",
   "language": "python",
   "name": "python3"
  },
  "language_info": {
   "codemirror_mode": {
    "name": "ipython",
    "version": 3
   },
   "file_extension": ".py",
   "mimetype": "text/x-python",
   "name": "python",
   "nbconvert_exporter": "python",
   "pygments_lexer": "ipython3",
   "version": "3.11.4"
  }
 },
 "nbformat": 4,
 "nbformat_minor": 5
}
