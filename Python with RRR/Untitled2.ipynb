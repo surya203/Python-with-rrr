{
 "cells": [
  {
   "cell_type": "code",
   "execution_count": 1,
   "id": "e6754e93-dcc0-46cf-bade-c37bc62b1671",
   "metadata": {},
   "outputs": [],
   "source": [
    "import numpy as np\n",
    "import pandas as pd\n",
    "import matplotlib.pyplot as plt"
   ]
  },
  {
   "cell_type": "code",
   "execution_count": 6,
   "id": "0f7f0528-9f00-4db1-8721-4ea77a4342f6",
   "metadata": {},
   "outputs": [],
   "source": [
    "url = \"SALES.txt\"\n",
    "df = pd.read_csv(url, sep=',', header=None)"
   ]
  },
  {
   "cell_type": "code",
   "execution_count": 7,
   "id": "c7528f6e-24eb-4959-8954-6851f8591928",
   "metadata": {},
   "outputs": [
    {
     "data": {
      "text/html": [
       "<div>\n",
       "<style scoped>\n",
       "    .dataframe tbody tr th:only-of-type {\n",
       "        vertical-align: middle;\n",
       "    }\n",
       "\n",
       "    .dataframe tbody tr th {\n",
       "        vertical-align: top;\n",
       "    }\n",
       "\n",
       "    .dataframe thead th {\n",
       "        text-align: right;\n",
       "    }\n",
       "</style>\n",
       "<table border=\"1\" class=\"dataframe\">\n",
       "  <thead>\n",
       "    <tr style=\"text-align: right;\">\n",
       "      <th></th>\n",
       "      <th>0</th>\n",
       "      <th>1</th>\n",
       "    </tr>\n",
       "  </thead>\n",
       "  <tbody>\n",
       "    <tr>\n",
       "      <th>0</th>\n",
       "      <td>12.0</td>\n",
       "      <td>15.0</td>\n",
       "    </tr>\n",
       "    <tr>\n",
       "      <th>1</th>\n",
       "      <td>20.5</td>\n",
       "      <td>16.0</td>\n",
       "    </tr>\n",
       "    <tr>\n",
       "      <th>2</th>\n",
       "      <td>21.0</td>\n",
       "      <td>18.0</td>\n",
       "    </tr>\n",
       "    <tr>\n",
       "      <th>3</th>\n",
       "      <td>15.5</td>\n",
       "      <td>27.0</td>\n",
       "    </tr>\n",
       "    <tr>\n",
       "      <th>4</th>\n",
       "      <td>15.3</td>\n",
       "      <td>21.0</td>\n",
       "    </tr>\n",
       "  </tbody>\n",
       "</table>\n",
       "</div>"
      ],
      "text/plain": [
       "      0     1\n",
       "0  12.0  15.0\n",
       "1  20.5  16.0\n",
       "2  21.0  18.0\n",
       "3  15.5  27.0\n",
       "4  15.3  21.0"
      ]
     },
     "execution_count": 7,
     "metadata": {},
     "output_type": "execute_result"
    }
   ],
   "source": [
    "df.head()"
   ]
  },
  {
   "cell_type": "code",
   "execution_count": 8,
   "id": "8dfbf59b-c55d-43d6-bc0c-b9d676ee2e2f",
   "metadata": {},
   "outputs": [
    {
     "name": "stdout",
     "output_type": "stream",
     "text": [
      "(36, 2)\n",
      "   Sales  Advertising\n",
      "0   12.0         15.0\n",
      "1   20.5         16.0\n",
      "2   21.0         18.0\n",
      "3   15.5         27.0\n",
      "4   15.3         21.0\n"
     ]
    }
   ],
   "source": [
    "print(df.shape)\n",
    "\n",
    "df.columns = ['Sales', 'Advertising']\n",
    "print(df.head(5))\n",
    "\n"
   ]
  },
  {
   "cell_type": "code",
   "execution_count": 9,
   "id": "b6247a5e-0f55-495e-9c9b-d05acd9d9f10",
   "metadata": {},
   "outputs": [
    {
     "name": "stdout",
     "output_type": "stream",
     "text": [
      "<class 'pandas.core.frame.DataFrame'>\n",
      "RangeIndex: 36 entries, 0 to 35\n",
      "Data columns (total 2 columns):\n",
      " #   Column       Non-Null Count  Dtype  \n",
      "---  ------       --------------  -----  \n",
      " 0   Sales        36 non-null     float64\n",
      " 1   Advertising  36 non-null     float64\n",
      "dtypes: float64(2)\n",
      "memory usage: 704.0 bytes\n",
      "None\n",
      "           Sales  Advertising\n",
      "count  36.000000    36.000000\n",
      "mean   24.255556    28.527778\n",
      "std     6.185118    18.777625\n",
      "min    12.000000     1.000000\n",
      "25%    20.300000    15.750000\n",
      "50%    24.250000    23.000000\n",
      "75%    28.600000    41.000000\n",
      "max    36.500000    65.000000\n"
     ]
    }
   ],
   "source": [
    "print(df.info())\n",
    "print(df.describe())"
   ]
  },
  {
   "cell_type": "code",
   "execution_count": 10,
   "id": "b62a244a-d73c-4d9d-a286-c4e1f46fa7f2",
   "metadata": {},
   "outputs": [],
   "source": [
    "X = df['Sales'].values\n",
    "y = df['Advertising'].values"
   ]
  },
  {
   "cell_type": "code",
   "execution_count": 13,
   "id": "8a800027-da6e-4e6f-bce2-be131aaa6e87",
   "metadata": {},
   "outputs": [
    {
     "data": {
      "text/plain": [
       "array([15., 16., 18., 27., 21., 49., 21., 22., 28., 36., 40.,  3., 21.,\n",
       "       29., 62., 65., 46., 44., 33., 62., 22., 12., 24.,  3.,  5., 14.,\n",
       "       36., 40., 49.,  7., 52., 65., 17.,  5., 17.,  1.])"
      ]
     },
     "execution_count": 13,
     "metadata": {},
     "output_type": "execute_result"
    }
   ],
   "source": [
    "y"
   ]
  },
  {
   "cell_type": "code",
   "execution_count": 14,
   "id": "4695dd46-6e81-4504-b898-1a89a2d0709b",
   "metadata": {},
   "outputs": [
    {
     "data": {
      "image/png": "[encoded data removed]",
      "text/plain": [
       "<Figure size 640x480 with 1 Axes>"
      ]
     },
     "metadata": {},
     "output_type": "display_data"
    }
   ],
   "source": [
    "plt.scatter(X,y,color='red',label='Scatter Plot')\n",
    "plt.title('Relationship between sales and advertising')\n",
    "plt.xlabel('Sales')\n",
    "plt.ylabel('Advertising')\n",
    "plt.legend(loc=4)\n",
    "plt.show()"
   ]
  },
  {
   "cell_type": "code",
   "execution_count": 15,
   "id": "66bdab10-f89c-48a8-8914-e4f4f478e5bd",
   "metadata": {},
   "outputs": [
    {
     "name": "stdout",
     "output_type": "stream",
     "text": [
      "(36,)\n",
      "(36, 1) (36, 1)\n"
     ]
    }
   ],
   "source": [
    "\n",
    "\n",
    "print(X.shape)\n",
    "\n",
    "X = X.reshape(-1,1)\n",
    "y = y.reshape(-1,1)\n",
    "\n",
    "print(X.shape , y.shape)\n",
    "\n"
   ]
  },
  {
   "cell_type": "code",
   "execution_count": 16,
   "id": "ed97b91d-2f07-4176-a312-be6b3d048c4a",
   "metadata": {},
   "outputs": [
    {
     "name": "stdout",
     "output_type": "stream",
     "text": [
      "(28, 1)\n",
      "(8, 1)\n"
     ]
    }
   ],
   "source": [
    "from sklearn.model_selection import train_test_split\n",
    "X_train,X_test,y_train,y_test = train_test_split(X , y , test_size = 0.2 , random_state = 42)\n",
    "print(X_train.shape)\n",
    "print(X_test.shape)"
   ]
  },
  {
   "cell_type": "code",
   "execution_count": 17,
   "id": "652f0ad4-ba27-4b47-8c8d-cea0619695a6",
   "metadata": {},
   "outputs": [
    {
     "data": {
      "text/plain": [
       "array([[ 1.],\n",
       "       [29.],\n",
       "       [36.],\n",
       "       [52.],\n",
       "       [46.],\n",
       "       [65.],\n",
       "       [12.],\n",
       "       [21.]])"
      ]
     },
     "execution_count": 17,
     "metadata": {},
     "output_type": "execute_result"
    }
   ],
   "source": [
    "y_test"
   ]
  },
  {
   "cell_type": "code",
   "execution_count": 18,
   "id": "94dac813-b0bd-4072-985a-e01ae58aaa57",
   "metadata": {},
   "outputs": [
    {
     "data": {
      "text/plain": [
       "array([[28.],\n",
       "       [44.],\n",
       "       [36.],\n",
       "       [17.],\n",
       "       [15.],\n",
       "       [21.],\n",
       "       [ 7.],\n",
       "       [65.],\n",
       "       [62.],\n",
       "       [49.],\n",
       "       [ 3.],\n",
       "       [16.],\n",
       "       [ 5.],\n",
       "       [18.],\n",
       "       [ 5.],\n",
       "       [27.],\n",
       "       [17.],\n",
       "       [ 3.],\n",
       "       [40.],\n",
       "       [40.],\n",
       "       [24.],\n",
       "       [33.],\n",
       "       [14.],\n",
       "       [21.],\n",
       "       [22.],\n",
       "       [22.],\n",
       "       [62.],\n",
       "       [49.]])"
      ]
     },
     "execution_count": 18,
     "metadata": {},
     "output_type": "execute_result"
    }
   ],
   "source": [
    "y_train"
   ]
  },
  {
   "cell_type": "code",
   "execution_count": null,
   "id": "eb5290b3-feba-40e7-8cab-ed65769b256e",
   "metadata": {},
   "outputs": [],
   "source": [
    "from sklearn.linear_model import LinearRegression\n",
    "lm = LinearRegression()\n",
    "\n",
    "lm.fit(X_train , y_train)\n",
    "y_pred = lm.predict(X_test)"
   ]
  }
 ],
 "metadata": {
  "kernelspec": {
   "display_name": "Python 3 (ipykernel)",
   "language": "python",
   "name": "python3"
  },
  "language_info": {
   "codemirror_mode": {
    "name": "ipython",
    "version": 3
   },
   "file_extension": ".py",
   "mimetype": "text/x-python",
   "name": "python",
   "nbconvert_exporter": "python",
   "pygments_lexer": "ipython3",
   "version": "3.9.7"
  }
 },
 "nbformat": 4,
 "nbformat_minor": 5
}
