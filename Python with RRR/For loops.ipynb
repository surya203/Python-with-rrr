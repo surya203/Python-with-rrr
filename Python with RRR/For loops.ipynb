{
 "cells": [
  {
   "cell_type": "markdown",
   "id": "4f9d1087-88ee-4f81-b0f0-d6bac37f3b68",
   "metadata": {},
   "source": [
    "<h1>For loops"
   ]
  },
  {
   "cell_type": "code",
   "execution_count": null,
   "id": "f8a45611-f1aa-4bce-904e-baed397d1497",
   "metadata": {},
   "outputs": [],
   "source": []
  },
  {
   "cell_type": "code",
   "execution_count": 2,
   "id": "427a1bae-9bd0-441f-8988-0a9d77d0f3bc",
   "metadata": {},
   "outputs": [],
   "source": [
    "list1 = [3,7,4,8,23,67,89,23,54,66,98]"
   ]
  },
  {
   "cell_type": "code",
   "execution_count": 3,
   "id": "195f1267-e8e3-4bfc-af51-1ffa163b7f9a",
   "metadata": {},
   "outputs": [
    {
     "data": {
      "text/plain": [
       "[3, 7, 4, 8, 23, 67, 89, 23, 54, 66, 98]"
      ]
     },
     "execution_count": 3,
     "metadata": {},
     "output_type": "execute_result"
    }
   ],
   "source": [
    "list1"
   ]
  },
  {
   "cell_type": "code",
   "execution_count": null,
   "id": "a04410b3-d826-4fef-aba1-6bf71588e208",
   "metadata": {},
   "outputs": [
    {
     "name": "stdin",
     "output_type": "stream",
     "text": [
      "enter pin: 1122\n"
     ]
    },
    {
     "name": "stdout",
     "output_type": "stream",
     "text": [
      "invalid input\n",
      "you hae left with 2\n"
     ]
    }
   ],
   "source": [
    "pin = int(input(\"enter pin:\"))\n",
    "count = 3\n",
    "for i in range(2):\n",
    "    if pin == 1555:\n",
    "        print(\"welcome\")\n",
    "        break\n",
    "    else:\n",
    "        print(\"invalid input\")\n",
    "        count -=1\n",
    "        print(\"you hae left with\",count)\n",
    "        pin = int(input(\"enter pin:\"))\n",
    "        "
   ]
  },
  {
   "cell_type": "code",
   "execution_count": null,
   "id": "b42cec05-b71a-4a8b-8862-1bde71bdc198",
   "metadata": {},
   "outputs": [],
   "source": []
  },
  {
   "cell_type": "code",
   "execution_count": null,
   "id": "45409ee9-ed84-40f9-8832-2c645aef2d99",
   "metadata": {},
   "outputs": [],
   "source": []
  },
  {
   "cell_type": "code",
   "execution_count": null,
   "id": "31f3d8d9-f542-4fdf-a740-40465b84c174",
   "metadata": {},
   "outputs": [],
   "source": []
  },
  {
   "cell_type": "code",
   "execution_count": null,
   "id": "7757e0a7-4783-45b9-9b14-198ab08dd421",
   "metadata": {},
   "outputs": [],
   "source": []
  },
  {
   "cell_type": "code",
   "execution_count": null,
   "id": "ad87d45e-09cc-4ee9-b2af-d239e0e4db6c",
   "metadata": {},
   "outputs": [],
   "source": []
  },
  {
   "cell_type": "code",
   "execution_count": null,
   "id": "11e5a6ac-8f90-4d8c-a932-738b7917d93f",
   "metadata": {},
   "outputs": [],
   "source": []
  },
  {
   "cell_type": "code",
   "execution_count": 10,
   "id": "3fcf8a2b-e674-4c42-8ba5-d16dfee03f53",
   "metadata": {},
   "outputs": [
    {
     "name": "stdin",
     "output_type": "stream",
     "text": [
      "enter value 5\n"
     ]
    },
    {
     "name": "stdout",
     "output_type": "stream",
     "text": [
      "5 X 1 = 5\n",
      "5 X 2 = 10\n",
      "5 X 3 = 15\n",
      "5 X 4 = 20\n",
      "5 X 5 = 25\n",
      "5 X 6 = 30\n",
      "5 X 7 = 35\n",
      "5 X 8 = 40\n",
      "5 X 9 = 45\n",
      "5 X 10 = 50\n"
     ]
    }
   ],
   "source": [
    "#Here temp_variable is a temp variable that can execute seq of values one by one. \n",
    "num = int(input(\"enter value\"))\n",
    "for i in range(1,11):\n",
    "    print(num,\"X\",i,\"=\",i*num)\n",
    "    \n",
    "#5X1=5\n",
    "#5X2=10"
   ]
  },
  {
   "cell_type": "code",
   "execution_count": null,
   "id": "30331d22-9653-41f7-80a7-d3b8592c58ad",
   "metadata": {},
   "outputs": [],
   "source": [
    "i"
   ]
  },
  {
   "cell_type": "code",
   "execution_count": null,
   "id": "0424d0d7-0bed-40f9-af31-9e63709d5967",
   "metadata": {},
   "outputs": [],
   "source": [
    "list1"
   ]
  },
  {
   "cell_type": "code",
   "execution_count": null,
   "id": "3aca9f80-988c-4382-87a5-42f0400bad8f",
   "metadata": {},
   "outputs": [],
   "source": [
    "list1.sort()"
   ]
  },
  {
   "cell_type": "code",
   "execution_count": null,
   "id": "4cd5736c-f166-4803-91dd-ef1183088598",
   "metadata": {},
   "outputs": [],
   "source": [
    "list1"
   ]
  },
  {
   "cell_type": "code",
   "execution_count": null,
   "id": "2288be54-5959-4da4-ae11-302f9b5840c9",
   "metadata": {},
   "outputs": [],
   "source": [
    "num=int(input())\n",
    "for i in range(1,11):\n",
    "    #10x1=10\n",
    "    print(num,\"x\",i,\"=\",num*i)"
   ]
  },
  {
   "cell_type": "code",
   "execution_count": null,
   "id": "c39e13ea-3bec-4084-955d-f3d8e6d7acd2",
   "metadata": {},
   "outputs": [],
   "source": []
  },
  {
   "cell_type": "code",
   "execution_count": null,
   "id": "1867fb7c-bae7-4366-a0ee-a8ad043fc7c5",
   "metadata": {},
   "outputs": [],
   "source": []
  },
  {
   "cell_type": "code",
   "execution_count": null,
   "id": "a04ebd08-984d-4303-a2d2-9771fa5beb27",
   "metadata": {},
   "outputs": [],
   "source": []
  },
  {
   "cell_type": "code",
   "execution_count": null,
   "id": "eb0e73ae-5d2b-4ef7-a1f0-c1da62f931ff",
   "metadata": {},
   "outputs": [],
   "source": [
    "table = int(input(\"enter table number:\"))\n",
    "for i in range(1,21):\n",
    "    if table*i<101:\n",
    "        print(table,\"x\",i,\"=\",table*i)\n",
    "    else:\n",
    "        break\n",
    "    \n",
    "#5x1=5\n",
    "#5x2=10\n",
    "#5x3=15"
   ]
  },
  {
   "cell_type": "code",
   "execution_count": null,
   "id": "d11863d3-0610-4832-9069-65c2e4d6375b",
   "metadata": {},
   "outputs": [],
   "source": []
  },
  {
   "cell_type": "code",
   "execution_count": null,
   "id": "c98ac27a-6177-408f-8c7b-cc4b6e59a268",
   "metadata": {},
   "outputs": [],
   "source": []
  },
  {
   "cell_type": "code",
   "execution_count": null,
   "id": "cfe1e9b0-79a4-4d5f-a97f-3e92410bb343",
   "metadata": {},
   "outputs": [],
   "source": []
  },
  {
   "cell_type": "code",
   "execution_count": null,
   "id": "c8a06398-45a8-42c8-b63b-7fff464ccdfc",
   "metadata": {},
   "outputs": [],
   "source": []
  },
  {
   "cell_type": "code",
   "execution_count": null,
   "id": "fffa4816-4ab3-437b-898e-a76aa494418e",
   "metadata": {},
   "outputs": [],
   "source": []
  },
  {
   "cell_type": "code",
   "execution_count": null,
   "id": "d4f988fd-f214-4143-b959-695f4b867ac2",
   "metadata": {},
   "outputs": [],
   "source": []
  },
  {
   "cell_type": "code",
   "execution_count": null,
   "id": "ccdc0dfe-288c-4a40-beb5-b27568a069ba",
   "metadata": {},
   "outputs": [],
   "source": []
  },
  {
   "cell_type": "code",
   "execution_count": null,
   "id": "41f3ed52-186b-487c-a735-e05fdd1c44a4",
   "metadata": {},
   "outputs": [],
   "source": []
  },
  {
   "cell_type": "code",
   "execution_count": null,
   "id": "d8a7b44e-8a44-48ac-94d5-9e3e7c821b5b",
   "metadata": {},
   "outputs": [],
   "source": []
  },
  {
   "cell_type": "code",
   "execution_count": null,
   "id": "0f6307e7-e59d-4621-bca7-fcc5aeaaf9af",
   "metadata": {},
   "outputs": [],
   "source": []
  },
  {
   "cell_type": "code",
   "execution_count": null,
   "id": "9f36fc2a-4b57-4e86-8a7b-1b963c0c39c1",
   "metadata": {},
   "outputs": [],
   "source": []
  },
  {
   "cell_type": "code",
   "execution_count": null,
   "id": "e5005af6-58b2-4d64-8d00-ebb1a583dfad",
   "metadata": {},
   "outputs": [],
   "source": [
    "fruits = [\"apple\",\"banana\",\"cherry\"]"
   ]
  },
  {
   "cell_type": "code",
   "execution_count": null,
   "id": "b328015b-37bd-4856-89c7-d0de582b7fd6",
   "metadata": {},
   "outputs": [],
   "source": [
    "for x in fruits:\n",
    "    print(x)"
   ]
  },
  {
   "cell_type": "code",
   "execution_count": null,
   "id": "6191dc08-0449-445b-8861-11556919c3bb",
   "metadata": {},
   "outputs": [],
   "source": [
    "word = \"Awesome\"\n",
    "\n",
    "for letter in word:\n",
    "    print(letter)"
   ]
  },
  {
   "cell_type": "code",
   "execution_count": null,
   "id": "348bb5ce-e705-48ab-b9dc-a82d2e97df26",
   "metadata": {},
   "outputs": [],
   "source": [
    "my_laptop = \"Asus Rog\"\n",
    "laptops = [\"Apple\",\"HP\",\"Asus Rog\",\"Dell\",\"Lenovo\"]\n",
    "\n",
    "for x in laptops:\n",
    "    if x == \"Asus Rog\":\n",
    "        \n",
    "        continue\n",
    "        print(\"This is my laptop\",x)\n",
    "    else:\n",
    "        print(x)\n",
    "    "
   ]
  },
  {
   "cell_type": "code",
   "execution_count": null,
   "id": "ddc3fcc5-adb5-4577-a35e-22cc27666b74",
   "metadata": {},
   "outputs": [],
   "source": [
    "for x in laptops:\n",
    "    print(x)\n",
    "    if x==\"Asus Rog\":\n",
    "        break\n",
    "    "
   ]
  },
  {
   "cell_type": "code",
   "execution_count": null,
   "id": "85c2f969-3384-49ec-8359-ac6eeef97bcf",
   "metadata": {},
   "outputs": [],
   "source": []
  },
  {
   "cell_type": "code",
   "execution_count": null,
   "id": "1bda7c34-3748-4547-901f-b3c0e2deac6c",
   "metadata": {},
   "outputs": [],
   "source": [
    "nums=[1,2,3,4,5,6,7,8,9,10]"
   ]
  },
  {
   "cell_type": "code",
   "execution_count": null,
   "id": "388fa09f-6f81-4f54-9db2-65e52e463cc3",
   "metadata": {},
   "outputs": [],
   "source": [
    "nums"
   ]
  },
  {
   "cell_type": "code",
   "execution_count": null,
   "id": "c2e8f968-4b50-44f6-a5da-1ea549c787e7",
   "metadata": {},
   "outputs": [],
   "source": [
    "for i in nums:\n",
    "    if i==3:\n",
    "        continue\n",
    "    else:\n",
    "        print(i)"
   ]
  },
  {
   "cell_type": "code",
   "execution_count": null,
   "id": "c4e0981c-ae56-4030-bc38-db961ecaff3b",
   "metadata": {},
   "outputs": [],
   "source": []
  },
  {
   "cell_type": "code",
   "execution_count": null,
   "id": "bbc95901-9c77-4bfd-8245-a18fccc79fc9",
   "metadata": {},
   "outputs": [],
   "source": []
  },
  {
   "cell_type": "code",
   "execution_count": null,
   "id": "aac1e0d1-f970-42b7-82d3-c96070b91537",
   "metadata": {},
   "outputs": [],
   "source": []
  },
  {
   "cell_type": "code",
   "execution_count": null,
   "id": "05db6928-8cf8-45a2-ad17-47cc03e956eb",
   "metadata": {},
   "outputs": [],
   "source": []
  },
  {
   "cell_type": "code",
   "execution_count": null,
   "id": "cf17f890-f613-49be-bf8f-ef6fa365dffe",
   "metadata": {},
   "outputs": [],
   "source": [
    "pin = int(input(\"enter pin number\"))\n",
    "\n",
    "count = 3\n",
    "for i in range(3):\n",
    "    if pin == 1212:\n",
    "        print(\"welcome\")\n",
    "        break\n",
    "    else:\n",
    "        print(\"wrong pin\")\n",
    "        count = count - 1\n",
    "        print(\"you have\", count, \"attempts left\")\n",
    "        pin = int(input(\"enter pin number\"))\n",
    "        "
   ]
  },
  {
   "cell_type": "code",
   "execution_count": null,
   "id": "16b67075-58f6-4b53-8837-ee2018877879",
   "metadata": {},
   "outputs": [],
   "source": []
  },
  {
   "cell_type": "code",
   "execution_count": null,
   "id": "04fd6b66-ba46-4905-b2a4-196f27a03428",
   "metadata": {},
   "outputs": [],
   "source": []
  },
  {
   "cell_type": "code",
   "execution_count": null,
   "id": "4559f6a4-80a3-41c0-8ec2-bdb2eb5656f9",
   "metadata": {},
   "outputs": [],
   "source": []
  },
  {
   "cell_type": "code",
   "execution_count": null,
   "id": "16bb2cd3-0967-4249-996d-e609419a86a6",
   "metadata": {},
   "outputs": [],
   "source": []
  },
  {
   "cell_type": "code",
   "execution_count": null,
   "id": "b670bfca-130b-4873-9f40-f9b5c3ee516e",
   "metadata": {},
   "outputs": [],
   "source": []
  },
  {
   "cell_type": "code",
   "execution_count": null,
   "id": "02fb15e3-0be8-49d2-b531-1c7286fd5e7f",
   "metadata": {},
   "outputs": [],
   "source": []
  },
  {
   "cell_type": "code",
   "execution_count": null,
   "id": "30757f3f-2c9a-4a13-8558-1c8c9a47ba30",
   "metadata": {},
   "outputs": [],
   "source": []
  },
  {
   "cell_type": "code",
   "execution_count": null,
   "id": "26fb7597-38f8-4c09-9b6e-8c8cf704383f",
   "metadata": {},
   "outputs": [],
   "source": []
  },
  {
   "cell_type": "code",
   "execution_count": null,
   "id": "e904365e-9ab6-4f9a-a225-11b82391a08f",
   "metadata": {},
   "outputs": [],
   "source": []
  },
  {
   "cell_type": "code",
   "execution_count": null,
   "id": "01a11790-b24f-4a77-a528-2f736299c479",
   "metadata": {},
   "outputs": [],
   "source": []
  },
  {
   "cell_type": "code",
   "execution_count": null,
   "id": "ccad8c44-9103-4b43-b981-e45cd5744719",
   "metadata": {},
   "outputs": [],
   "source": [
    "table_number = int(input(\"Enter table number\"))\n",
    "for x in range(1,21):\n",
    "    print(table_number,\"*\",x,\"=\",x*table_number)\n",
    "\n",
    "#work to do: 1*5 = 5, 2*5 =10"
   ]
  },
  {
   "cell_type": "code",
   "execution_count": null,
   "id": "66840bb4-1643-4bd0-a917-18a0c6cf1640",
   "metadata": {},
   "outputs": [],
   "source": [
    "programmingLanguages = {'J':'Java','P':'Python'}\n",
    "for key in programmingLanguages.keys():\n",
    "    print(key,programmingLanguages[key])"
   ]
  },
  {
   "cell_type": "code",
   "execution_count": null,
   "id": "f6dabdef-2892-48b9-ac96-89660ce8de20",
   "metadata": {},
   "outputs": [],
   "source": [
    "x = 0\n",
    "while x<10: \n",
    "    x=x+1\n",
    "    if x == 4:\n",
    "        break\n",
    "    print(x)"
   ]
  },
  {
   "cell_type": "code",
   "execution_count": null,
   "id": "f0e20b66-cc2d-4b5a-b72c-7b78d43019d6",
   "metadata": {},
   "outputs": [],
   "source": [
    "user_name = [\"surya\",\"surya01\",\"surya02\"]\n",
    "new_username = input(\"enter username\")\n",
    "for x in user_name:\n",
    "    if x == new_username:\n",
    "        print(new_username, \" is already taken\")\n",
    "    else:\n",
    "        print(\"welcome\", new_username)\n",
    "        break"
   ]
  },
  {
   "cell_type": "code",
   "execution_count": null,
   "id": "5e85ce11-a948-484f-8c8a-849c6850ea92",
   "metadata": {},
   "outputs": [],
   "source": []
  }
 ],
 "metadata": {
  "kernelspec": {
   "display_name": "Python 3 (ipykernel)",
   "language": "python",
   "name": "python3"
  },
  "language_info": {
   "codemirror_mode": {
    "name": "ipython",
    "version": 3
   },
   "file_extension": ".py",
   "mimetype": "text/x-python",
   "name": "python",
   "nbconvert_exporter": "python",
   "pygments_lexer": "ipython3",
   "version": "3.9.7"
  }
 },
 "nbformat": 4,
 "nbformat_minor": 5
}
