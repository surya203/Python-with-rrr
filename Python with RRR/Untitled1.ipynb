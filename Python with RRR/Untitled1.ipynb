{
 "cells": [
  {
   "cell_type": "code",
   "execution_count": 15,
   "id": "86874693-26c8-492b-bf2f-bdb7b3784f66",
   "metadata": {},
   "outputs": [
    {
     "name": "stdin",
     "output_type": "stream",
     "text": [
      "Enter your name:  zdgfjsda\n",
      "Enter the password:  hhkfgka\n"
     ]
    },
    {
     "name": "stdout",
     "output_type": "stream",
     "text": [
      "locked\n",
      "You have  2 attempts left.\n"
     ]
    },
    {
     "name": "stdin",
     "output_type": "stream",
     "text": [
      "Enter your name:  Surya_ai\n",
      "Enter the password:  123456\n"
     ]
    },
    {
     "name": "stdout",
     "output_type": "stream",
     "text": [
      "Unlock\n"
     ]
    }
   ],
   "source": [
    "username = input(\"Enter your name: \")\n",
    "password = input(\"Enter the password: \")\n",
    "\n",
    "count=2\n",
    "for i in range(3):\n",
    "    if username == \"Surya_ai\" and password == \"123456\":\n",
    "        print(\"Unlock\")\n",
    "        break\n",
    "    else:\n",
    "        print(\"locked\")\n",
    "        count = count -1\n",
    "        print(\"You have \",count+1, \"attempts left.\")\n",
    "        username = input(\"Enter your name: \")\n",
    "        password = input(\"Enter the password: \")\n"
   ]
  },
  {
   "cell_type": "code",
   "execution_count": null,
   "id": "bc40495a-dd10-44bd-befd-b84af31709b1",
   "metadata": {},
   "outputs": [],
   "source": [
    "6x1=6"
   ]
  }
 ],
 "metadata": {
  "kernelspec": {
   "display_name": "Python 3 (ipykernel)",
   "language": "python",
   "name": "python3"
  },
  "language_info": {
   "codemirror_mode": {
    "name": "ipython",
    "version": 3
   },
   "file_extension": ".py",
   "mimetype": "text/x-python",
   "name": "python",
   "nbconvert_exporter": "python",
   "pygments_lexer": "ipython3",
   "version": "3.9.7"
  }
 },
 "nbformat": 4,
 "nbformat_minor": 5
}
