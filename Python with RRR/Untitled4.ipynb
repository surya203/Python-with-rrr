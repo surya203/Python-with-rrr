{
 "cells": [
  {
   "cell_type": "code",
   "execution_count": 2,
   "id": "36ee585b-6783-4fb9-8611-0329572e1a55",
   "metadata": {},
   "outputs": [
    {
     "name": "stdout",
     "output_type": "stream",
     "text": [
      "<class 'str'>\n"
     ]
    }
   ],
   "source": [
    "#string\n",
    "\n",
    "print(type(\"hello world\"))"
   ]
  },
  {
   "cell_type": "code",
   "execution_count": 6,
   "id": "ef68f689-5674-4a8d-9a14-a3be902793c6",
   "metadata": {},
   "outputs": [],
   "source": [
    "my_text = \"56\""
   ]
  },
  {
   "cell_type": "code",
   "execution_count": 7,
   "id": "2d789f33-6713-406e-8d78-9d06d750c208",
   "metadata": {},
   "outputs": [
    {
     "name": "stdout",
     "output_type": "stream",
     "text": [
      "56\n"
     ]
    }
   ],
   "source": [
    "print(my_text)"
   ]
  },
  {
   "cell_type": "code",
   "execution_count": 8,
   "id": "5dc6bfd9-48d2-46aa-90b8-c771045c4e17",
   "metadata": {},
   "outputs": [],
   "source": [
    "no_of_oscars = 2"
   ]
  },
  {
   "cell_type": "code",
   "execution_count": 9,
   "id": "eaa6f376-2262-4baa-a241-a6400d5a2a59",
   "metadata": {},
   "outputs": [
    {
     "data": {
      "text/plain": [
       "int"
      ]
     },
     "execution_count": 9,
     "metadata": {},
     "output_type": "execute_result"
    }
   ],
   "source": [
    "type(no_of_oscars)"
   ]
  },
  {
   "cell_type": "code",
   "execution_count": 10,
   "id": "d6d4d643-8725-412d-89e0-dd4ef31f935a",
   "metadata": {},
   "outputs": [],
   "source": [
    "views_of_oscar = 14.6"
   ]
  },
  {
   "cell_type": "code",
   "execution_count": 11,
   "id": "692207ef-0624-47f1-a514-ad203c8cfb11",
   "metadata": {},
   "outputs": [
    {
     "data": {
      "text/plain": [
       "float"
      ]
     },
     "execution_count": 11,
     "metadata": {},
     "output_type": "execute_result"
    }
   ],
   "source": [
    "type(views_of_oscar)"
   ]
  },
  {
   "cell_type": "code",
   "execution_count": 14,
   "id": "8958fe83-1845-449f-ba12-30ea7900e183",
   "metadata": {},
   "outputs": [],
   "source": [
    "movie_count = \"126.56\""
   ]
  },
  {
   "cell_type": "code",
   "execution_count": 15,
   "id": "b0b5fe94-a8c0-4f07-8503-b6517f5370ff",
   "metadata": {},
   "outputs": [
    {
     "data": {
      "text/plain": [
       "str"
      ]
     },
     "execution_count": 15,
     "metadata": {},
     "output_type": "execute_result"
    }
   ],
   "source": [
    "type(movie_count)"
   ]
  },
  {
   "cell_type": "code",
   "execution_count": 22,
   "id": "19aad6dd-3985-401f-89ef-5804dc050347",
   "metadata": {},
   "outputs": [],
   "source": [
    "views = \"14.6m\""
   ]
  },
  {
   "cell_type": "code",
   "execution_count": 23,
   "id": "f47287a2-dfe4-46bc-bb69-e1288193b31a",
   "metadata": {},
   "outputs": [
    {
     "name": "stdout",
     "output_type": "stream",
     "text": [
      "14.6m\n"
     ]
    }
   ],
   "source": [
    "print(views)"
   ]
  },
  {
   "cell_type": "code",
   "execution_count": 24,
   "id": "aedf7793-b986-4dbf-9af7-aff7b210d029",
   "metadata": {},
   "outputs": [],
   "source": [
    "total_views = 56.7"
   ]
  },
  {
   "cell_type": "code",
   "execution_count": 25,
   "id": "f8f1cbdf-dac6-41e5-81bd-c9c71c1b8dd8",
   "metadata": {},
   "outputs": [
    {
     "name": "stdout",
     "output_type": "stream",
     "text": [
      "56.7\n"
     ]
    }
   ],
   "source": [
    "print(total_views)"
   ]
  },
  {
   "cell_type": "code",
   "execution_count": 26,
   "id": "65a7de43-8ece-43bf-b28e-2ae40b9855be",
   "metadata": {},
   "outputs": [
    {
     "data": {
      "text/plain": [
       "float"
      ]
     },
     "execution_count": 26,
     "metadata": {},
     "output_type": "execute_result"
    }
   ],
   "source": [
    "type(total_views)"
   ]
  },
  {
   "cell_type": "code",
   "execution_count": 27,
   "id": "7f5f191c-3f11-46a1-8d49-f337d17bf039",
   "metadata": {},
   "outputs": [],
   "source": [
    "total_views_in_int = int(total_views)"
   ]
  },
  {
   "cell_type": "code",
   "execution_count": 28,
   "id": "906e8e6b-dc19-42a4-8808-b9f64328e43d",
   "metadata": {},
   "outputs": [
    {
     "name": "stdout",
     "output_type": "stream",
     "text": [
      "56\n"
     ]
    }
   ],
   "source": [
    "print(total_views_in_int)"
   ]
  },
  {
   "cell_type": "code",
   "execution_count": 29,
   "id": "878c6fd5-61a4-4cd3-94a0-5272faefe81d",
   "metadata": {},
   "outputs": [
    {
     "data": {
      "text/plain": [
       "int"
      ]
     },
     "execution_count": 29,
     "metadata": {},
     "output_type": "execute_result"
    }
   ],
   "source": [
    "type(total_views_in_int)"
   ]
  },
  {
   "cell_type": "code",
   "execution_count": 30,
   "id": "66a16e51-327b-45cc-ac21-a15d3128f1d0",
   "metadata": {},
   "outputs": [],
   "source": [
    "no_of_oscars_in_float = float(no_of_oscars)"
   ]
  },
  {
   "cell_type": "code",
   "execution_count": 31,
   "id": "646e63a8-20b9-4d1e-8329-ee45cf34adc2",
   "metadata": {},
   "outputs": [
    {
     "name": "stdout",
     "output_type": "stream",
     "text": [
      "2.0\n"
     ]
    }
   ],
   "source": [
    "print(no_of_oscars_in_float)"
   ]
  },
  {
   "cell_type": "code",
   "execution_count": 32,
   "id": "f5be3e8d-d528-48de-aa84-c8cc0205109b",
   "metadata": {},
   "outputs": [
    {
     "data": {
      "text/plain": [
       "float"
      ]
     },
     "execution_count": 32,
     "metadata": {},
     "output_type": "execute_result"
    }
   ],
   "source": [
    "type(no_of_oscars_in_float)"
   ]
  },
  {
   "cell_type": "code",
   "execution_count": 33,
   "id": "dacc447f-dfc3-47cb-a553-3c6743c67101",
   "metadata": {},
   "outputs": [],
   "source": [
    "surya = True\n"
   ]
  },
  {
   "cell_type": "code",
   "execution_count": 34,
   "id": "d56a8f2b-3352-4491-9326-8d03de7fdc71",
   "metadata": {},
   "outputs": [
    {
     "name": "stdout",
     "output_type": "stream",
     "text": [
      "True\n"
     ]
    }
   ],
   "source": [
    "print(surya)"
   ]
  },
  {
   "cell_type": "code",
   "execution_count": 36,
   "id": "7749842e-9e34-4cab-a3a0-fc2e82569f67",
   "metadata": {},
   "outputs": [],
   "source": [
    "fan_is_on = True"
   ]
  },
  {
   "cell_type": "code",
   "execution_count": 37,
   "id": "22b52332-be47-4ebe-b090-9e3fbdebbd58",
   "metadata": {},
   "outputs": [],
   "source": [
    "fan_is_off = false, False"
   ]
  },
  {
   "cell_type": "code",
   "execution_count": null,
   "id": "8488be60-3034-4931-be39-28c3e9404bfa",
   "metadata": {},
   "outputs": [],
   "source": []
  }
 ],
 "metadata": {
  "kernelspec": {
   "display_name": "Python 3 (ipykernel)",
   "language": "python",
   "name": "python3"
  },
  "language_info": {
   "codemirror_mode": {
    "name": "ipython",
    "version": 3
   },
   "file_extension": ".py",
   "mimetype": "text/x-python",
   "name": "python",
   "nbconvert_exporter": "python",
   "pygments_lexer": "ipython3",
   "version": "3.9.7"
  }
 },
 "nbformat": 4,
 "nbformat_minor": 5
}
