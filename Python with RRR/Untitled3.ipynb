{
 "cells": [
  {
   "cell_type": "code",
   "execution_count": 1,
   "id": "550fbcde-2f46-4e1c-90eb-d29ad335f35a",
   "metadata": {},
   "outputs": [
    {
     "name": "stdout",
     "output_type": "stream",
     "text": [
      "Hello AI\n"
     ]
    }
   ],
   "source": [
    "print(\"Hello AI\")"
   ]
  },
  {
   "cell_type": "code",
   "execution_count": 30,
   "id": "23ca1e6a-181c-4e74-822f-b66b5661ee06",
   "metadata": {},
   "outputs": [
    {
     "data": {
      "text/plain": [
       "68"
      ]
     },
     "execution_count": 30,
     "metadata": {},
     "output_type": "execute_result"
    }
   ],
   "source": [
    "23+45"
   ]
  },
  {
   "cell_type": "code",
   "execution_count": 31,
   "id": "f6ac52b9-e3f7-49a7-83e2-55134b330576",
   "metadata": {},
   "outputs": [
    {
     "data": {
      "text/plain": [
       "420"
      ]
     },
     "execution_count": 31,
     "metadata": {},
     "output_type": "execute_result"
    }
   ],
   "source": [
    "190+230"
   ]
  },
  {
   "cell_type": "code",
   "execution_count": 32,
   "id": "f9276680-b3a0-4468-8b6f-bf5fb1b938ad",
   "metadata": {},
   "outputs": [
    {
     "name": "stdout",
     "output_type": "stream",
     "text": [
      "ok\n"
     ]
    }
   ],
   "source": [
    "print(\"ok\")"
   ]
  },
  {
   "cell_type": "code",
   "execution_count": 5,
   "id": "c5642369-3fe7-4e84-93f7-da0e1cf6ab60",
   "metadata": {},
   "outputs": [],
   "source": [
    "ntr = 50"
   ]
  },
  {
   "cell_type": "code",
   "execution_count": 6,
   "id": "03f0d068-adf3-4b92-9e8c-d985cd5d664f",
   "metadata": {},
   "outputs": [
    {
     "name": "stdout",
     "output_type": "stream",
     "text": [
      "50\n"
     ]
    }
   ],
   "source": [
    "print(ntr)"
   ]
  },
  {
   "cell_type": "code",
   "execution_count": 7,
   "id": "bf29fe00-f44d-4c0c-ba6d-aee8fe85d2c3",
   "metadata": {},
   "outputs": [
    {
     "name": "stdout",
     "output_type": "stream",
     "text": [
      "I am printing somwthing\n"
     ]
    }
   ],
   "source": [
    "print(\"I am printing somwthing\")"
   ]
  },
  {
   "cell_type": "code",
   "execution_count": 16,
   "id": "53948707-1837-4545-89c4-f055967ad5e7",
   "metadata": {},
   "outputs": [
    {
     "name": "stdout",
     "output_type": "stream",
     "text": [
      "57\n"
     ]
    }
   ],
   "source": [
    "_sur4ya5 = 57\n",
    "print(_sur4ya5)"
   ]
  },
  {
   "cell_type": "code",
   "execution_count": 17,
   "id": "3d723ba5-e707-4546-bbe4-4dfc5f01e85b",
   "metadata": {},
   "outputs": [],
   "source": [
    "charan = 400"
   ]
  },
  {
   "cell_type": "code",
   "execution_count": 27,
   "id": "ad293cd0-220b-4741-9add-52cead603b06",
   "metadata": {},
   "outputs": [
    {
     "name": "stdout",
     "output_type": "stream",
     "text": [
      "400\n"
     ]
    }
   ],
   "source": [
    "print(charan)"
   ]
  },
  {
   "cell_type": "code",
   "execution_count": 21,
   "id": "d8aaee38-bb22-481e-b1fb-8056f1deede7",
   "metadata": {},
   "outputs": [],
   "source": [
    "CHARAN = 360"
   ]
  },
  {
   "cell_type": "code",
   "execution_count": 28,
   "id": "ddb6802c-eeb2-4d60-a65d-a603c8d6835c",
   "metadata": {},
   "outputs": [
    {
     "name": "stdout",
     "output_type": "stream",
     "text": [
      "360\n"
     ]
    }
   ],
   "source": [
    "print(CHARAN)"
   ]
  },
  {
   "cell_type": "code",
   "execution_count": 29,
   "id": "ab463728-4700-4c6f-890f-c7fc46603c2f",
   "metadata": {},
   "outputs": [
    {
     "name": "stdout",
     "output_type": "stream",
     "text": [
      "900\n"
     ]
    }
   ],
   "source": [
    "print(Charan)"
   ]
  },
  {
   "cell_type": "code",
   "execution_count": 25,
   "id": "84e3f98a-82f9-42cc-a00e-554547b9442f",
   "metadata": {},
   "outputs": [],
   "source": [
    "Charan = 900   #shift+enter == execution"
   ]
  },
  {
   "cell_type": "code",
   "execution_count": null,
   "id": "3333b11b-c57a-4137-9a18-94fe5f763843",
   "metadata": {},
   "outputs": [],
   "source": []
  },
  {
   "cell_type": "code",
   "execution_count": null,
   "id": "5a076dee-0567-4aa3-a4e2-b6674d87c368",
   "metadata": {},
   "outputs": [],
   "source": []
  },
  {
   "cell_type": "code",
   "execution_count": null,
   "id": "055ece06-f506-4499-9410-e35d361b5aaa",
   "metadata": {},
   "outputs": [],
   "source": []
  },
  {
   "cell_type": "code",
   "execution_count": null,
   "id": "f2a69325-c00b-4e1c-a421-53834090dab9",
   "metadata": {},
   "outputs": [],
   "source": []
  },
  {
   "cell_type": "code",
   "execution_count": null,
   "id": "b7fc75c1-d55b-4d3f-a225-0a210f8efa77",
   "metadata": {},
   "outputs": [],
   "source": []
  },
  {
   "cell_type": "code",
   "execution_count": null,
   "id": "8a1df24c-34e1-4168-93fb-24078767ca37",
   "metadata": {},
   "outputs": [],
   "source": []
  },
  {
   "cell_type": "code",
   "execution_count": null,
   "id": "a1bbe9e9-b95e-479b-8f8b-3e3ea93775ae",
   "metadata": {},
   "outputs": [],
   "source": []
  },
  {
   "cell_type": "code",
   "execution_count": null,
   "id": "6135540b-69ca-47f8-97d9-40ae53813169",
   "metadata": {},
   "outputs": [],
   "source": []
  },
  {
   "cell_type": "code",
   "execution_count": null,
   "id": "6012807b-eb9d-43b7-8800-4dc11c2cb739",
   "metadata": {},
   "outputs": [],
   "source": []
  },
  {
   "cell_type": "code",
   "execution_count": null,
   "id": "8930be86-41b5-4c5f-9b30-9c766b9c22d7",
   "metadata": {},
   "outputs": [],
   "source": []
  },
  {
   "cell_type": "code",
   "execution_count": null,
   "id": "9a4468eb-ec8c-4550-b92d-e3da6cfad776",
   "metadata": {},
   "outputs": [],
   "source": []
  },
  {
   "cell_type": "code",
   "execution_count": null,
   "id": "79c92604-0d8e-45ab-ba4f-c2a6654913b6",
   "metadata": {},
   "outputs": [],
   "source": [
    "print(ntr)"
   ]
  },
  {
   "cell_type": "code",
   "execution_count": null,
   "id": "8f83aaa4-b961-450a-913d-8333991090fa",
   "metadata": {},
   "outputs": [],
   "source": []
  },
  {
   "cell_type": "code",
   "execution_count": null,
   "id": "bcd4eef2-929c-416d-8066-230c2be7fc7c",
   "metadata": {},
   "outputs": [],
   "source": []
  },
  {
   "cell_type": "code",
   "execution_count": null,
   "id": "389ea745-f505-4d24-93d7-e2d37aec75c2",
   "metadata": {},
   "outputs": [],
   "source": []
  },
  {
   "cell_type": "code",
   "execution_count": null,
   "id": "3fc5027e-4bbd-445f-babe-d92cce671ebe",
   "metadata": {},
   "outputs": [],
   "source": []
  },
  {
   "cell_type": "code",
   "execution_count": null,
   "id": "b9545002-4f19-4ae4-9e6e-583bfe64a306",
   "metadata": {},
   "outputs": [],
   "source": []
  }
 ],
 "metadata": {
  "kernelspec": {
   "display_name": "Python 3 (ipykernel)",
   "language": "python",
   "name": "python3"
  },
  "language_info": {
   "codemirror_mode": {
    "name": "ipython",
    "version": 3
   },
   "file_extension": ".py",
   "mimetype": "text/x-python",
   "name": "python",
   "nbconvert_exporter": "python",
   "pygments_lexer": "ipython3",
   "version": "3.9.7"
  }
 },
 "nbformat": 4,
 "nbformat_minor": 5
}
