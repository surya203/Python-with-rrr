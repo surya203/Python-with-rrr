{
 "cells": [
  {
   "cell_type": "code",
   "execution_count": 1,
   "id": "e0bae228-8001-4214-a160-da0a7238cc02",
   "metadata": {},
   "outputs": [
    {
     "name": "stdout",
     "output_type": "stream",
     "text": [
      "The Godfather\n",
      "The Shawshank Redemption\n",
      "The Dark Knight\n",
      "Pulp Fiction\n",
      "The Matrix\n"
     ]
    }
   ],
   "source": [
    "# Define a list of movie titles\n",
    "movies = [\"The Godfather\", \"The Shawshank Redemption\", \"The Dark Knight\", \"Pulp Fiction\", \"The Matrix\"]\n",
    "\n",
    "# Use a for loop to iterate through the list and print each title\n",
    "for movie in movies:\n",
    "    print(movie)\n"
   ]
  },
  {
   "cell_type": "code",
   "execution_count": 2,
   "id": "90d8c59d-0f6b-453c-805e-8568f9cde384",
   "metadata": {},
   "outputs": [
    {
     "name": "stdout",
     "output_type": "stream",
     "text": [
      "1\n",
      "2\n",
      "3\n",
      "4\n"
     ]
    }
   ],
   "source": [
    "# Define a list of numbers\n",
    "numbers = [1, 2, 3, 4, 5, 6, 7, 8, 9, 10]\n",
    "\n",
    "# Use a for loop to iterate through the list and print each number\n",
    "for num in numbers:\n",
    "    if num == 5:\n",
    "        break   # Exit the loop if the current number is 5\n",
    "    print(num)\n"
   ]
  },
  {
   "cell_type": "code",
   "execution_count": 3,
   "id": "51bdf6ff-9c5f-417c-9216-e45fd2a46777",
   "metadata": {},
   "outputs": [
    {
     "name": "stdout",
     "output_type": "stream",
     "text": [
      "2\n",
      "4\n",
      "6\n",
      "8\n",
      "10\n"
     ]
    }
   ],
   "source": [
    "# Define a list of numbers\n",
    "numbers = [1, 2, 3, 4, 5, 6, 7, 8, 9, 10]\n",
    "\n",
    "# Use a for loop to iterate through the list and print each even number\n",
    "for num in numbers:\n",
    "    if num % 2 != 0:\n",
    "        continue   # Skip to the next iteration if the current number is odd\n",
    "    print(num)\n"
   ]
  },
  {
   "cell_type": "code",
   "execution_count": 4,
   "id": "4615f7cc-b19c-4447-8a46-92763bd85eca",
   "metadata": {},
   "outputs": [
    {
     "name": "stdout",
     "output_type": "stream",
     "text": [
      "1\n",
      "3\n",
      "5\n",
      "7\n",
      "9\n"
     ]
    }
   ],
   "source": [
    "# Define a list of numbers\n",
    "numbers = [1, 2, 3, 4, 5, 6, 7, 8, 9, 10]\n",
    "\n",
    "# Use a for loop to iterate through the list\n",
    "for num in numbers:\n",
    "    if num % 2 == 0:\n",
    "        pass   # Placeholder for future code\n",
    "    else:\n",
    "        print(num)\n"
   ]
  },
  {
   "cell_type": "code",
   "execution_count": 5,
   "id": "cd771652-2b18-4a3a-9bad-5b723ce685b7",
   "metadata": {},
   "outputs": [
    {
     "name": "stdout",
     "output_type": "stream",
     "text": [
      "Virat Kohli\n",
      "Steve Smith\n",
      "Kane Williamson\n",
      "Joe Root\n",
      "Babar Azam\n"
     ]
    }
   ],
   "source": [
    "# Define a list of cricket players\n",
    "players = [\"Virat Kohli\", \"Steve Smith\", \"Kane Williamson\", \"Joe Root\", \"Babar Azam\"]\n",
    "\n",
    "# Use a for loop to iterate through the list and print each player's name\n",
    "for player in players:\n",
    "    print(player)\n"
   ]
  },
  {
   "cell_type": "code",
   "execution_count": 6,
   "id": "a58d9785-f7c5-477e-a2e7-93cecfd8e5bc",
   "metadata": {},
   "outputs": [
    {
     "name": "stdout",
     "output_type": "stream",
     "text": [
      "Half-century scored!\n",
      "Half-century scored!\n",
      "Half-century scored!\n",
      "Half-century scored!\n",
      "Eighty scored!\n",
      "Half-century scored!\n",
      "Eighty scored!\n",
      "Half-century scored!\n",
      "Eighty scored!\n",
      "Century scored!\n",
      "Total score: 450\n"
     ]
    }
   ],
   "source": [
    "# Define a list of scores in a cricket match\n",
    "scores = [10, 20, 30, 40, 50, 60, 70, 80, 90, 100]\n",
    "\n",
    "# Use a for loop to iterate through the list and calculate the total score\n",
    "total = 0\n",
    "for score in scores:\n",
    "    if score >= 50:\n",
    "        print(\"Half-century scored!\")\n",
    "    if score >= 80:\n",
    "        print(\"Eighty scored!\")\n",
    "    if score >= 100:\n",
    "        print(\"Century scored!\")\n",
    "        break   # Exit the loop if a century is scored\n",
    "    total += score\n",
    "\n",
    "print(\"Total score:\", total)\n"
   ]
  },
  {
   "cell_type": "code",
   "execution_count": 7,
   "id": "1875e160-6d1c-4622-9047-31b2ee809de1",
   "metadata": {},
   "outputs": [
    {
     "name": "stdout",
     "output_type": "stream",
     "text": [
      "Virat Kohli\n",
      "Kane Williamson\n",
      "Joe Root\n",
      "Babar Azam\n",
      "Captain: Virat Kohli\n"
     ]
    }
   ],
   "source": [
    "# Define a list of cricket players\n",
    "players = [\"Virat Kohli\", \"Steve Smith\", \"Kane Williamson\", \"Joe Root\", \"Babar Azam\"]\n",
    "\n",
    "# Use a for loop to iterate through the list and print the captain's name\n",
    "for player in players:\n",
    "    if player == \"Steve Smith\":\n",
    "        continue   # Skip over Steve Smith\n",
    "    print(player)\n",
    "\n",
    "print(\"Captain:\", players[0])\n"
   ]
  },
  {
   "cell_type": "code",
   "execution_count": null,
   "id": "bca4d787-4b5c-429c-b6a2-f84bb8493295",
   "metadata": {},
   "outputs": [],
   "source": []
  },
  {
   "cell_type": "code",
   "execution_count": null,
   "id": "9bb941be-8b0b-421c-a329-f10dce36addb",
   "metadata": {},
   "outputs": [],
   "source": []
  },
  {
   "cell_type": "code",
   "execution_count": null,
   "id": "da1ab5cf-f457-4f40-a68f-61040a2cfbde",
   "metadata": {},
   "outputs": [],
   "source": []
  },
  {
   "cell_type": "code",
   "execution_count": null,
   "id": "f1ca0405-87be-4b28-a9e2-3815aac6621b",
   "metadata": {},
   "outputs": [],
   "source": []
  },
  {
   "cell_type": "markdown",
   "id": "a18f9848-cb3c-46de-b760-4895409f68e9",
   "metadata": {},
   "source": [
    "<h1> Load Aim Shoot"
   ]
  },
  {
   "cell_type": "code",
   "execution_count": 11,
   "id": "b4653b47-9760-4aee-9156-c2ff7cb30add",
   "metadata": {},
   "outputs": [
    {
     "name": "stdout",
     "output_type": "stream",
     "text": [
      "Load Aim Shoot\n",
      "bullets left in box: 59\n",
      "Load Aim Shoot\n",
      "bullets left in box: 58\n",
      "Load Aim Shoot\n",
      "bullets left in box: 57\n",
      "Load Aim Shoot\n",
      "bullets left in box: 56\n",
      "Load Aim Shoot\n",
      "bullets left in box: 55\n",
      "Load Aim Shoot\n",
      "bullets left in box: 54\n",
      "Load Aim Shoot\n",
      "bullets left in box: 53\n",
      "Load Aim Shoot\n",
      "bullets left in box: 52\n",
      "Load Aim Shoot\n",
      "bullets left in box: 51\n",
      "Load Aim Shoot\n",
      "bullets left in box: 50\n",
      "Load Aim Shoot\n",
      "bullets left in box: 49\n",
      "Load Aim Shoot\n",
      "bullets left in box: 48\n",
      "Load Aim Shoot\n",
      "bullets left in box: 47\n",
      "Load Aim Shoot\n",
      "bullets left in box: 46\n",
      "Load Aim Shoot\n",
      "bullets left in box: 45\n",
      "Load Aim Shoot\n",
      "bullets left in box: 44\n",
      "Load Aim Shoot\n",
      "bullets left in box: 43\n",
      "Load Aim Shoot\n",
      "bullets left in box: 42\n",
      "Load Aim Shoot\n",
      "bullets left in box: 41\n",
      "Load Aim Shoot\n",
      "bullets left in box: 40\n",
      "Load Aim Shoot\n",
      "bullets left in box: 39\n",
      "Load Aim Shoot\n",
      "bullets left in box: 38\n",
      "Load Aim Shoot\n",
      "bullets left in box: 37\n",
      "Load Aim Shoot\n",
      "bullets left in box: 36\n",
      "Load Aim Shoot\n",
      "bullets left in box: 35\n",
      "Load Aim Shoot\n",
      "bullets left in box: 34\n",
      "Load Aim Shoot\n",
      "bullets left in box: 33\n",
      "Load Aim Shoot\n",
      "bullets left in box: 32\n",
      "Load Aim Shoot\n",
      "bullets left in box: 31\n",
      "Load Aim Shoot\n",
      "bullets left in box: 30\n",
      "Load Aim Shoot\n",
      "bullets left in box: 29\n",
      "Load Aim Shoot\n",
      "bullets left in box: 28\n",
      "Load Aim Shoot\n",
      "bullets left in box: 27\n",
      "Load Aim Shoot\n",
      "bullets left in box: 26\n",
      "Load Aim Shoot\n",
      "bullets left in box: 25\n",
      "Load Aim Shoot\n",
      "bullets left in box: 24\n",
      "Load Aim Shoot\n",
      "bullets left in box: 23\n",
      "Load Aim Shoot\n",
      "bullets left in box: 22\n",
      "Load Aim Shoot\n",
      "bullets left in box: 21\n",
      "Load Aim Shoot\n",
      "bullets left in box: 20\n",
      "Load Aim Shoot\n",
      "bullets left in box: 19\n",
      "Load Aim Shoot\n",
      "bullets left in box: 18\n",
      "Load Aim Shoot\n",
      "bullets left in box: 17\n",
      "Load Aim Shoot\n",
      "bullets left in box: 16\n",
      "Load Aim Shoot\n",
      "bullets left in box: 15\n",
      "Load Aim Shoot\n",
      "bullets left in box: 14\n",
      "Load Aim Shoot\n",
      "bullets left in box: 13\n",
      "Load Aim Shoot\n",
      "bullets left in box: 12\n",
      "Load Aim Shoot\n",
      "bullets left in box: 11\n",
      "Load Aim Shoot\n",
      "bullets left in box: 10\n",
      "Load Aim Shoot\n",
      "bullets left in box: 9\n",
      "Load Aim Shoot\n",
      "bullets left in box: 8\n",
      "Load Aim Shoot\n",
      "bullets left in box: 7\n",
      "Load Aim Shoot\n",
      "bullets left in box: 6\n",
      "Load Aim Shoot\n",
      "bullets left in box: 5\n",
      "Load Aim Shoot\n",
      "bullets left in box: 4\n",
      "Load Aim Shoot\n",
      "bullets left in box: 3\n",
      "Load Aim Shoot\n",
      "bullets left in box: 2\n",
      "Load Aim Shoot\n",
      "bullets left in box: 1\n",
      "Load Aim Shoot\n",
      "aj dead\n"
     ]
    }
   ],
   "source": [
    "b_box=60\n",
    "\n",
    "for bullet in range(60):\n",
    "    print(\"Load Aim Shoot\")\n",
    "    b_box = b_box-1\n",
    "    \n",
    "    if b_box==0:\n",
    "        print(\"aj dead\")\n",
    "    else:\n",
    "        print(\"bullets left in box:\",b_box)"
   ]
  },
  {
   "cell_type": "code",
   "execution_count": 14,
   "id": "b25b7766-d68f-49b2-873c-75f350c775f6",
   "metadata": {},
   "outputs": [
    {
     "name": "stdout",
     "output_type": "stream",
     "text": [
      "Thinnara\n",
      "Thinnara\n",
      "Thinnara\n",
      "Thinnara\n",
      "Thinnara\n",
      "matched\n",
      "Thinnara\n",
      "Thinnara\n",
      "Thinnara\n",
      "Thinnara\n",
      "Thinnara\n"
     ]
    }
   ],
   "source": [
    "prabas_grp = 10\n",
    "qtr = 0\n",
    "\n",
    "for i in range(10):\n",
    "    \n",
    "    print(\"Thinnara\")\n",
    "    qtr=qtr+1\n",
    "    if qtr==5:\n",
    "        print(\"matched\")"
   ]
  },
  {
   "cell_type": "code",
   "execution_count": 24,
   "id": "50dc0e31-f6ac-4b34-b25b-7c7255b32c1a",
   "metadata": {},
   "outputs": [
    {
     "name": "stdin",
     "output_type": "stream",
     "text": [
      "enter balance: 4000\n"
     ]
    },
    {
     "name": "stdout",
     "output_type": "stream",
     "text": [
      "success\n",
      "3200\n"
     ]
    }
   ],
   "source": [
    "gas_bill=800\n",
    "balance =int(input(\"enter balance:\"))\n",
    "\n",
    "for i in range(3):\n",
    "    if balance <=799:\n",
    "        print(\"low bln\")\n",
    "        balance =int(input(\"enter balance:\"))\n",
    "    else:\n",
    "        print(\"success\")\n",
    "        balance = balance-gas_bill\n",
    "        print(balance)\n",
    "        break\n",
    "        "
   ]
  },
  {
   "cell_type": "code",
   "execution_count": null,
   "id": "43db5d88-1f02-4e52-8822-e1ce467a7a11",
   "metadata": {},
   "outputs": [],
   "source": []
  }
 ],
 "metadata": {
  "kernelspec": {
   "display_name": "Python 3 (ipykernel)",
   "language": "python",
   "name": "python3"
  },
  "language_info": {
   "codemirror_mode": {
    "name": "ipython",
    "version": 3
   },
   "file_extension": ".py",
   "mimetype": "text/x-python",
   "name": "python",
   "nbconvert_exporter": "python",
   "pygments_lexer": "ipython3",
   "version": "3.9.7"
  }
 },
 "nbformat": 4,
 "nbformat_minor": 5
}
