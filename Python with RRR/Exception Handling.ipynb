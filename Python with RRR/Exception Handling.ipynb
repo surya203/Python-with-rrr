{
 "cells": [
  {
   "cell_type": "markdown",
   "id": "bdc56414-37a6-4c29-b0ab-591829405424",
   "metadata": {},
   "source": [
    "<h1> Exception Handling"
   ]
  },
  {
   "cell_type": "markdown",
   "id": "dc8eb1c8-55c4-4ff4-bab8-0acd2d748e52",
   "metadata": {},
   "source": [
    "<p>Error in Python can be of two types i.e. <b>Syntax errors and Exceptions.</b> Errors are the problems in a program due to which the program will stop the execution. On the other hand, exceptions are raised when some internal events occur which changes the normal flow of the program. "
   ]
  },
  {
   "cell_type": "markdown",
   "id": "2eca9a63-1cc3-4361-8640-e64977e79df4",
   "metadata": {},
   "source": [
    "<h3>Difference between Syntax Error and Exceptions"
   ]
  },
  {
   "cell_type": "markdown",
   "id": "a5633a8f-825e-4209-9ae2-77110fcfa229",
   "metadata": {},
   "source": [
    "<p><b>Syntax Error:</b> As the name suggests this error is caused by the wrong syntax in the code. It leads to the termination of the program. "
   ]
  },
  {
   "cell_type": "code",
   "execution_count": null,
   "id": "819c21e5-296e-4ec5-b6c3-d0be3ffc46eb",
   "metadata": {},
   "outputs": [],
   "source": [
    "# initialize the amount variable\n",
    "amount = 10000\n",
    "\n",
    "if(amount > 2999):\n",
    "    print(\"You are eligible to purchase Dsa Self Paced\")"
   ]
  },
  {
   "cell_type": "markdown",
   "id": "6965c43f-0ab0-402e-900f-b681c901ecc5",
   "metadata": {},
   "source": [
    "<p><b>Exceptions:</b> Exceptions are raised when the program is syntactically correct, but the code resulted in an error. This error does not stop the execution of the program, however, it changes the normal flow of the program."
   ]
  },
  {
   "cell_type": "code",
   "execution_count": null,
   "id": "c891a48e-e9b6-4d1b-8243-f88cea02616c",
   "metadata": {},
   "outputs": [],
   "source": [
    "100/0"
   ]
  },
  {
   "cell_type": "code",
   "execution_count": null,
   "id": "374e9353-5f40-489b-aae9-183d6b54275e",
   "metadata": {},
   "outputs": [],
   "source": [
    "# initialize the amount variable\n",
    "marks = 10000\n",
    " \n",
    "# perform division with 0\n",
    "a = marks / 0\n",
    "print(\"Hi\")\n",
    "print(a)\n",
    "print(\"Hello\")"
   ]
  },
  {
   "cell_type": "markdown",
   "id": "0411cb54-a80d-4f86-9449-99daed8fb59d",
   "metadata": {},
   "source": [
    "<h3>Try and Except Statement "
   ]
  },
  {
   "cell_type": "code",
   "execution_count": null,
   "id": "9348316f-690a-438b-9bb4-dd36e84d8a4d",
   "metadata": {},
   "outputs": [],
   "source": [
    "def divide(a, b):\n",
    "    try:\n",
    "        return a / b\n",
    "    except ZeroDivisionError:\n",
    "        return \"Division by zero is not allowed\""
   ]
  },
  {
   "cell_type": "code",
   "execution_count": null,
   "id": "63cbb5a2-7dd2-4afe-ab62-4febf63bab22",
   "metadata": {},
   "outputs": [],
   "source": [
    "print(\"Hi\")\n",
    "print(divide(\"a\",0))\n",
    "print(\"Hello\")"
   ]
  },
  {
   "cell_type": "code",
   "execution_count": null,
   "id": "6f39a790-159b-4aa4-9221-1b616937c2a7",
   "metadata": {},
   "outputs": [],
   "source": []
  },
  {
   "cell_type": "markdown",
   "id": "4f708c8a-573e-40ed-a7ab-dc15e5dee1ad",
   "metadata": {},
   "source": [
    "<h3>Try Except and Finally Statements"
   ]
  },
  {
   "cell_type": "code",
   "execution_count": 1,
   "id": "17984c44-d2a1-4273-9396-42448eaa5add",
   "metadata": {},
   "outputs": [],
   "source": [
    "def exception_handling():\n",
    "    try:\n",
    "        a = int(input(\"Enter a number: \"))\n",
    "        b = int(input(\"Enter another number: \"))\n",
    "        print(a/b)\n",
    "    except ZeroDivisionError:\n",
    "        print(\"You can't divide by zero\")\n",
    "    except ValueError:\n",
    "        print(\"You must enter a number\")\n",
    "    except:\n",
    "        print(\"Something went wrong\")\n",
    "    else:\n",
    "        print(\"Nothing went wrong\")\n",
    "    finally:\n",
    "        print(\"This is our final block\")"
   ]
  },
  {
   "cell_type": "code",
   "execution_count": 9,
   "id": "965860af-d7f8-4168-9477-1c58a45778f4",
   "metadata": {},
   "outputs": [
    {
     "name": "stdin",
     "output_type": "stream",
     "text": [
      "Enter a number:  5\n",
      "Enter another number:  \n"
     ]
    },
    {
     "name": "stdout",
     "output_type": "stream",
     "text": [
      "You must enter a number\n",
      "This is our final block\n"
     ]
    }
   ],
   "source": [
    "exception_handling()"
   ]
  },
  {
   "cell_type": "code",
   "execution_count": 46,
   "id": "1ada8427-891b-4607-bf0c-6aea49d00619",
   "metadata": {},
   "outputs": [],
   "source": [
    "def exception_handling(n):\n",
    "    try:\n",
    "        print(n**2)\n",
    "    except NameError:\n",
    "        print(\"undefined Variable\")\n",
    "    except:\n",
    "        print(\"something went wrong\")\n",
    "    else:\n",
    "        print(\"There is no Error\")\n"
   ]
  },
  {
   "cell_type": "code",
   "execution_count": 47,
   "id": "fa57333f-d1a0-454f-8936-30590eb29d26",
   "metadata": {},
   "outputs": [
    {
     "name": "stdout",
     "output_type": "stream",
     "text": [
      "4489\n",
      "There is no Error\n"
     ]
    }
   ],
   "source": [
    "exception_handling(67)"
   ]
  },
  {
   "cell_type": "code",
   "execution_count": 48,
   "id": "0223b3e4-fd00-4f89-9d2b-270b89a886bb",
   "metadata": {},
   "outputs": [
    {
     "name": "stdout",
     "output_type": "stream",
     "text": [
      "something went wrong\n"
     ]
    }
   ],
   "source": [
    "exception_handling(\"s\")"
   ]
  },
  {
   "cell_type": "code",
   "execution_count": null,
   "id": "d65260e3-e2f4-494e-923e-7517933483bf",
   "metadata": {},
   "outputs": [],
   "source": []
  },
  {
   "cell_type": "code",
   "execution_count": null,
   "id": "ab1f45bf-a4d4-4649-8698-29d7b7994f6e",
   "metadata": {},
   "outputs": [],
   "source": []
  },
  {
   "cell_type": "markdown",
   "id": "a9fe896a-e5fb-4ee0-ac0d-75cb1756b93f",
   "metadata": {},
   "source": [
    "<h1>File Handling in Python"
   ]
  },
  {
   "cell_type": "markdown",
   "id": "ab171970-655e-403e-9da3-5f8d09705663",
   "metadata": {},
   "source": [
    "<p>Python too supports file handling and allows users to handle files i.e., to read and write files, along with many other file handling options, to operate on files"
   ]
  },
  {
   "cell_type": "markdown",
   "id": "b59bd5e8-4bc3-4532-86e6-64c9d4ffcbe5",
   "metadata": {},
   "source": [
    "<p>Before performing any operation on the file like reading or writing, first, we have to open that file. For this, we should use Python’s inbuilt function open() but at the time of opening, we have to specify the mode, which represents the purpose of the opening file."
   ]
  },
  {
   "cell_type": "code",
   "execution_count": null,
   "id": "41f5b4f4-b058-4e33-93eb-97d3691485d4",
   "metadata": {},
   "outputs": [],
   "source": [
    "#f = open(filename, mode)"
   ]
  },
  {
   "cell_type": "markdown",
   "id": "3990bdb3-f804-4a2c-a3e6-3771eddad31d",
   "metadata": {},
   "source": [
    "<p>Where the following mode is supported:\n",
    "\n",
    "    r: open an existing file for a read operation.\n",
    "    \n",
    "    w: open an existing file for a write operation. If the file already contains some data then it will be overridden but if the file is not present then it creates the file as well.\n",
    "    \n",
    "    a:  open an existing file for append operation. It won’t override existing data.\n",
    "    \n",
    "     r+:  To read and write data into the file. The previous data in the file will be overridden.\n",
    "    \n",
    "    w+: To write and read data. It will override existing data.\n",
    "    \n",
    "    a+: To append and read data from the file. It won’t override existing data."
   ]
  },
  {
   "cell_type": "code",
   "execution_count": null,
   "id": "935ae0e0-5669-48f3-9f2f-a2772eb330fa",
   "metadata": {},
   "outputs": [],
   "source": []
  }
 ],
 "metadata": {
  "kernelspec": {
   "display_name": "Python 3 (ipykernel)",
   "language": "python",
   "name": "python3"
  },
  "language_info": {
   "codemirror_mode": {
    "name": "ipython",
    "version": 3
   },
   "file_extension": ".py",
   "mimetype": "text/x-python",
   "name": "python",
   "nbconvert_exporter": "python",
   "pygments_lexer": "ipython3",
   "version": "3.9.7"
  }
 },
 "nbformat": 4,
 "nbformat_minor": 5
}
