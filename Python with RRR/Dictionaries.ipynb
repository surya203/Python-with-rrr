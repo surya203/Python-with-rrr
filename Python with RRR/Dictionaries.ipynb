{
 "cells": [
  {
   "cell_type": "markdown",
   "id": "8b161854-1ef0-4999-96a5-42e84ee6fa8f",
   "metadata": {},
   "source": [
    "<h1>Dictionaries"
   ]
  },
  {
   "cell_type": "code",
   "execution_count": null,
   "id": "96530513-a7ce-4867-be84-27056263421b",
   "metadata": {},
   "outputs": [],
   "source": [
    "nominations = {\"director\":\"SSR\",\"movie\":\"RRR\",\"Actors\":\"NTR.jr,Ram charan\",\"singer\":\"Keravani\"}"
   ]
  },
  {
   "cell_type": "code",
   "execution_count": null,
   "id": "242807a8-e301-4e12-b9b0-eff98ef3a4a3",
   "metadata": {},
   "outputs": [
    {
     "data": {
      "text/plain": [
       "dict"
      ]
     },
     "execution_count": 2,
     "metadata": {},
     "output_type": "execute_result"
    }
   ],
   "source": [
    "type(nominations)"
   ]
  },
  {
   "cell_type": "code",
   "execution_count": null,
   "id": "82ace5f2-cfa7-4838-b95e-a37747be925a",
   "metadata": {},
   "outputs": [
    {
     "data": {
      "text/plain": [
       "dict_keys(['director', 'movie', 'Actors', 'singer'])"
      ]
     },
     "execution_count": 3,
     "metadata": {},
     "output_type": "execute_result"
    }
   ],
   "source": [
    "nominations.keys()"
   ]
  },
  {
   "cell_type": "code",
   "execution_count": null,
   "id": "e1e66fd9-695b-40ea-8f28-5af8aca6bba3",
   "metadata": {},
   "outputs": [
    {
     "data": {
      "text/plain": [
       "dict_values(['SSR', 'RRR', 'NTR.jr,Ram charan', 'Keravani'])"
      ]
     },
     "execution_count": 4,
     "metadata": {},
     "output_type": "execute_result"
    }
   ],
   "source": [
    "nominations.values()"
   ]
  },
  {
   "cell_type": "code",
   "execution_count": null,
   "id": "c8ded69b-9bc6-4d2e-9adc-77f5e036e75f",
   "metadata": {},
   "outputs": [
    {
     "data": {
      "text/plain": [
       "'RRR'"
      ]
     },
     "execution_count": 6,
     "metadata": {},
     "output_type": "execute_result"
    }
   ],
   "source": [
    "#Acess\n",
    "#we can access dict by using word\n",
    "nominations[\"movie\"]"
   ]
  },
  {
   "cell_type": "code",
   "execution_count": null,
   "id": "cb393912-e140-422d-ad5f-749360e5de91",
   "metadata": {},
   "outputs": [
    {
     "data": {
      "text/plain": [
       "'RRR'"
      ]
     },
     "execution_count": 7,
     "metadata": {},
     "output_type": "execute_result"
    }
   ],
   "source": [
    "nominations.get(\"movie\")"
   ]
  },
  {
   "cell_type": "code",
   "execution_count": null,
   "id": "def41f34-715c-4ad0-9255-ed2cb90f6c60",
   "metadata": {},
   "outputs": [
    {
     "data": {
      "text/plain": [
       "{'director': 'SSR',\n",
       " 'movie': 'RRR',\n",
       " 'Actors': 'NTR.jr,Ram charan',\n",
       " 'singer': 'Keravani'}"
      ]
     },
     "execution_count": 8,
     "metadata": {},
     "output_type": "execute_result"
    }
   ],
   "source": [
    "nominations"
   ]
  },
  {
   "cell_type": "code",
   "execution_count": null,
   "id": "d71f89d4-a466-4e75-acc5-7f6f7ebd950f",
   "metadata": {},
   "outputs": [],
   "source": [
    "#Access"
   ]
  },
  {
   "cell_type": "code",
   "execution_count": null,
   "id": "b70f5530-e0bb-41cb-abf5-a4ed841402dd",
   "metadata": {},
   "outputs": [],
   "source": [
    "nominations[\"Actors\"]=\"jr.NTR and Ram charan\""
   ]
  },
  {
   "cell_type": "code",
   "execution_count": null,
   "id": "8217bc56-83b7-4198-a323-17ef8cb1cf08",
   "metadata": {},
   "outputs": [
    {
     "data": {
      "text/plain": [
       "{'director': 'SSR',\n",
       " 'movie': 'RRR',\n",
       " 'Actors': 'jr.NTR and Ram charan',\n",
       " 'singer': 'Keravani'}"
      ]
     },
     "execution_count": 10,
     "metadata": {},
     "output_type": "execute_result"
    }
   ],
   "source": [
    "nominations"
   ]
  },
  {
   "cell_type": "code",
   "execution_count": null,
   "id": "cd3aa091-e596-4892-94a5-ef978feb6cf2",
   "metadata": {},
   "outputs": [
    {
     "data": {
      "text/plain": [
       "'jr.NTR and Ram charan'"
      ]
     },
     "execution_count": 11,
     "metadata": {},
     "output_type": "execute_result"
    }
   ],
   "source": [
    "nominations.pop(\"Actors\")"
   ]
  },
  {
   "cell_type": "code",
   "execution_count": null,
   "id": "72b98781-ecf2-4f32-a419-cb6d2cd3ae91",
   "metadata": {},
   "outputs": [
    {
     "data": {
      "text/plain": [
       "{'director': 'SSR', 'movie': 'RRR', 'singer': 'Keravani'}"
      ]
     },
     "execution_count": 12,
     "metadata": {},
     "output_type": "execute_result"
    }
   ],
   "source": [
    "nominations"
   ]
  },
  {
   "cell_type": "code",
   "execution_count": null,
   "id": "28f5c05b-0138-4207-80c9-dca2051a9694",
   "metadata": {},
   "outputs": [],
   "source": [
    "#ADD\n",
    "nominations[\"costume\"] = \"ramadevi SS\""
   ]
  },
  {
   "cell_type": "code",
   "execution_count": null,
   "id": "dbb957f7-e804-4175-8f47-0fb6bf083d61",
   "metadata": {},
   "outputs": [
    {
     "data": {
      "text/plain": [
       "{'director': 'SSR',\n",
       " 'movie': 'RRR',\n",
       " 'singer': 'Keravani',\n",
       " 'costume': 'ramadevi SS'}"
      ]
     },
     "execution_count": 14,
     "metadata": {},
     "output_type": "execute_result"
    }
   ],
   "source": [
    "nominations"
   ]
  },
  {
   "cell_type": "code",
   "execution_count": null,
   "id": "2ea43e42-95ff-46de-8b22-83036f3f8d20",
   "metadata": {},
   "outputs": [],
   "source": [
    "nominations[\"vfx\"] =\"Srinivas\""
   ]
  },
  {
   "cell_type": "code",
   "execution_count": null,
   "id": "bc26242d-092a-42d7-ad75-420dd02bc194",
   "metadata": {},
   "outputs": [
    {
     "data": {
      "text/plain": [
       "{'director': 'SSR',\n",
       " 'movie': 'RRR',\n",
       " 'singer': 'Keravani',\n",
       " 'costume': 'ramadevi SS',\n",
       " 'vfx': 'Srinivas'}"
      ]
     },
     "execution_count": 16,
     "metadata": {},
     "output_type": "execute_result"
    }
   ],
   "source": [
    "nominations"
   ]
  },
  {
   "cell_type": "code",
   "execution_count": null,
   "id": "105e0443-0481-4939-bf0c-b708230913f0",
   "metadata": {},
   "outputs": [
    {
     "data": {
      "text/plain": [
       "'Srinivas'"
      ]
     },
     "execution_count": 17,
     "metadata": {},
     "output_type": "execute_result"
    }
   ],
   "source": [
    "nominations.pop(\"vfx\")"
   ]
  },
  {
   "cell_type": "code",
   "execution_count": null,
   "id": "e7e9de84-ea48-4bd0-b95c-46fd8b335ae7",
   "metadata": {},
   "outputs": [
    {
     "data": {
      "text/plain": [
       "{'director': 'SSR',\n",
       " 'movie': 'RRR',\n",
       " 'singer': 'Keravani',\n",
       " 'costume': 'ramadevi SS'}"
      ]
     },
     "execution_count": 18,
     "metadata": {},
     "output_type": "execute_result"
    }
   ],
   "source": [
    "nominations"
   ]
  },
  {
   "cell_type": "code",
   "execution_count": null,
   "id": "be4afb6f-5138-4a23-847d-e15f332959da",
   "metadata": {},
   "outputs": [],
   "source": [
    "nominations.setdefault(\"dpo\")"
   ]
  },
  {
   "cell_type": "code",
   "execution_count": null,
   "id": "ec7ed66b-bdbf-4eac-84a6-10345fc72260",
   "metadata": {},
   "outputs": [
    {
     "data": {
      "text/plain": [
       "{'director': 'SSR',\n",
       " 'movie': 'RRR',\n",
       " 'singer': 'Keravani',\n",
       " 'costume': 'ramadevi SS',\n",
       " 'dpo': None}"
      ]
     },
     "execution_count": 20,
     "metadata": {},
     "output_type": "execute_result"
    }
   ],
   "source": [
    "nominations"
   ]
  },
  {
   "cell_type": "code",
   "execution_count": null,
   "id": "ad1547ff-75fa-4dd6-8b94-e348d63c597d",
   "metadata": {},
   "outputs": [],
   "source": [
    "family={\n",
    "    \"big_kid\":{\"name\":\"Kiran\",\"age\":20},\n",
    "    \"middle_kid\":{\"name\":\"abhiram\",\"age\":18},\n",
    "    \"last_kid\":{\"name\":\"raju\",\"age\":17}\n",
    "}\n",
    "#  Key:{key:value,key:value}\n",
    "#        value"
   ]
  },
  {
   "cell_type": "code",
   "execution_count": null,
   "id": "bb5ec637-9800-4761-85df-e8f9ac552cdb",
   "metadata": {},
   "outputs": [
    {
     "data": {
      "text/plain": [
       "{'big_kid': {'name': 'Kiran', 'age': 20},\n",
       " 'middle_kid': {'name': 'abhiram', 'age': 18},\n",
       " 'last_kid': {'name': 'raju', 'age': 17}}"
      ]
     },
     "execution_count": 22,
     "metadata": {},
     "output_type": "execute_result"
    }
   ],
   "source": [
    "family"
   ]
  },
  {
   "cell_type": "code",
   "execution_count": null,
   "id": "54074a2e-2d04-4fd3-b5cc-85fd310c1f41",
   "metadata": {},
   "outputs": [
    {
     "data": {
      "text/plain": [
       "20"
      ]
     },
     "execution_count": 34,
     "metadata": {},
     "output_type": "execute_result"
    }
   ],
   "source": [
    "family[\"big_kid\"][\"age\"]"
   ]
  },
  {
   "cell_type": "code",
   "execution_count": null,
   "id": "90fdc91b-a496-46c9-9ba7-bdf967340d38",
   "metadata": {},
   "outputs": [],
   "source": [
    "list1 = [3,4,[5,6,7]]"
   ]
  },
  {
   "cell_type": "code",
   "execution_count": null,
   "id": "dc4ab11a-887e-481e-8a57-9e2fd63f56d9",
   "metadata": {},
   "outputs": [
    {
     "data": {
      "text/plain": [
       "6"
      ]
     },
     "execution_count": 31,
     "metadata": {},
     "output_type": "execute_result"
    }
   ],
   "source": [
    "list1[2][1]"
   ]
  },
  {
   "cell_type": "code",
   "execution_count": null,
   "id": "ae83c15c-ddde-438c-b6f2-e8223a3a6618",
   "metadata": {},
   "outputs": [
    {
     "name": "stdout",
     "output_type": "stream",
     "text": [
      "90\n"
     ]
    }
   ],
   "source": [
    "a=23\n",
    "b= 67\n",
    "print(a+b)"
   ]
  },
  {
   "cell_type": "code",
   "execution_count": null,
   "id": "1ac82332-43a9-4e4c-9a5d-86a6e60c6023",
   "metadata": {},
   "outputs": [],
   "source": []
  },
  {
   "cell_type": "code",
   "execution_count": null,
   "id": "ac781daf-11e3-4fd9-aa29-acfda9ee1285",
   "metadata": {},
   "outputs": [],
   "source": []
  },
  {
   "cell_type": "code",
   "execution_count": null,
   "id": "f97897e7-0b5f-44d0-90a3-38efff455d8a",
   "metadata": {},
   "outputs": [],
   "source": []
  },
  {
   "cell_type": "code",
   "execution_count": null,
   "id": "6bb485b9-f45b-4956-b748-6faa085c93bb",
   "metadata": {},
   "outputs": [],
   "source": []
  },
  {
   "cell_type": "code",
   "execution_count": null,
   "id": "fba47c4d-51cf-422e-9b88-dce6b9acf500",
   "metadata": {},
   "outputs": [],
   "source": []
  },
  {
   "cell_type": "code",
   "execution_count": null,
   "id": "ff7e5777-5c3d-4ce5-aea0-cb856c0f684c",
   "metadata": {},
   "outputs": [],
   "source": []
  },
  {
   "cell_type": "code",
   "execution_count": null,
   "id": "034e822a-91ea-47fa-ad30-39cf1f280bde",
   "metadata": {},
   "outputs": [],
   "source": [
    "big_kid"
   ]
  },
  {
   "cell_type": "code",
   "execution_count": null,
   "id": "10e67e8e-d21d-439d-bb3f-cae2becada01",
   "metadata": {},
   "outputs": [],
   "source": [
    "family[\"middle_kid\"][\"age\"]"
   ]
  },
  {
   "cell_type": "code",
   "execution_count": null,
   "id": "75c59ab5-4adf-46f8-8368-4c18529bca8a",
   "metadata": {},
   "outputs": [],
   "source": []
  },
  {
   "cell_type": "code",
   "execution_count": null,
   "id": "4d86c1cc-98d4-4369-9863-6318f43d48d0",
   "metadata": {},
   "outputs": [],
   "source": []
  },
  {
   "cell_type": "code",
   "execution_count": null,
   "id": "8dd98696-8dcc-4762-9340-e3398868f4e4",
   "metadata": {},
   "outputs": [],
   "source": []
  },
  {
   "cell_type": "code",
   "execution_count": null,
   "id": "a0ae8602-6719-454d-9507-3ba2a86b04dd",
   "metadata": {},
   "outputs": [],
   "source": []
  },
  {
   "cell_type": "code",
   "execution_count": null,
   "id": "7edf0ce4-2831-4158-9701-cf4c0f943e4e",
   "metadata": {},
   "outputs": [],
   "source": []
  },
  {
   "cell_type": "code",
   "execution_count": null,
   "id": "fab5a459-fe4e-4924-a709-e29dced5c777",
   "metadata": {},
   "outputs": [],
   "source": [
    "middle_kid={\"name\":\"abhiram\",\"age\":18}"
   ]
  },
  {
   "cell_type": "code",
   "execution_count": null,
   "id": "d288ebca-8419-499c-bc45-2008e195c3d5",
   "metadata": {},
   "outputs": [],
   "source": [
    "middle_kid"
   ]
  },
  {
   "cell_type": "code",
   "execution_count": null,
   "id": "e9e4d6bc-8995-48e8-9a02-e0378aa7db46",
   "metadata": {},
   "outputs": [],
   "source": [
    "l1=[1,2,3]\n",
    "l2=[1,2,3]\n",
    "l3=[l1,l2]\n",
    "print(l3)"
   ]
  },
  {
   "cell_type": "code",
   "execution_count": null,
   "id": "0a5852e6-74e4-48d4-93fa-0e55b482c705",
   "metadata": {},
   "outputs": [],
   "source": [
    "l3[0][1]"
   ]
  },
  {
   "cell_type": "code",
   "execution_count": null,
   "id": "a5c22c26-853a-4ff2-8abf-adb6c0b0e16e",
   "metadata": {},
   "outputs": [],
   "source": []
  }
 ],
 "metadata": {
  "kernelspec": {
   "display_name": "Python 3 (ipykernel)",
   "language": "python",
   "name": "python3"
  },
  "language_info": {
   "codemirror_mode": {
    "name": "ipython",
    "version": 3
   },
   "file_extension": ".py",
   "mimetype": "text/x-python",
   "name": "python",
   "nbconvert_exporter": "python",
   "pygments_lexer": "ipython3",
   "version": "3.9.7"
  }
 },
 "nbformat": 4,
 "nbformat_minor": 5
}
