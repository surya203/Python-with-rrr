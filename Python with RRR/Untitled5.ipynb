{
 "cells": [
  {
   "cell_type": "code",
   "execution_count": 5,
   "id": "c5067d8c-3c35-4b34-8500-99e873f8e865",
   "metadata": {},
   "outputs": [
    {
     "name": "stdout",
     "output_type": "stream",
     "text": [
      "Surya is greater then 10\n"
     ]
    }
   ],
   "source": [
    "surya = 20\n",
    "\n",
    "if surya>8:\n",
    "    print(\"Surya is greater then 10\")\n",
    "else:\n",
    "    print(\"Surya is less than 30\")"
   ]
  },
  {
   "cell_type": "code",
   "execution_count": 19,
   "id": "f5f3926a-8e64-42a9-9473-475cdb8ba498",
   "metadata": {},
   "outputs": [
    {
     "name": "stdout",
     "output_type": "stream",
     "text": [
      "4 is less then 45\n"
     ]
    }
   ],
   "source": [
    "number = 4\n",
    "a = 45\n",
    "\n",
    "if number>a:\n",
    "    print(number, \"is greater then\", a)\n",
    "elif number==a:\n",
    "    print(number,\"is equal to\", a)\n",
    "else:\n",
    "    print(number, \"is less then\", a)"
   ]
  },
  {
   "cell_type": "code",
   "execution_count": 36,
   "id": "a1e7582b-ccaf-42e3-b4f3-0b1819c2609f",
   "metadata": {},
   "outputs": [
    {
     "name": "stdin",
     "output_type": "stream",
     "text": [
      "Enter your pin:  1234\n"
     ]
    },
    {
     "name": "stdout",
     "output_type": "stream",
     "text": [
      "Welcome to our bank\n",
      "1.balance\n",
      "2.help\n"
     ]
    },
    {
     "name": "stdin",
     "output_type": "stream",
     "text": [
      "Enter your choice:  1\n"
     ]
    },
    {
     "name": "stdout",
     "output_type": "stream",
     "text": [
      "your balance is: 100\n"
     ]
    }
   ],
   "source": [
    "#ATM code\n",
    "pin = int(input(\"Enter your pin: \"))\n",
    "balance = 100\n",
    "\n",
    "users = [\"surya\", \"laxmi\",\"vijaya\",\"saleem\"]\n",
    "\n",
    "if pin ==1234:\n",
    "    print(\"Welcome to our bank\")\n",
    "    print(\"1.balance\")\n",
    "    print(\"2.help\")\n",
    "    choice = int(input(\"Enter your choice: \"))\n",
    "    if choice == 1:\n",
    "        print(\"your balance is:\",balance)\n",
    "    elif choice ==2:\n",
    "        print(\"contact 9XXXXXX\")\n",
    "    else:\n",
    "        print(\"wrong input\")\n",
    "else:\n",
    "    print(\"Wrong pin number\")\n"
   ]
  },
  {
   "cell_type": "code",
   "execution_count": null,
   "id": "2d33a511-284d-4d17-951a-43359b937a49",
   "metadata": {},
   "outputs": [],
   "source": []
  },
  {
   "cell_type": "code",
   "execution_count": null,
   "id": "3b568782-98b3-4570-bbf0-3d2503d0ae23",
   "metadata": {},
   "outputs": [],
   "source": []
  }
 ],
 "metadata": {
  "kernelspec": {
   "display_name": "Python 3 (ipykernel)",
   "language": "python",
   "name": "python3"
  },
  "language_info": {
   "codemirror_mode": {
    "name": "ipython",
    "version": 3
   },
   "file_extension": ".py",
   "mimetype": "text/x-python",
   "name": "python",
   "nbconvert_exporter": "python",
   "pygments_lexer": "ipython3",
   "version": "3.9.7"
  }
 },
 "nbformat": 4,
 "nbformat_minor": 5
}
