{
 "cells": [
  {
   "cell_type": "code",
   "execution_count": 4,
   "id": "7718c474-b127-416d-92b4-abc358731a59",
   "metadata": {},
   "outputs": [
    {
     "name": "stdout",
     "output_type": "stream",
     "text": [
      "10\n",
      "3\n",
      "6\n"
     ]
    }
   ],
   "source": [
    "# Python program to demonstrate in-built poly-\n",
    "# morphic functions\n",
    " \n",
    "# len() being used for a string\n",
    "print(len(\"Ai walkers\"))\n",
    " \n",
    "# len() being used for a list\n",
    "print(len([10, 20, 30]))\n",
    "\n",
    "print(len((2,3,4,4,5,6)))"
   ]
  },
  {
   "cell_type": "code",
   "execution_count": 49,
   "id": "7b193346-b9d3-421e-8e0d-ea621cba5b8a",
   "metadata": {},
   "outputs": [],
   "source": [
    "# A simple Python function to demonstrate\n",
    "# Polymorphism\n",
    "\n",
    "def add(x, y=0, z = 0):\n",
    "\treturn x + y+z\n",
    "\n"
   ]
  },
  {
   "cell_type": "code",
   "execution_count": 50,
   "id": "51bd4562-8d5b-4155-95fb-fb1c4bf77e5c",
   "metadata": {},
   "outputs": [
    {
     "data": {
      "text/plain": [
       "3"
      ]
     },
     "execution_count": 50,
     "metadata": {},
     "output_type": "execute_result"
    }
   ],
   "source": [
    "add(3)"
   ]
  },
  {
   "cell_type": "code",
   "execution_count": 51,
   "id": "977afe52-44b7-488b-876d-cbb10e8188ee",
   "metadata": {},
   "outputs": [
    {
     "data": {
      "text/plain": [
       "18"
      ]
     },
     "execution_count": 51,
     "metadata": {},
     "output_type": "execute_result"
    }
   ],
   "source": [
    "add(3,6,9)"
   ]
  },
  {
   "cell_type": "code",
   "execution_count": 52,
   "id": "fd1a1df4-9cdd-49e8-ad31-9a4679daacb0",
   "metadata": {},
   "outputs": [
    {
     "data": {
      "text/plain": [
       "10"
      ]
     },
     "execution_count": 52,
     "metadata": {},
     "output_type": "execute_result"
    }
   ],
   "source": [
    "add(4,6)"
   ]
  },
  {
   "cell_type": "code",
   "execution_count": null,
   "id": "b5510bce-4e3a-4a35-896d-1a9f2625739e",
   "metadata": {},
   "outputs": [],
   "source": []
  },
  {
   "cell_type": "code",
   "execution_count": null,
   "id": "2227eec6-bb74-4c63-b2a7-d075e8df8d85",
   "metadata": {},
   "outputs": [],
   "source": []
  },
  {
   "cell_type": "code",
   "execution_count": null,
   "id": "342d6f4c-fb1a-48d6-9520-828720552989",
   "metadata": {},
   "outputs": [],
   "source": []
  },
  {
   "cell_type": "code",
   "execution_count": null,
   "id": "38ad2e52-b4fc-4c18-b77d-e294178e94be",
   "metadata": {},
   "outputs": [],
   "source": []
  },
  {
   "cell_type": "code",
   "execution_count": 20,
   "id": "bf2c7030-ce4f-40e0-8f9c-6221baaf08cf",
   "metadata": {},
   "outputs": [],
   "source": [
    "class India:\n",
    "    def capital(self):\n",
    "        print(\"New Delhi is the capital of India.\")\n",
    "\n",
    "    def language(self):\n",
    "        print(\"Hindi is the most widely spoken language of India.\")\n",
    "\n",
    "    def type(self):\n",
    "        print(\"India is a Asian country.\")\n",
    "\n",
    "class USA:\n",
    "    def capital(self):\n",
    "        print(\"Washington, D.C. is the capital of USA.\")\n",
    "\n",
    "    def language(self):\n",
    "        print(\"English is the primary language of USA.\")\n",
    "\n",
    "    def type(self):\n",
    "        print(\"USA is a American country.\")"
   ]
  },
  {
   "cell_type": "code",
   "execution_count": 21,
   "id": "35ba6c66-262c-4f05-a0f3-970f06087c7f",
   "metadata": {},
   "outputs": [],
   "source": [
    "ind = India()"
   ]
  },
  {
   "cell_type": "code",
   "execution_count": 22,
   "id": "3c380e85-621b-479b-9a6d-1712cb2ae596",
   "metadata": {},
   "outputs": [],
   "source": [
    "usa = USA()"
   ]
  },
  {
   "cell_type": "code",
   "execution_count": 23,
   "id": "ef6b04d0-8c36-45d7-90ea-bdba3f50d419",
   "metadata": {},
   "outputs": [
    {
     "name": "stdout",
     "output_type": "stream",
     "text": [
      "New Delhi is the capital of India.\n"
     ]
    }
   ],
   "source": [
    "ind.capital()"
   ]
  },
  {
   "cell_type": "code",
   "execution_count": 24,
   "id": "84135ed8-12e6-4a05-ab12-581422bb5a79",
   "metadata": {},
   "outputs": [
    {
     "name": "stdout",
     "output_type": "stream",
     "text": [
      "Washington, D.C. is the capital of USA.\n"
     ]
    }
   ],
   "source": [
    "usa.capital()"
   ]
  },
  {
   "cell_type": "code",
   "execution_count": 25,
   "id": "264212ab-0c38-4ad1-bb50-13a377d90380",
   "metadata": {},
   "outputs": [
    {
     "name": "stdout",
     "output_type": "stream",
     "text": [
      "Hindi is the most widely spoken language of India.\n"
     ]
    }
   ],
   "source": [
    "ind.language()"
   ]
  },
  {
   "cell_type": "code",
   "execution_count": 26,
   "id": "c9883a81-a410-4ce6-9867-33483ccb5c69",
   "metadata": {},
   "outputs": [
    {
     "name": "stdout",
     "output_type": "stream",
     "text": [
      "English is the primary language of USA.\n"
     ]
    }
   ],
   "source": [
    "usa.language()"
   ]
  },
  {
   "cell_type": "code",
   "execution_count": 53,
   "id": "45a4f762-11ce-40cb-bb33-e7d085dc05de",
   "metadata": {},
   "outputs": [
    {
     "name": "stdout",
     "output_type": "stream",
     "text": [
      "India is a Asian country.\n"
     ]
    }
   ],
   "source": [
    "ind.type()"
   ]
  },
  {
   "cell_type": "code",
   "execution_count": 54,
   "id": "bb410749-0511-478a-bb5d-7d164ab2bc55",
   "metadata": {},
   "outputs": [
    {
     "name": "stdout",
     "output_type": "stream",
     "text": [
      "USA is a American country.\n"
     ]
    }
   ],
   "source": [
    "usa.type()"
   ]
  },
  {
   "cell_type": "code",
   "execution_count": null,
   "id": "538c206c-d4c1-4f11-85d7-6eff78827f8d",
   "metadata": {},
   "outputs": [],
   "source": []
  },
  {
   "cell_type": "code",
   "execution_count": null,
   "id": "45575bc9-60f9-4bf6-af3a-809dc99e4cbb",
   "metadata": {},
   "outputs": [],
   "source": []
  },
  {
   "cell_type": "code",
   "execution_count": null,
   "id": "997be714-8645-431c-b474-57e32b262ce7",
   "metadata": {},
   "outputs": [],
   "source": []
  },
  {
   "cell_type": "code",
   "execution_count": null,
   "id": "caceb627-1c16-484c-b3e7-30826f366cbd",
   "metadata": {},
   "outputs": [],
   "source": []
  },
  {
   "cell_type": "code",
   "execution_count": 27,
   "id": "325fbeec-4911-412c-bca6-e54673dc8dbd",
   "metadata": {},
   "outputs": [],
   "source": [
    "class Bird:\n",
    "    def intro(self):\n",
    "        print(\"There are many types of birds.\")\n",
    "     \n",
    "    def flight(self):\n",
    "        print(\"Most of the birds can fly but some cannot.\")\n",
    "\n",
    "class sparrow(Bird):\n",
    "    def flight(self):\n",
    "        print(\"Sparrows can fly.\")\n",
    "        \n",
    "class ostrich(Bird):\n",
    "    def flight(self):\n",
    "        print(\"Ostriches cannot fly.\")"
   ]
  },
  {
   "cell_type": "code",
   "execution_count": 28,
   "id": "f1752a73-ca86-4980-9dae-05835621080e",
   "metadata": {},
   "outputs": [],
   "source": [
    "bird = Bird()"
   ]
  },
  {
   "cell_type": "code",
   "execution_count": 29,
   "id": "587bb2c7-13e5-4c99-a630-53dcf0a4f9e4",
   "metadata": {},
   "outputs": [],
   "source": [
    "spr = sparrow()"
   ]
  },
  {
   "cell_type": "code",
   "execution_count": 30,
   "id": "c3aff35f-a2f6-4967-81e1-8b00c6c68c65",
   "metadata": {},
   "outputs": [],
   "source": [
    "ost = ostrich()"
   ]
  },
  {
   "cell_type": "code",
   "execution_count": 31,
   "id": "16e5f065-ded8-4b68-8883-0e3cc1184a1a",
   "metadata": {},
   "outputs": [
    {
     "name": "stdout",
     "output_type": "stream",
     "text": [
      "There are many types of birds.\n"
     ]
    }
   ],
   "source": [
    "bird.intro()"
   ]
  },
  {
   "cell_type": "code",
   "execution_count": 32,
   "id": "f9253fe5-c01d-4fdc-a968-4ad05733f5a7",
   "metadata": {},
   "outputs": [
    {
     "name": "stdout",
     "output_type": "stream",
     "text": [
      "Most of the birds can fly but some cannot.\n"
     ]
    }
   ],
   "source": [
    "bird.flight()"
   ]
  },
  {
   "cell_type": "code",
   "execution_count": 34,
   "id": "0da32255-3927-404b-8371-524bf6ecb63f",
   "metadata": {},
   "outputs": [
    {
     "name": "stdout",
     "output_type": "stream",
     "text": [
      "Sparrows can fly.\n"
     ]
    }
   ],
   "source": [
    "spr.flight()"
   ]
  },
  {
   "cell_type": "code",
   "execution_count": 35,
   "id": "9e32a8c8-1e15-4713-98d4-40820fe6586d",
   "metadata": {},
   "outputs": [
    {
     "name": "stdout",
     "output_type": "stream",
     "text": [
      "Ostriches cannot fly.\n"
     ]
    }
   ],
   "source": [
    "ost.flight()"
   ]
  },
  {
   "cell_type": "code",
   "execution_count": null,
   "id": "81ba7f22-fc33-4b14-9a0b-86f749b352cd",
   "metadata": {},
   "outputs": [],
   "source": []
  },
  {
   "cell_type": "code",
   "execution_count": null,
   "id": "75e1e5f9-cf1c-423b-acc8-0588f17e1356",
   "metadata": {},
   "outputs": [],
   "source": []
  },
  {
   "cell_type": "code",
   "execution_count": null,
   "id": "883ab2e6-d017-45b6-8fda-1347f11ed8c3",
   "metadata": {},
   "outputs": [],
   "source": []
  },
  {
   "cell_type": "code",
   "execution_count": null,
   "id": "376cce57-1815-4a3e-a638-c972e4923a6f",
   "metadata": {},
   "outputs": [],
   "source": []
  },
  {
   "cell_type": "code",
   "execution_count": null,
   "id": "ba61b3c7-8ca7-48e4-bfe0-49e9644bf5d9",
   "metadata": {},
   "outputs": [],
   "source": []
  },
  {
   "cell_type": "code",
   "execution_count": 37,
   "id": "fd76f2d7-292e-4d6e-874c-0d03916bad6f",
   "metadata": {},
   "outputs": [],
   "source": [
    "class Animal:\n",
    "    def __init__(self, name):\n",
    "        self.name = name\n",
    "\n",
    "    def talk(self):\n",
    "        pass\n",
    "\n",
    "class Cat(Animal):\n",
    "    def talk(self):\n",
    "        return 'Meow!'\n",
    "\n",
    "class Dog(Animal):\n",
    "    def talk(self):\n",
    "        return 'Woof! Woof!'"
   ]
  },
  {
   "cell_type": "code",
   "execution_count": 38,
   "id": "697ce7c1-dfe9-4659-a61a-32b75a88c470",
   "metadata": {},
   "outputs": [],
   "source": [
    "cat1 = Cat(\"kitty\")"
   ]
  },
  {
   "cell_type": "code",
   "execution_count": 39,
   "id": "a65ecbaa-4f79-4f5a-ba94-3c46e4180444",
   "metadata": {},
   "outputs": [],
   "source": [
    "dog1 = Dog(\"puppy\")"
   ]
  },
  {
   "cell_type": "code",
   "execution_count": 40,
   "id": "ba5a2d72-05ee-4759-a472-95199efe20f8",
   "metadata": {},
   "outputs": [],
   "source": [
    "dog2 = Dog(\"jocky\")"
   ]
  },
  {
   "cell_type": "code",
   "execution_count": 42,
   "id": "6299a82d-f14b-44bf-b40b-d0f81c49d964",
   "metadata": {},
   "outputs": [
    {
     "data": {
      "text/plain": [
       "'Meow!'"
      ]
     },
     "execution_count": 42,
     "metadata": {},
     "output_type": "execute_result"
    }
   ],
   "source": [
    "cat1.talk()"
   ]
  },
  {
   "cell_type": "code",
   "execution_count": 43,
   "id": "de971358-59db-4579-9fb6-6aa4a3285289",
   "metadata": {},
   "outputs": [
    {
     "data": {
      "text/plain": [
       "'Woof! Woof!'"
      ]
     },
     "execution_count": 43,
     "metadata": {},
     "output_type": "execute_result"
    }
   ],
   "source": [
    "dog1.talk()"
   ]
  },
  {
   "cell_type": "code",
   "execution_count": 44,
   "id": "dda3a9c7-0e71-4cbd-8310-fa9213014ed3",
   "metadata": {},
   "outputs": [
    {
     "data": {
      "text/plain": [
       "'Woof! Woof!'"
      ]
     },
     "execution_count": 44,
     "metadata": {},
     "output_type": "execute_result"
    }
   ],
   "source": [
    "dog2.talk()"
   ]
  },
  {
   "cell_type": "code",
   "execution_count": 45,
   "id": "158fc79c-7c2a-48ac-8c31-b71b44b80d9e",
   "metadata": {},
   "outputs": [],
   "source": [
    "parrot = Animal(\"sky\")"
   ]
  },
  {
   "cell_type": "code",
   "execution_count": 46,
   "id": "11301120-6c1c-449f-a45d-079242da73b9",
   "metadata": {},
   "outputs": [
    {
     "data": {
      "text/plain": [
       "'sky'"
      ]
     },
     "execution_count": 46,
     "metadata": {},
     "output_type": "execute_result"
    }
   ],
   "source": [
    "parrot.name"
   ]
  },
  {
   "cell_type": "code",
   "execution_count": 47,
   "id": "3890a5cf-2587-4ec6-a276-28dd70ccc41a",
   "metadata": {},
   "outputs": [],
   "source": [
    "parrot.talk()"
   ]
  },
  {
   "cell_type": "code",
   "execution_count": null,
   "id": "c2f6cc26-052d-464a-8206-213b87e556ae",
   "metadata": {},
   "outputs": [],
   "source": []
  },
  {
   "cell_type": "code",
   "execution_count": null,
   "id": "e813e8bb-4471-46ca-9a2e-d290a3991a66",
   "metadata": {},
   "outputs": [],
   "source": []
  },
  {
   "cell_type": "code",
   "execution_count": null,
   "id": "2772d470-9058-4baa-8741-679779390d26",
   "metadata": {},
   "outputs": [],
   "source": []
  },
  {
   "cell_type": "code",
   "execution_count": null,
   "id": "3be978ec-c990-43f5-aa74-58c4b5bb09fe",
   "metadata": {},
   "outputs": [],
   "source": []
  },
  {
   "cell_type": "code",
   "execution_count": null,
   "id": "1db9bf9b-3d14-4fd9-93f4-34bd6a2f7e70",
   "metadata": {},
   "outputs": [],
   "source": []
  },
  {
   "cell_type": "code",
   "execution_count": null,
   "id": "167b9816-b8ac-4acc-8400-f1c05cc51747",
   "metadata": {},
   "outputs": [],
   "source": []
  },
  {
   "cell_type": "code",
   "execution_count": null,
   "id": "9b8ee417-052c-499e-8110-66faaafa4704",
   "metadata": {},
   "outputs": [],
   "source": []
  },
  {
   "cell_type": "code",
   "execution_count": null,
   "id": "7f3117c6-6aaf-43d6-8364-a2147119b54f",
   "metadata": {},
   "outputs": [],
   "source": []
  },
  {
   "cell_type": "code",
   "execution_count": null,
   "id": "61ee19ce-b81a-42d7-88b0-14e4184e8048",
   "metadata": {},
   "outputs": [],
   "source": []
  },
  {
   "cell_type": "code",
   "execution_count": null,
   "id": "80b3ee20-a19b-4161-b918-ca37a857a355",
   "metadata": {},
   "outputs": [],
   "source": []
  },
  {
   "cell_type": "code",
   "execution_count": null,
   "id": "d1d9506e-5b19-40f8-bf79-77f9d705beae",
   "metadata": {},
   "outputs": [],
   "source": []
  },
  {
   "cell_type": "code",
   "execution_count": null,
   "id": "31239b03-dd5c-4a2a-bc65-5bef830e8f1b",
   "metadata": {},
   "outputs": [],
   "source": []
  },
  {
   "cell_type": "code",
   "execution_count": null,
   "id": "da8a701a-f362-46f0-85ff-8be88abbb938",
   "metadata": {},
   "outputs": [],
   "source": []
  },
  {
   "cell_type": "code",
   "execution_count": null,
   "id": "6c4cf2fb-ce5e-405a-92a4-6fce0ede243a",
   "metadata": {},
   "outputs": [],
   "source": []
  },
  {
   "cell_type": "code",
   "execution_count": null,
   "id": "1017d02b-c8a2-4c4e-b258-d936a30c40f2",
   "metadata": {},
   "outputs": [],
   "source": []
  },
  {
   "cell_type": "code",
   "execution_count": null,
   "id": "f46330f8-587b-42f2-b9e3-cee8bcf3ec8f",
   "metadata": {},
   "outputs": [],
   "source": []
  }
 ],
 "metadata": {
  "kernelspec": {
   "display_name": "Python 3 (ipykernel)",
   "language": "python",
   "name": "python3"
  },
  "language_info": {
   "codemirror_mode": {
    "name": "ipython",
    "version": 3
   },
   "file_extension": ".py",
   "mimetype": "text/x-python",
   "name": "python",
   "nbconvert_exporter": "python",
   "pygments_lexer": "ipython3",
   "version": "3.9.7"
  }
 },
 "nbformat": 4,
 "nbformat_minor": 5
}
