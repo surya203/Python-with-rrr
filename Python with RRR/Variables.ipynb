{
 "cells": [
  {
   "cell_type": "markdown",
   "id": "4ee9d221-0271-430b-861c-1701eb907a15",
   "metadata": {},
   "source": [
    "<h1>Variables</h1>"
   ]
  },
  {
   "cell_type": "raw",
   "id": "6c16c63c-1f07-408c-89d1-c0ec2944a4a8",
   "metadata": {},
   "source": [
    "variable names:A variable can have a short name (like NTR and Charan) or \n",
    "a more descriptive name (age, carname, total_volume).\n",
    "Rules for Python variables:\n",
    "A variable name must start with a letter or the underscore character\n",
    "A variable name cannot start with a number\n",
    "A variable name can only contain alpha-numeric characters and underscores (A-z, 0-9, and _ )\n",
    "Variable names are case-sensitive (age, Age and AGE are three different variables)"
   ]
  },
  {
   "cell_type": "code",
   "execution_count": 8,
   "id": "3d7534fa-c8e2-43c3-9586-e6de01b7dda3",
   "metadata": {},
   "outputs": [],
   "source": [
    "#To execute this code press SHIFT + ENTER\n",
    "rrrcollection = 1400.9\n",
    "movie = \"rrr\" "
   ]
  },
  {
   "cell_type": "code",
   "execution_count": 9,
   "id": "3fbc9380-d7d3-412a-96ae-2cd846b64964",
   "metadata": {},
   "outputs": [
    {
     "data": {
      "text/plain": [
       "str"
      ]
     },
     "execution_count": 9,
     "metadata": {},
     "output_type": "execute_result"
    }
   ],
   "source": [
    "type(movie)"
   ]
  },
  {
   "cell_type": "code",
   "execution_count": 10,
   "id": "3477f5f8-604e-4843-8b44-4399041e593f",
   "metadata": {},
   "outputs": [
    {
     "name": "stdout",
     "output_type": "stream",
     "text": [
      "rrr\n"
     ]
    }
   ],
   "source": [
    "print(movie)"
   ]
  },
  {
   "cell_type": "code",
   "execution_count": 12,
   "id": "3c9d0fc0-4042-4510-bed6-59fd40c51d09",
   "metadata": {},
   "outputs": [
    {
     "name": "stdout",
     "output_type": "stream",
     "text": [
      "1400.9\n",
      "rrr\n"
     ]
    }
   ],
   "source": [
    "print(rrrcollection)\n",
    "print(movie)"
   ]
  },
  {
   "cell_type": "code",
   "execution_count": 16,
   "id": "4a6f60cd-03cb-46c1-9163-aa1a2aba8047",
   "metadata": {},
   "outputs": [
    {
     "name": "stdout",
     "output_type": "stream",
     "text": [
      "The movie name is rrr the collection is 1400.9 cr\n"
     ]
    }
   ],
   "source": [
    "print(\"The movie name is\",movie,\"the collection is\",rrrcollection,\"cr\")"
   ]
  },
  {
   "cell_type": "code",
   "execution_count": null,
   "id": "599ef738-cb8f-468c-8224-63c641257a1f",
   "metadata": {},
   "outputs": [],
   "source": [
    "movie = \"RRR\""
   ]
  },
  {
   "cell_type": "code",
   "execution_count": null,
   "id": "46d68a70-84fe-40e6-a644-449247e1f9cf",
   "metadata": {},
   "outputs": [],
   "source": [
    "print(movie)"
   ]
  },
  {
   "cell_type": "code",
   "execution_count": 17,
   "id": "bfcfe768-1cd0-4810-956d-d8df254d231c",
   "metadata": {},
   "outputs": [
    {
     "name": "stdout",
     "output_type": "stream",
     "text": [
      "The movie is rrr\n"
     ]
    }
   ],
   "source": [
    "print(\"The movie is\",movie)"
   ]
  },
  {
   "cell_type": "code",
   "execution_count": null,
   "id": "a0377887-b0e6-4355-9d36-1b68cce02792",
   "metadata": {},
   "outputs": [],
   "source": []
  },
  {
   "cell_type": "code",
   "execution_count": null,
   "id": "425b63e9-fe46-49df-ad39-095c075aff3f",
   "metadata": {},
   "outputs": [],
   "source": []
  },
  {
   "cell_type": "code",
   "execution_count": null,
   "id": "e8fef837-eb8b-4436-bb72-741b9ded0bc4",
   "metadata": {},
   "outputs": [],
   "source": []
  },
  {
   "cell_type": "code",
   "execution_count": null,
   "id": "a6481181-d6cd-481c-b833-4d049bde4dc2",
   "metadata": {},
   "outputs": [],
   "source": [
    "print(\"rrr movie records\")"
   ]
  },
  {
   "cell_type": "code",
   "execution_count": 25,
   "id": "f33807a6-205a-4395-b87b-5af33ca6a982",
   "metadata": {},
   "outputs": [],
   "source": [
    "age = 43\n",
    "Age = 56\n",
    "AGE = 58"
   ]
  },
  {
   "cell_type": "code",
   "execution_count": 26,
   "id": "c70afadb-85ea-4165-8f44-d4a14be89653",
   "metadata": {},
   "outputs": [
    {
     "name": "stdout",
     "output_type": "stream",
     "text": [
      "58\n"
     ]
    }
   ],
   "source": [
    "print(AGE)"
   ]
  },
  {
   "cell_type": "code",
   "execution_count": null,
   "id": "13a56b55-2403-49bb-ab47-e9573fd2bf3a",
   "metadata": {},
   "outputs": [],
   "source": []
  },
  {
   "cell_type": "code",
   "execution_count": null,
   "id": "9ffd54c5-95d3-43e7-884d-2c1271a9853d",
   "metadata": {},
   "outputs": [],
   "source": []
  },
  {
   "cell_type": "code",
   "execution_count": null,
   "id": "ce4427cc-9dae-475e-8450-7abab14217a1",
   "metadata": {},
   "outputs": [],
   "source": []
  },
  {
   "cell_type": "code",
   "execution_count": null,
   "id": "a623ef1f-185e-4904-81d8-e5e6f098bc0a",
   "metadata": {},
   "outputs": [],
   "source": [
    "#ramcharan=\"small letter lo rasanu\"\n",
    "#ramCharan=\"Capital C vadanu\""
   ]
  },
  {
   "cell_type": "code",
   "execution_count": null,
   "id": "06db8059-52ff-4e29-8ed3-5e0ec53eda77",
   "metadata": {},
   "outputs": [],
   "source": [
    "#Legal variable names:\n",
    "ramcharan = \"Hero\" ----PASS\n",
    "ram_charan = \"Hero\"----PASS\n",
    "_ram_charan = \"Hero\"---PASS\n",
    "ramCharan = \"Hero\"-----PASS\n",
    "RAMCHARAN = \"Hero\"-----PASS\n",
    "ram3charan2 = \"Hero\"---PASS\n",
    "\n",
    "#Illegal variable names:\n",
    "2ramcharan= \"Hero\"\n",
    "ram-charan = \"Hero\"\n",
    "ram charan = \"Hero sdhakshf\""
   ]
  },
  {
   "cell_type": "markdown",
   "id": "c2d2ac11-31b9-414d-b8ac-07fe3a0729a3",
   "metadata": {},
   "source": [
    "<h1>comment"
   ]
  },
  {
   "cell_type": "code",
   "execution_count": 28,
   "id": "f1758c55-699c-42c1-a31a-ddb97e522939",
   "metadata": {},
   "outputs": [
    {
     "name": "stdout",
     "output_type": "stream",
     "text": [
      "\n",
      "This is a multi line comment\n",
      "1. first point\n",
      "2. second point\n",
      "\n"
     ]
    }
   ],
   "source": [
    "\n",
    "\n",
    "\n",
    "\n",
    "\n",
    "print(\"\"\"\n",
    "This is a multi line comment\n",
    "1. first point\n",
    "2. second point\n",
    "\"\"\")"
   ]
  },
  {
   "cell_type": "markdown",
   "id": "5567cb18-48a9-40d7-944c-35049e00c626",
   "metadata": {},
   "source": [
    "<h1>Built-in Data Types</h1>\n",
    "\n",
    "In programming, data type is an important concept.\n",
    "\n",
    "Variables can store data of different types, and different types can do different things.\n",
    "\n",
    "Python has the following data types built-in by default, in these categories:<br>\n",
    "Text Type: \tstr<br>\n",
    "Numeric Types: \tint, float, complex<br>\n",
    "Sequence Types: \tlist, tuple, range<br>\n",
    "Mapping Type: \tdict<br>\n",
    "Set Types: \tset, frozenset<br>\n",
    "Boolean Type: \tbool<br>\n",
    "Binary Types: \tbytes, bytearray, memoryview<br>\n",
    "None Type: \tNoneType<br>"
   ]
  },
  {
   "cell_type": "code",
   "execution_count": null,
   "id": "0176052c-aff6-4338-b152-a4bf21260f78",
   "metadata": {},
   "outputs": [],
   "source": [
    "message=\"Welocome to python program\""
   ]
  },
  {
   "cell_type": "code",
   "execution_count": null,
   "id": "3f66800e-a8ad-4cc9-84af-32c4038b10b9",
   "metadata": {},
   "outputs": [],
   "source": [
    "print(message)"
   ]
  },
  {
   "cell_type": "code",
   "execution_count": null,
   "id": "70225172-217e-4fc5-830d-ff25dbc2049d",
   "metadata": {},
   "outputs": [],
   "source": [
    "print(\"Welocome to python program\")"
   ]
  },
  {
   "cell_type": "code",
   "execution_count": null,
   "id": "a89a8706-aae2-41a4-bb69-abfcbb45dcff",
   "metadata": {},
   "outputs": [],
   "source": [
    "print('Welocome to python program')"
   ]
  },
  {
   "cell_type": "code",
   "execution_count": null,
   "id": "f24b0b56-d455-4200-b6ff-f080a15c0ab6",
   "metadata": {},
   "outputs": [],
   "source": [
    "#king's horse\n",
    "print(\"king's horse\")"
   ]
  },
  {
   "cell_type": "code",
   "execution_count": null,
   "id": "c29b3a11-8425-4252-8d5f-6be9927b23c6",
   "metadata": {},
   "outputs": [],
   "source": [
    "India = 75"
   ]
  },
  {
   "cell_type": "code",
   "execution_count": null,
   "id": "658f4046-2237-4425-83d0-3784339a1935",
   "metadata": {},
   "outputs": [],
   "source": [
    "print(India)"
   ]
  },
  {
   "cell_type": "code",
   "execution_count": null,
   "id": "63b88e78-b3cf-4551-b5fa-3c8d04c2b893",
   "metadata": {},
   "outputs": [],
   "source": [
    "Welcome = 25"
   ]
  },
  {
   "cell_type": "code",
   "execution_count": null,
   "id": "d4145c81-5f13-4773-a110-f6b6f446ae7b",
   "metadata": {},
   "outputs": [],
   "source": [
    "type(\"45\")"
   ]
  },
  {
   "cell_type": "code",
   "execution_count": null,
   "id": "118f688b-71c8-4e3f-b5d2-08f3781295c8",
   "metadata": {},
   "outputs": [],
   "source": [
    "type(message)"
   ]
  },
  {
   "cell_type": "code",
   "execution_count": null,
   "id": "ce2a6c88-2346-4035-bfef-7274aa4287d0",
   "metadata": {},
   "outputs": [],
   "source": [
    "type(\"45.78\")"
   ]
  },
  {
   "cell_type": "code",
   "execution_count": null,
   "id": "676b7356-e8d7-45ab-a918-3dbe2c6b15b8",
   "metadata": {},
   "outputs": [],
   "source": [
    "print"
   ]
  },
  {
   "cell_type": "code",
   "execution_count": null,
   "id": "8df663ff-35bd-45fe-8bd1-004bb9627be2",
   "metadata": {},
   "outputs": [],
   "source": []
  },
  {
   "cell_type": "code",
   "execution_count": null,
   "id": "51440dc4-05f0-4079-a39f-e6f9f5f303d2",
   "metadata": {},
   "outputs": [],
   "source": [
    "type(India)"
   ]
  },
  {
   "cell_type": "code",
   "execution_count": null,
   "id": "24f20d0c-37cb-48ba-9c90-03721c62624c",
   "metadata": {},
   "outputs": [],
   "source": []
  },
  {
   "cell_type": "markdown",
   "id": "cfd4505d-40f5-423f-99ac-f329bae1d626",
   "metadata": {},
   "source": [
    "<h1>TYPE"
   ]
  },
  {
   "cell_type": "code",
   "execution_count": null,
   "id": "d775ba0e-a08f-4fa6-97f8-dc1d2900caa5",
   "metadata": {},
   "outputs": [],
   "source": []
  }
 ],
 "metadata": {
  "kernelspec": {
   "display_name": "Python 3 (ipykernel)",
   "language": "python",
   "name": "python3"
  },
  "language_info": {
   "codemirror_mode": {
    "name": "ipython",
    "version": 3
   },
   "file_extension": ".py",
   "mimetype": "text/x-python",
   "name": "python",
   "nbconvert_exporter": "python",
   "pygments_lexer": "ipython3",
   "version": "3.9.7"
  }
 },
 "nbformat": 4,
 "nbformat_minor": 5
}
