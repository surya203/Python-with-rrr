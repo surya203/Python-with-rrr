{
 "cells": [
  {
   "cell_type": "code",
   "execution_count": 5,
   "id": "c9bc87ca-32f8-4bb3-9ced-309edc88ed82",
   "metadata": {},
   "outputs": [],
   "source": [
    "\n",
    "def greet(name):\n",
    "    print(\"namaste\",name)"
   ]
  },
  {
   "cell_type": "code",
   "execution_count": 1,
   "id": "1dc158ea-7d81-4a13-8520-18f305a747c8",
   "metadata": {},
   "outputs": [],
   "source": [
    "#function   first name, last name(optional)\n",
    "\n",
    "def details(f_name,l_name=\"last_name\"):\n",
    "    print(f_name,l_name)\n",
    "\n",
    "\n"
   ]
  },
  {
   "cell_type": "code",
   "execution_count": 3,
   "id": "60703add-c09b-4e77-b5de-15000a33b118",
   "metadata": {},
   "outputs": [
    {
     "name": "stdout",
     "output_type": "stream",
     "text": [
      "dhksjdfdk ujkhukit\n"
     ]
    }
   ],
   "source": [
    "details(\"dhksjdfdk\",\"ujkhukit\")"
   ]
  },
  {
   "cell_type": "code",
   "execution_count": 4,
   "id": "a17d82f6-3d71-4d83-a217-7c8fdb622bf9",
   "metadata": {},
   "outputs": [],
   "source": [
    "# multiple numbers\n",
    "\n",
    "def add(*num):\n",
    "    print(sum(num))"
   ]
  },
  {
   "cell_type": "code",
   "execution_count": 8,
   "id": "c04c6c81-6770-4398-a957-fc56cdb398c6",
   "metadata": {},
   "outputs": [
    {
     "name": "stdout",
     "output_type": "stream",
     "text": [
      "2542\n"
     ]
    }
   ],
   "source": [
    "add(45,33,66,23,666,888,333,23,456,9)"
   ]
  },
  {
   "cell_type": "code",
   "execution_count": 23,
   "id": "03334131-5e3a-40ac-a97c-44eb5e271004",
   "metadata": {},
   "outputs": [],
   "source": [
    "#9 kid 17 - minor 18 25 young\n",
    "def age(num):\n",
    "    if num<10 and num>0:\n",
    "        print(\"kid\")\n",
    "    elif num<18 and num>9:\n",
    "        print(\"minor\")\n",
    "    elif num<26 and num>17:\n",
    "        print(\"young\")\n",
    "    elif num>25 and num<117:\n",
    "        print(\"old\")\n",
    "    else:\n",
    "        print(\"invalid\")\n",
    "    "
   ]
  },
  {
   "cell_type": "code",
   "execution_count": 31,
   "id": "c62e0e83-ca9a-4878-9ad2-ccb5fb1509ea",
   "metadata": {},
   "outputs": [
    {
     "name": "stdout",
     "output_type": "stream",
     "text": [
      "young\n"
     ]
    }
   ],
   "source": [
    "age(18)"
   ]
  },
  {
   "cell_type": "code",
   "execution_count": 46,
   "id": "5d703586-0380-424f-95a4-a92d7a633f54",
   "metadata": {},
   "outputs": [],
   "source": [
    "list2 = [2,5,7,9,12,3,56,7,2,3,5,6,0,1,4,6,777,333,40,544] \n",
    "list2.sort()"
   ]
  },
  {
   "cell_type": "code",
   "execution_count": 47,
   "id": "8974a108-8b39-436e-a3e8-e75de516c9dc",
   "metadata": {},
   "outputs": [
    {
     "data": {
      "text/plain": [
       "[0, 1, 2, 2, 3, 3, 4, 5, 5, 6, 6, 7, 7, 9, 12, 40, 56, 333, 544, 777]"
      ]
     },
     "execution_count": 47,
     "metadata": {},
     "output_type": "execute_result"
    }
   ],
   "source": [
    "list2"
   ]
  },
  {
   "cell_type": "code",
   "execution_count": null,
   "id": "8b879295-77e9-4663-9fcd-5eb2dde15827",
   "metadata": {},
   "outputs": [],
   "source": [
    "#Create a list\n",
    "#sort it according to assending order\n",
    "#Print the updated index value of last but not value of the presorted list"
   ]
  },
  {
   "cell_type": "code",
   "execution_count": null,
   "id": "cf71c1b5-6700-4026-927e-035f37fb4d4b",
   "metadata": {},
   "outputs": [],
   "source": []
  },
  {
   "cell_type": "code",
   "execution_count": null,
   "id": "d581816d-3b1d-48c6-ac53-1111283d266e",
   "metadata": {},
   "outputs": [],
   "source": []
  },
  {
   "cell_type": "code",
   "execution_count": null,
   "id": "89d46d48-37aa-4935-b404-6e3e37ebcd6d",
   "metadata": {},
   "outputs": [],
   "source": []
  },
  {
   "cell_type": "code",
   "execution_count": null,
   "id": "ac879b78-7ba1-420c-af8d-ee8d2871aa48",
   "metadata": {},
   "outputs": [],
   "source": []
  },
  {
   "cell_type": "code",
   "execution_count": 9,
   "id": "045db98c-4e59-4e1a-a25a-08ec5346af18",
   "metadata": {},
   "outputs": [
    {
     "name": "stdout",
     "output_type": "stream",
     "text": [
      "namaste chandana\n"
     ]
    }
   ],
   "source": [
    "greet(\"chandana\")\n",
    "\n"
   ]
  },
  {
   "cell_type": "code",
   "execution_count": 12,
   "id": "c6904608-c350-4f55-8a09-dca5f6771f09",
   "metadata": {},
   "outputs": [],
   "source": [
    "#2 numbers add\n",
    "def add(num1,num2):\n",
    "    print(num1+num2)"
   ]
  },
  {
   "cell_type": "code",
   "execution_count": 15,
   "id": "2774333e-d764-43ae-98ec-823e001d508e",
   "metadata": {},
   "outputs": [
    {
     "name": "stdout",
     "output_type": "stream",
     "text": [
      "1055\n"
     ]
    }
   ],
   "source": [
    "add(56,999)"
   ]
  },
  {
   "cell_type": "code",
   "execution_count": 16,
   "id": "266b724d-5f73-4cbb-9ea3-7abe8804b255",
   "metadata": {},
   "outputs": [],
   "source": [
    "#USERNAME\n",
    "#PASSWORD\n",
    "def login(username,password):\n",
    "    if username==\"surya\" and password==1111:\n",
    "        print(\"welcome\")\n",
    "    else:\n",
    "        print(\"incorrect\")"
   ]
  },
  {
   "cell_type": "code",
   "execution_count": 19,
   "id": "bdf0495c-72d6-48b3-a1b1-47c6489f20dd",
   "metadata": {},
   "outputs": [
    {
     "name": "stdout",
     "output_type": "stream",
     "text": [
      "incorrect\n"
     ]
    }
   ],
   "source": [
    "login(\"jfduhdfs\",1111)"
   ]
  },
  {
   "cell_type": "code",
   "execution_count": 20,
   "id": "87645398-1531-4b11-834f-56077ba2468f",
   "metadata": {},
   "outputs": [],
   "source": [
    "def is_even(num):\n",
    "    if num%2==0:\n",
    "        print(\"even\")\n",
    "    else:\n",
    "        print(\"odd\")"
   ]
  },
  {
   "cell_type": "code",
   "execution_count": 23,
   "id": "6b176ff9-5f11-48b2-9f9d-fffdfef1dce4",
   "metadata": {},
   "outputs": [
    {
     "name": "stdout",
     "output_type": "stream",
     "text": [
      "even\n"
     ]
    }
   ],
   "source": [
    "is_even(20)"
   ]
  },
  {
   "cell_type": "code",
   "execution_count": 29,
   "id": "2215a59c-a0e4-4cc7-9ae7-5d7abf521189",
   "metadata": {},
   "outputs": [],
   "source": [
    "\n",
    "#default parameters\n",
    "def phone(ph1,ph2=\"99XXXXXXXX\"):\n",
    "    print(\"phone num1:\",ph1)\n",
    "    print(\"phone num2:\",ph2)"
   ]
  },
  {
   "cell_type": "code",
   "execution_count": 31,
   "id": "d622cb06-4fda-4854-9f16-38503b600eec",
   "metadata": {},
   "outputs": [
    {
     "name": "stdout",
     "output_type": "stream",
     "text": [
      "phone num1: 9988776655\n",
      "phone num2: 9977553311\n"
     ]
    }
   ],
   "source": [
    "phone(9988776655,9977553311)"
   ]
  },
  {
   "cell_type": "code",
   "execution_count": null,
   "id": "3ce2253c-a924-456c-9380-ba0f7bcdf565",
   "metadata": {},
   "outputs": [],
   "source": []
  },
  {
   "cell_type": "code",
   "execution_count": null,
   "id": "46b4fb6b-d616-4d10-b1af-df59e338d8da",
   "metadata": {},
   "outputs": [],
   "source": []
  },
  {
   "cell_type": "code",
   "execution_count": null,
   "id": "96ec1ba3-2dd5-4882-bd7c-d0d02c28d741",
   "metadata": {},
   "outputs": [],
   "source": []
  },
  {
   "cell_type": "code",
   "execution_count": null,
   "id": "2db18425-c614-4346-b93c-267e02772c0c",
   "metadata": {},
   "outputs": [],
   "source": []
  },
  {
   "cell_type": "code",
   "execution_count": 15,
   "id": "df356a18-f5f5-4f67-94d2-78fc92c916bb",
   "metadata": {},
   "outputs": [
    {
     "ename": "NameError",
     "evalue": "name 'cricket' is not defined",
     "output_type": "error",
     "traceback": [
      "\u001b[1;31m---------------------------------------------------------------------------\u001b[0m",
      "\u001b[1;31mNameError\u001b[0m                                 Traceback (most recent call last)",
      "\u001b[1;32m~\\AppData\\Local\\Temp\\ipykernel_5672\\2064216712.py\u001b[0m in \u001b[0;36m<module>\u001b[1;34m\u001b[0m\n\u001b[1;32m----> 1\u001b[1;33m \u001b[0mcricket\u001b[0m\u001b[1;33m(\u001b[0m\u001b[1;34m\"mobile\"\u001b[0m\u001b[1;33m,\u001b[0m\u001b[1;34m\"mobile2\"\u001b[0m\u001b[1;33m)\u001b[0m\u001b[1;33m\u001b[0m\u001b[1;33m\u001b[0m\u001b[0m\n\u001b[0m",
      "\u001b[1;31mNameError\u001b[0m: name 'cricket' is not defined"
     ]
    }
   ],
   "source": [
    "cricket(\"mobile\",\"mobile2\")"
   ]
  },
  {
   "cell_type": "code",
   "execution_count": 14,
   "id": "89836ebf-8d98-4f2a-bf36-4590c840fe3d",
   "metadata": {},
   "outputs": [
    {
     "name": "stdin",
     "output_type": "stream",
     "text": [
      "Username: kiran\n",
      "Password:  4545\n"
     ]
    }
   ],
   "source": [
    "username=input(\"Username:\")\n",
    "password=input(\"Password: \")\n",
    "class login_page:\n",
    "    def login(username,password):\n",
    "        count=4\n",
    "        for i in range(3):\n",
    "            if username == \"surya\" and password==\"1234\":\n",
    "                print(\"Hello\",username,\"Welcome to fb\")\n",
    "                break\n",
    "            elif username==\"kiran\" and password==\"4545\":\n",
    "                print(\"Hello\",username,\"Welcome to fb\")\n",
    "                break\n",
    "            else:\n",
    "                print(\"invalid details\")\n",
    "                count-=1\n",
    "                print(\"You have left with \",count,\"chances\")\n",
    "                username=input(\"Username:\")\n",
    "                password=input(\"Password: \")\n",
    "\n",
    "        \n",
    "        \n"
   ]
  },
  {
   "cell_type": "code",
   "execution_count": null,
   "id": "6a226a33-138f-4330-875f-fff72ce14039",
   "metadata": {},
   "outputs": [],
   "source": []
  },
  {
   "cell_type": "code",
   "execution_count": null,
   "id": "82f4e806-875b-42ea-914e-074e41c282b2",
   "metadata": {},
   "outputs": [],
   "source": []
  },
  {
   "cell_type": "code",
   "execution_count": 24,
   "id": "3539bb1b-4f77-48a1-a68b-d817b78222f3",
   "metadata": {},
   "outputs": [],
   "source": [
    "def is_even(num):\n",
    "    if num%2==0:\n",
    "        print(\"even value\")\n",
    "    else:\n",
    "        print(\"odd value\")"
   ]
  },
  {
   "cell_type": "code",
   "execution_count": 28,
   "id": "89c5b08c-b1f1-454f-ae44-4d3370f6e170",
   "metadata": {},
   "outputs": [
    {
     "name": "stdout",
     "output_type": "stream",
     "text": [
      "even value\n"
     ]
    }
   ],
   "source": [
    "is_even(24)"
   ]
  },
  {
   "cell_type": "code",
   "execution_count": null,
   "id": "e6bfb26e-6a56-4e19-a708-6f7886486321",
   "metadata": {},
   "outputs": [],
   "source": []
  },
  {
   "cell_type": "code",
   "execution_count": 92,
   "id": "821662af-e490-49df-bb36-f11c71e64386",
   "metadata": {},
   "outputs": [
    {
     "name": "stdout",
     "output_type": "stream",
     "text": [
      "7 index\n",
      "8 index\n",
      "9 index\n"
     ]
    }
   ],
   "source": [
    "list2 = [4,6,7,23,45,9,12,8,3,5,8,42,90,10,4,8]\n",
    "item = list2[-1]\n",
    "list2.sort()\n",
    "count = 0\n",
    "for i in list2:\n",
    "    count= count+1\n",
    "    if i ==item:\n",
    "        print(count,\"index\")"
   ]
  },
  {
   "cell_type": "code",
   "execution_count": 93,
   "id": "0fe7a6c1-2721-497c-a1b3-b088dcbff48b",
   "metadata": {},
   "outputs": [
    {
     "data": {
      "text/plain": [
       "[3, 4, 4, 5, 6, 7, 8, 8, 8, 9, 10, 12, 23, 42, 45, 90]"
      ]
     },
     "execution_count": 93,
     "metadata": {},
     "output_type": "execute_result"
    }
   ],
   "source": [
    "list2"
   ]
  },
  {
   "cell_type": "code",
   "execution_count": 61,
   "id": "be67b232-863d-4606-aeaa-5f4ef7bfd066",
   "metadata": {},
   "outputs": [
    {
     "data": {
      "text/plain": [
       "[3, 4, 5, 6, 7, 8, 9, 12, 23, 45, 90]"
      ]
     },
     "execution_count": 61,
     "metadata": {},
     "output_type": "execute_result"
    }
   ],
   "source": []
  },
  {
   "cell_type": "code",
   "execution_count": null,
   "id": "41895fd2-7d51-4f1b-9329-1c97f163163a",
   "metadata": {},
   "outputs": [],
   "source": [
    "* 1st loop\n",
    "** 2 nd loop\n",
    "print(\"*\")\n"
   ]
  },
  {
   "cell_type": "code",
   "execution_count": 94,
   "id": "9deef1e7-1a84-450e-b5eb-d006e6857c13",
   "metadata": {},
   "outputs": [],
   "source": [
    "def r_tri(n):\n",
    "    for i in range(n):\n",
    "        print(\"*\")"
   ]
  },
  {
   "cell_type": "code",
   "execution_count": 95,
   "id": "8a88533b-03a0-443d-bcb1-8e0fa7e79110",
   "metadata": {},
   "outputs": [
    {
     "name": "stdout",
     "output_type": "stream",
     "text": [
      "*\n",
      "*\n",
      "*\n"
     ]
    }
   ],
   "source": [
    "r_tri(3)"
   ]
  },
  {
   "cell_type": "code",
   "execution_count": null,
   "id": "a7ade43d-c7b9-4766-95cf-f0f731bded66",
   "metadata": {},
   "outputs": [],
   "source": []
  },
  {
   "cell_type": "code",
   "execution_count": null,
   "id": "db1d09ee-af74-49d0-b964-64cb3a34fc86",
   "metadata": {},
   "outputs": [],
   "source": []
  },
  {
   "cell_type": "code",
   "execution_count": null,
   "id": "fe54d047-7955-4c77-8533-38b398466d11",
   "metadata": {},
   "outputs": [],
   "source": []
  },
  {
   "cell_type": "code",
   "execution_count": null,
   "id": "93a205a0-28af-4d92-91b5-343c7fc6b35d",
   "metadata": {},
   "outputs": [],
   "source": []
  },
  {
   "cell_type": "code",
   "execution_count": null,
   "id": "1bf0834b-01de-43ed-8cce-8303d262548e",
   "metadata": {},
   "outputs": [],
   "source": []
  },
  {
   "cell_type": "code",
   "execution_count": 16,
   "id": "65f005b3-1e43-43f9-b35a-b2cda65adaef",
   "metadata": {},
   "outputs": [
    {
     "name": "stdout",
     "output_type": "stream",
     "text": [
      "Hello kiran Welcome to fb\n"
     ]
    }
   ],
   "source": [
    "surya =login_page.login(username,password)"
   ]
  },
  {
   "cell_type": "code",
   "execution_count": 12,
   "id": "3c63da8d-f982-4bb0-9e10-0a8be27e8138",
   "metadata": {},
   "outputs": [
    {
     "name": "stdout",
     "output_type": "stream",
     "text": [
      "invalid details\n",
      "You have left with  3 chances\n"
     ]
    },
    {
     "name": "stdin",
     "output_type": "stream",
     "text": [
      "Username: sura\n",
      "Password:  ghjfds\n"
     ]
    },
    {
     "name": "stdout",
     "output_type": "stream",
     "text": [
      "invalid details\n",
      "You have left with  2 chances\n"
     ]
    },
    {
     "name": "stdin",
     "output_type": "stream",
     "text": [
      "Username: surya\n",
      "Password:  1234\n"
     ]
    },
    {
     "name": "stdout",
     "output_type": "stream",
     "text": [
      "Hello surya Welcome to fb\n"
     ]
    }
   ],
   "source": [
    "login_page.login(\"srya\",\"1234\")"
   ]
  },
  {
   "cell_type": "code",
   "execution_count": 31,
   "id": "30f07d52-3f95-48c5-9217-0c4ff9ea6d74",
   "metadata": {},
   "outputs": [],
   "source": [
    "def sub(name,email,mobile=\"+91 XXXXXXXXXX\"):\n",
    "    print(name,email,mobile)"
   ]
  },
  {
   "cell_type": "code",
   "execution_count": 33,
   "id": "0105a8d5-e7d3-4469-8e82-42c701503257",
   "metadata": {},
   "outputs": [
    {
     "name": "stdout",
     "output_type": "stream",
     "text": [
      "surya surya@email.com 7569436327\n"
     ]
    }
   ],
   "source": [
    "sub(\"surya\",\"surya@email.com\",\"7569436327\")"
   ]
  },
  {
   "cell_type": "code",
   "execution_count": 1,
   "id": "03a23c46-10d0-4981-834a-0c46665b55d9",
   "metadata": {},
   "outputs": [],
   "source": [
    "def add(*a):\n",
    "    print(sum(a))"
   ]
  },
  {
   "cell_type": "code",
   "execution_count": 2,
   "id": "4d18a4fd-d41b-4f72-bc4b-578af0fbeaab",
   "metadata": {},
   "outputs": [
    {
     "name": "stdout",
     "output_type": "stream",
     "text": [
      "232674\n"
     ]
    }
   ],
   "source": [
    "add(2,4,5,6,3,4,5,6,9,45,67,23,45,6,7,23,232324,90)"
   ]
  },
  {
   "cell_type": "code",
   "execution_count": null,
   "id": "6a3f3b5f-538d-409d-a702-c2cbfa9cab58",
   "metadata": {},
   "outputs": [],
   "source": []
  },
  {
   "cell_type": "code",
   "execution_count": 56,
   "id": "e9ff30d4-8784-40ad-b65e-de58f786b58e",
   "metadata": {},
   "outputs": [
    {
     "name": "stdout",
     "output_type": "stream",
     "text": [
      "2 0\n",
      "6 1\n",
      "2 2\n",
      "3 3\n",
      "8 4\n",
      "12 5\n",
      "76 6\n",
      "34 7\n",
      "87 8\n",
      "33 9\n"
     ]
    }
   ],
   "source": [
    "list2 = [2,6,2,3,8,12,76,34,87,33]\n",
    "count=0\n",
    "for i in list2:\n",
    "    print(i,count)\n",
    "    values = {i,count}\n",
    "    count=count+1"
   ]
  },
  {
   "cell_type": "code",
   "execution_count": 57,
   "id": "80bfd82c-9dee-46a1-9797-efab85608100",
   "metadata": {},
   "outputs": [
    {
     "data": {
      "text/plain": [
       "{9, 33}"
      ]
     },
     "execution_count": 57,
     "metadata": {},
     "output_type": "execute_result"
    }
   ],
   "source": [
    "values"
   ]
  },
  {
   "cell_type": "code",
   "execution_count": null,
   "id": "8ce74d68-bafc-4de6-ab95-e8fe39bea644",
   "metadata": {},
   "outputs": [],
   "source": []
  },
  {
   "cell_type": "code",
   "execution_count": null,
   "id": "58c87ea0-3275-4a61-90d4-b06660724e89",
   "metadata": {},
   "outputs": [],
   "source": []
  },
  {
   "cell_type": "code",
   "execution_count": null,
   "id": "ee06e81e-86de-45a9-a8c0-d10e7d6d788d",
   "metadata": {},
   "outputs": [],
   "source": []
  },
  {
   "cell_type": "code",
   "execution_count": null,
   "id": "0e4661da-7787-4fcb-8b80-a092fbc652b8",
   "metadata": {},
   "outputs": [],
   "source": []
  },
  {
   "cell_type": "code",
   "execution_count": null,
   "id": "fdf12a32-47c3-4b15-95e3-42fb2f49d5fd",
   "metadata": {},
   "outputs": [],
   "source": []
  },
  {
   "cell_type": "code",
   "execution_count": null,
   "id": "084828e6-8123-4cf4-ba51-e63056225799",
   "metadata": {},
   "outputs": [],
   "source": []
  },
  {
   "cell_type": "code",
   "execution_count": null,
   "id": "3d4ee39d-6dd5-45b3-8742-671c07adfb00",
   "metadata": {},
   "outputs": [],
   "source": []
  },
  {
   "cell_type": "code",
   "execution_count": null,
   "id": "f2a83aa9-4670-4a45-a124-9cf6245e620c",
   "metadata": {},
   "outputs": [],
   "source": []
  },
  {
   "cell_type": "code",
   "execution_count": 9,
   "id": "84c857ed-5fdb-4077-9985-0a7e2c196776",
   "metadata": {},
   "outputs": [],
   "source": [
    "def late(name):\n",
    "    print(name,\"we are late\")"
   ]
  },
  {
   "cell_type": "code",
   "execution_count": 11,
   "id": "9f4106ec-c371-43bd-8501-dc22bbe4efb0",
   "metadata": {},
   "outputs": [
    {
     "name": "stdout",
     "output_type": "stream",
     "text": [
      "Bhavya lahari anusha we are late\n"
     ]
    }
   ],
   "source": [
    "late(\"Bhavya lahari anusha\")\n"
   ]
  },
  {
   "cell_type": "code",
   "execution_count": 3,
   "id": "2ddde9eb-4e6d-44a5-9826-34053353439c",
   "metadata": {},
   "outputs": [
    {
     "name": "stdin",
     "output_type": "stream",
     "text": [
      "User name: surya\n",
      "Password:  1223\n"
     ]
    },
    {
     "name": "stdout",
     "output_type": "stream",
     "text": [
      "invalid details\n",
      "You have left 2 chances\n"
     ]
    },
    {
     "name": "stdin",
     "output_type": "stream",
     "text": [
      "User name: surya\n",
      "Password:  123\n"
     ]
    },
    {
     "name": "stdout",
     "output_type": "stream",
     "text": [
      "login successful\n"
     ]
    }
   ],
   "source": [
    "username = input(\"User name:\")\n",
    "password = input(\"Password: \")\n",
    "\n",
    "def login(username,password):\n",
    "    \"\"\"\n",
    "    This is a function for login page\n",
    "    \"\"\"\n",
    "    count=3\n",
    "    for i in range(3):\n",
    "        if username==\"surya\" and password==\"123\":\n",
    "            print(\"login successful\")\n",
    "            break\n",
    "        else:\n",
    "            print(\"invalid details\")\n",
    "            count=count-1\n",
    "            print(\"You have left\",count,\"chances\")\n",
    "            username = input(\"User name:\")\n",
    "            password = input(\"Password: \")\n",
    "\n",
    "login(username,password)\n",
    "\n",
    "      "
   ]
  },
  {
   "cell_type": "code",
   "execution_count": 13,
   "id": "8661c8d6-2f35-4cf7-b26d-14a755e28c11",
   "metadata": {},
   "outputs": [
    {
     "name": "stdout",
     "output_type": "stream",
     "text": [
      "login successful\n"
     ]
    }
   ],
   "source": []
  },
  {
   "cell_type": "code",
   "execution_count": 23,
   "id": "5d3f469e-1052-4403-be49-2fcee48c470b",
   "metadata": {},
   "outputs": [
    {
     "name": "stdin",
     "output_type": "stream",
     "text": [
      "User name: ghfdgfsdh\n",
      "Password:  2323\n"
     ]
    },
    {
     "name": "stdout",
     "output_type": "stream",
     "text": [
      "wrong details\n",
      "You have left 3 chances\n"
     ]
    },
    {
     "name": "stdin",
     "output_type": "stream",
     "text": [
      "User name: hjdhjksd\n",
      "Password:  2323323\n"
     ]
    },
    {
     "name": "stdout",
     "output_type": "stream",
     "text": [
      "wrong details\n",
      "You have left 2 chances\n"
     ]
    },
    {
     "name": "stdin",
     "output_type": "stream",
     "text": [
      "User name: bjdjbds\n",
      "Password:  343445\n"
     ]
    },
    {
     "name": "stdout",
     "output_type": "stream",
     "text": [
      "wrong details\n",
      "You have left 1 chances\n"
     ]
    },
    {
     "name": "stdin",
     "output_type": "stream",
     "text": [
      "User name: hjdsfhjd\n",
      "Password:  334434\n"
     ]
    },
    {
     "name": "stdout",
     "output_type": "stream",
     "text": [
      "Your account is locked\n"
     ]
    }
   ],
   "source": [
    "username = input(\"User name:\")\n",
    "password = int(input(\"Password: \"))\n",
    "\n",
    "def login(username,password):\n",
    "    count=3\n",
    "    for i in range(3):\n",
    "        if username==\"surya\" and password==1122:\n",
    "            print(\"welcome to twitter\")\n",
    "            break\n",
    "        else:\n",
    "            print(\"wrong details\")\n",
    "            print(\"You have left\",count,\"chances\")\n",
    "            count=count-1\n",
    "            username = input(\"User name:\")\n",
    "            password = int(input(\"Password: \"))\n",
    "            if count==0:\n",
    "                print(\"Your account is locked\")\n",
    "    \n",
    "login(username,password)"
   ]
  },
  {
   "cell_type": "code",
   "execution_count": null,
   "id": "f2e11f67-48ae-4d00-b3d1-2bf2626dcab0",
   "metadata": {},
   "outputs": [],
   "source": []
  },
  {
   "cell_type": "code",
   "execution_count": null,
   "id": "37b95475-9297-407f-a7d7-a4dc72997cb0",
   "metadata": {},
   "outputs": [],
   "source": []
  },
  {
   "cell_type": "code",
   "execution_count": null,
   "id": "823f85e6-f399-40ad-822c-5d1ae92a14ce",
   "metadata": {},
   "outputs": [],
   "source": []
  },
  {
   "cell_type": "code",
   "execution_count": null,
   "id": "445d3801-1e49-47b8-9608-78e8f3f38e1b",
   "metadata": {},
   "outputs": [],
   "source": []
  },
  {
   "cell_type": "code",
   "execution_count": null,
   "id": "3c9f8dd3-3d31-4b3c-8304-3ad79917789e",
   "metadata": {},
   "outputs": [],
   "source": []
  },
  {
   "cell_type": "code",
   "execution_count": null,
   "id": "5bd24e63-044b-499f-89e9-d666167b2a65",
   "metadata": {},
   "outputs": [],
   "source": [
    "list()"
   ]
  },
  {
   "cell_type": "code",
   "execution_count": null,
   "id": "e6f4fa46-dd04-45ee-8441-d5a6acee672c",
   "metadata": {},
   "outputs": [],
   "source": []
  },
  {
   "cell_type": "code",
   "execution_count": null,
   "id": "133699c1-48a7-49e1-b095-37c3ffcd4d6f",
   "metadata": {},
   "outputs": [],
   "source": []
  },
  {
   "cell_type": "code",
   "execution_count": 34,
   "id": "b7e83e14-41fc-4877-81f0-e6cc1571c398",
   "metadata": {},
   "outputs": [],
   "source": [
    "def sub(username,email,mobile=\"+91 XXXXXXXXXX\"):\n",
    "    print(username,email,mobile)"
   ]
  },
  {
   "cell_type": "code",
   "execution_count": 35,
   "id": "29efb8ac-9c10-414e-b3c8-e9d3e12c71fb",
   "metadata": {},
   "outputs": [
    {
     "name": "stdout",
     "output_type": "stream",
     "text": [
      "bhavya bhavya@email.com +91 XXXXXXXXXX\n"
     ]
    }
   ],
   "source": [
    "sub(\"bhavya\",\"bhavya@email.com\")"
   ]
  },
  {
   "cell_type": "code",
   "execution_count": null,
   "id": "18f51f60-5391-44df-89a9-426b6efb920d",
   "metadata": {},
   "outputs": [],
   "source": []
  },
  {
   "cell_type": "code",
   "execution_count": 41,
   "id": "aa852ecb-f20d-48b6-aeda-9903d8c120fc",
   "metadata": {},
   "outputs": [],
   "source": [
    "def add(*a):\n",
    "    print(sum(a))\n"
   ]
  },
  {
   "cell_type": "code",
   "execution_count": 42,
   "id": "20c5db73-d929-4ba1-b2d3-8731648d5b14",
   "metadata": {},
   "outputs": [
    {
     "ename": "TypeError",
     "evalue": "add() takes 0 positional arguments but 9 were given",
     "output_type": "error",
     "traceback": [
      "\u001b[1;31m---------------------------------------------------------------------------\u001b[0m",
      "\u001b[1;31mTypeError\u001b[0m                                 Traceback (most recent call last)",
      "\u001b[1;32m~\\AppData\\Local\\Temp\\ipykernel_13032\\285432972.py\u001b[0m in \u001b[0;36m<module>\u001b[1;34m\u001b[0m\n\u001b[1;32m----> 1\u001b[1;33m \u001b[0madd\u001b[0m\u001b[1;33m(\u001b[0m\u001b[1;36m4\u001b[0m\u001b[1;33m,\u001b[0m\u001b[1;36m7\u001b[0m\u001b[1;33m,\u001b[0m\u001b[1;36m8\u001b[0m\u001b[1;33m,\u001b[0m\u001b[1;36m6\u001b[0m\u001b[1;33m,\u001b[0m\u001b[1;36m7\u001b[0m\u001b[1;33m,\u001b[0m\u001b[1;36m9\u001b[0m\u001b[1;33m,\u001b[0m\u001b[1;36m567\u001b[0m\u001b[1;33m,\u001b[0m\u001b[1;36m8785\u001b[0m\u001b[1;33m,\u001b[0m\u001b[1;36m354\u001b[0m\u001b[1;33m)\u001b[0m\u001b[1;33m\u001b[0m\u001b[1;33m\u001b[0m\u001b[0m\n\u001b[0m",
      "\u001b[1;31mTypeError\u001b[0m: add() takes 0 positional arguments but 9 were given"
     ]
    }
   ],
   "source": [
    "add(4,7,8,6,7,9,567,8785,354)"
   ]
  },
  {
   "cell_type": "code",
   "execution_count": null,
   "id": "1f694c72-3702-4f52-859b-b792cc23a740",
   "metadata": {},
   "outputs": [],
   "source": []
  },
  {
   "cell_type": "code",
   "execution_count": null,
   "id": "9f930445-5b53-4b04-9064-0990b4c1d33d",
   "metadata": {},
   "outputs": [],
   "source": []
  },
  {
   "cell_type": "code",
   "execution_count": null,
   "id": "21bb721b-7b32-4d71-b50f-44272531501e",
   "metadata": {},
   "outputs": [],
   "source": []
  },
  {
   "cell_type": "code",
   "execution_count": null,
   "id": "b6c3569b-19da-41b0-9d41-f50e0f8fe583",
   "metadata": {},
   "outputs": [],
   "source": []
  },
  {
   "cell_type": "code",
   "execution_count": null,
   "id": "844e1d36-4ee3-45c4-8a3b-ae930c23aac2",
   "metadata": {},
   "outputs": [],
   "source": [
    "username= input(\"User name: \")\n",
    "password = input(\"Password: \")\n",
    "\n",
    "def login(username,password,mobile):\n",
    "    \"\"\"\n",
    "    This is a function for login page\n",
    "    \"\"\"\n",
    "    chances=3\n",
    "    for i in range(3):\n",
    "        if username==\"surya_ai\" and password==\"123456\":\n",
    "            print(\"hello\",username,\"welcome to facebook\")\n",
    "            break\n",
    "        else:\n",
    "            print(\"incorrect details\")\n",
    "            chances -=1\n",
    "            print(\"you have left: \",chances,\"chances\")\n",
    "            username= input(\"User name: \")\n",
    "            password = input(\"Password: \")\n",
    "        \n",
    "        \n",
    "login(username,password)"
   ]
  },
  {
   "cell_type": "code",
   "execution_count": null,
   "id": "1ae5eeb8-3c28-4feb-adcc-d480b1421e7f",
   "metadata": {},
   "outputs": [],
   "source": [
    "login(\"surya_ai\",\"123456\")"
   ]
  },
  {
   "cell_type": "code",
   "execution_count": null,
   "id": "9ae2f4e7-ef2d-4f46-8920-2d8efce95859",
   "metadata": {},
   "outputs": [],
   "source": [
    "login()"
   ]
  },
  {
   "cell_type": "code",
   "execution_count": null,
   "id": "7e90fa13-ca9b-489c-b625-beddf3ca1081",
   "metadata": {},
   "outputs": [],
   "source": []
  },
  {
   "cell_type": "code",
   "execution_count": null,
   "id": "69114ed0-63f0-4b3d-9c92-b2237949c0e2",
   "metadata": {},
   "outputs": [],
   "source": [
    "def add(**a):\n",
    "    print(print(a))"
   ]
  },
  {
   "cell_type": "code",
   "execution_count": null,
   "id": "5a3927bc-d7b6-4972-a47c-8a35b5defe84",
   "metadata": {},
   "outputs": [],
   "source": [
    "add({\"apple\"=40})"
   ]
  },
  {
   "cell_type": "code",
   "execution_count": null,
   "id": "acb8e75e-1baa-4fb3-84c9-2cdb6095f141",
   "metadata": {},
   "outputs": [],
   "source": []
  },
  {
   "cell_type": "code",
   "execution_count": null,
   "id": "962db481-574b-4e0f-b676-e7e0ce805419",
   "metadata": {},
   "outputs": [],
   "source": []
  },
  {
   "cell_type": "code",
   "execution_count": null,
   "id": "26b0e72f-0961-4a13-a574-fc3afdd2658c",
   "metadata": {},
   "outputs": [],
   "source": []
  },
  {
   "cell_type": "code",
   "execution_count": null,
   "id": "9f7763ab-d70f-422f-bcdc-e0309749e559",
   "metadata": {},
   "outputs": [],
   "source": []
  },
  {
   "cell_type": "code",
   "execution_count": null,
   "id": "419eb579-a55d-4714-be73-dc3b104cf018",
   "metadata": {},
   "outputs": [],
   "source": []
  },
  {
   "cell_type": "code",
   "execution_count": null,
   "id": "054da76d-5939-482e-be64-8574b4df6908",
   "metadata": {},
   "outputs": [],
   "source": []
  },
  {
   "cell_type": "code",
   "execution_count": null,
   "id": "6c4a186b-bd8b-48c4-a5a6-19e33785b8c1",
   "metadata": {},
   "outputs": [],
   "source": []
  },
  {
   "cell_type": "code",
   "execution_count": null,
   "id": "d687953f-71aa-44a3-bede-b29f26f50b15",
   "metadata": {},
   "outputs": [],
   "source": [
    "def login_page(name,password):\n",
    "    \"\"\"This is a function for Insta login\"\"\"\n",
    "    for i in range(3):\n",
    "        if name==\"surya_ai\" and password==\"123456\":\n",
    "            print(\"welcome to facebook\")\n",
    "            break\n",
    "        else:\n",
    "            print(\"try again\")\n",
    "            print(\"You have \",3-i, \"attempts left\")\n",
    "        name=input()\n"
   ]
  },
  {
   "cell_type": "code",
   "execution_count": null,
   "id": "8d41976e-d117-4e18-b0ea-ebb1f14bf7ed",
   "metadata": {},
   "outputs": [],
   "source": [
    "def registration(username,email,topic,mobile=\"9XXXXXXXXXX\"):\n",
    "    print(\"welcome \",username,\"Your email is: \",email,\n",
    "          \"your topic is \",topic,\"mobile number: \",mobile)\n",
    "          "
   ]
  },
  {
   "cell_type": "code",
   "execution_count": null,
   "id": "132d61a9-e7cb-4dc1-8184-029f141d920b",
   "metadata": {},
   "outputs": [],
   "source": [
    "registration(\"marc\",\"marc@email.com\",\"python\",9898989898)"
   ]
  },
  {
   "cell_type": "code",
   "execution_count": null,
   "id": "f1a7c3f1-989f-426d-b1eb-69a0e21c8460",
   "metadata": {},
   "outputs": [],
   "source": []
  },
  {
   "cell_type": "code",
   "execution_count": null,
   "id": "c8a0c902-6ffb-402b-a464-7358df73b4f1",
   "metadata": {},
   "outputs": [],
   "source": [
    "def add(*a):\n",
    "    print(sum(a))"
   ]
  },
  {
   "cell_type": "code",
   "execution_count": null,
   "id": "cf006202-a188-41a8-9669-34f687da333f",
   "metadata": {},
   "outputs": [],
   "source": [
    "add(56,44,66,45,67,89,23,45,67,89,23,245,234,567,876)"
   ]
  },
  {
   "cell_type": "code",
   "execution_count": null,
   "id": "01427970-526e-4a05-b071-3cdeb3985c47",
   "metadata": {},
   "outputs": [],
   "source": [
    "def add(**a):\n",
    "    "
   ]
  },
  {
   "cell_type": "code",
   "execution_count": null,
   "id": "9e82fbbc-c6c7-45af-b648-21fe9db28c1f",
   "metadata": {},
   "outputs": [],
   "source": []
  },
  {
   "cell_type": "code",
   "execution_count": null,
   "id": "211e2353-0ab7-4b1b-b35e-fedc58714744",
   "metadata": {},
   "outputs": [],
   "source": []
  },
  {
   "cell_type": "code",
   "execution_count": null,
   "id": "d309cc3a-ae62-4b3a-9f2e-f13a3eefac4d",
   "metadata": {},
   "outputs": [],
   "source": []
  },
  {
   "cell_type": "code",
   "execution_count": null,
   "id": "7fb71489-04e0-49f9-b503-4eea3adb46e0",
   "metadata": {},
   "outputs": [],
   "source": [
    "cricket()"
   ]
  },
  {
   "cell_type": "code",
   "execution_count": null,
   "id": "4097b338-92bc-40ce-bd3d-f0fca0ba310d",
   "metadata": {},
   "outputs": [],
   "source": [
    "def cricket(team):\n",
    "    print(\"My fav team is\",team)\n",
    "    print(team)"
   ]
  },
  {
   "cell_type": "code",
   "execution_count": null,
   "id": "06502bae-5720-4526-8b17-62ba488664b2",
   "metadata": {},
   "outputs": [],
   "source": [
    "a=input()"
   ]
  },
  {
   "cell_type": "code",
   "execution_count": null,
   "id": "ca5932a7-74c7-4ebe-a79a-ac156e1d578c",
   "metadata": {},
   "outputs": [],
   "source": [
    "cricket(team)"
   ]
  },
  {
   "cell_type": "code",
   "execution_count": null,
   "id": "d3dde09b-d32c-4ef9-b287-5d3cfd3858c6",
   "metadata": {},
   "outputs": [],
   "source": [
    "cricket(\"India\")"
   ]
  },
  {
   "cell_type": "code",
   "execution_count": null,
   "id": "d077cd93-a05c-4411-8a74-9df3cb6e8bb4",
   "metadata": {},
   "outputs": [],
   "source": [
    "def add(a,b):\n",
    "    print(a+b)"
   ]
  },
  {
   "cell_type": "code",
   "execution_count": null,
   "id": "7e830cfc-4c40-4504-87fb-702531626633",
   "metadata": {},
   "outputs": [],
   "source": [
    "add(4,5)"
   ]
  },
  {
   "cell_type": "code",
   "execution_count": null,
   "id": "90f80b2a-8176-4024-83b2-9c6207d6ab64",
   "metadata": {},
   "outputs": [],
   "source": [
    "-(9/0.0000000001)"
   ]
  },
  {
   "cell_type": "code",
   "execution_count": null,
   "id": "e28abf47-a96d-4a07-a201-e5c44c9fc279",
   "metadata": {},
   "outputs": [],
   "source": []
  },
  {
   "cell_type": "code",
   "execution_count": null,
   "id": "308e8215-6165-4b59-9fe3-393a9e600d34",
   "metadata": {},
   "outputs": [],
   "source": []
  },
  {
   "cell_type": "code",
   "execution_count": null,
   "id": "e45c4a8f-f8c5-46e8-b974-b6d5fafcfb9e",
   "metadata": {},
   "outputs": [],
   "source": [
    "def total_marks(m1,eng,science,ai=0,python=0,physics=0):\n",
    "    print(m1+eng+science+ai+python+physics)"
   ]
  },
  {
   "cell_type": "code",
   "execution_count": null,
   "id": "c3a60271-f2a7-42a5-b002-401456c795f6",
   "metadata": {},
   "outputs": [],
   "source": [
    "total_marks(36,45,9,67,45,88,77)"
   ]
  },
  {
   "cell_type": "code",
   "execution_count": null,
   "id": "5ee86014-5f7e-4d65-8e4e-d59a3481fbad",
   "metadata": {},
   "outputs": [],
   "source": [
    "def total_marks(*subjects):\n",
    "    print(sum(subjects))"
   ]
  },
  {
   "cell_type": "code",
   "execution_count": null,
   "id": "31a29628-28d8-4b47-9ddc-78302766aca6",
   "metadata": {},
   "outputs": [],
   "source": [
    "total_marks(34,56,54,45,43,74,22)"
   ]
  },
  {
   "cell_type": "code",
   "execution_count": null,
   "id": "d11c3f8b-f5d1-4762-8190-fe62fd2f62b1",
   "metadata": {},
   "outputs": [],
   "source": [
    "34*34"
   ]
  },
  {
   "cell_type": "code",
   "execution_count": null,
   "id": "64bff9d1-dbbb-4bdf-9316-7a413bdab8a5",
   "metadata": {},
   "outputs": [],
   "source": [
    "#**kwargs"
   ]
  },
  {
   "cell_type": "code",
   "execution_count": 44,
   "id": "4023c265-4d5e-4955-b6fe-d5403dba21e4",
   "metadata": {},
   "outputs": [],
   "source": [
    "def myFun(**a):\n",
    "\tfor key, value in a.items():\n",
    "\t\tprint(key, value)\n"
   ]
  },
  {
   "cell_type": "code",
   "execution_count": 45,
   "id": "229332e6-8633-45c3-9d80-bf2c59641375",
   "metadata": {},
   "outputs": [
    {
     "name": "stdout",
     "output_type": "stream",
     "text": [
      "first ai\n",
      "mid python\n",
      "last machine learning\n"
     ]
    }
   ],
   "source": [
    "myFun(first='ai', mid='python', last='machine learning')"
   ]
  },
  {
   "cell_type": "code",
   "execution_count": null,
   "id": "1aef9e18-2094-4f1f-81f9-03266342fe95",
   "metadata": {},
   "outputs": [],
   "source": [
    "# return:\n",
    "# print vs return\n",
    "\n",
    "#internal marks, external marks, total marks\n",
    "\n",
    "print iternal marks, external marks, total marks\n",
    "\n",
    "func---iternal marks\n",
    "func---external marks\n",
    "func---total marks\n",
    "\n",
    "# expected output\n",
    "\n",
    "your internal marks are : \"marks\"\n",
    "your external marks are : \"marks\"\n",
    "yout total marks are: \"marks\"\n",
    "----print \n",
    "\n",
    "\n",
    "# expected output\n",
    "yout total marks are: \"marks\"\n",
    "\n"
   ]
  },
  {
   "cell_type": "code",
   "execution_count": null,
   "id": "0ac4470e-06fd-4b6e-9d03-7292dd0b3638",
   "metadata": {},
   "outputs": [],
   "source": [
    "def return_67():\n",
    "    print(67) "
   ]
  },
  {
   "cell_type": "code",
   "execution_count": null,
   "id": "51c929e4-8532-44fd-a0b0-078deba04831",
   "metadata": {},
   "outputs": [],
   "source": [
    "return_67()"
   ]
  },
  {
   "cell_type": "code",
   "execution_count": null,
   "id": "a2a4402a-da31-4056-b43b-ccad704eceb1",
   "metadata": {},
   "outputs": [],
   "source": [
    "num = return_42()"
   ]
  },
  {
   "cell_type": "code",
   "execution_count": null,
   "id": "fed1f462-26c1-49ce-b33b-30668c995543",
   "metadata": {},
   "outputs": [],
   "source": [
    "return_42() * 34"
   ]
  },
  {
   "cell_type": "code",
   "execution_count": null,
   "id": "d7494fad-3c61-40e4-8d4e-83961156c036",
   "metadata": {},
   "outputs": [],
   "source": [
    "def internal_marks(marks):\n",
    "    return marks"
   ]
  },
  {
   "cell_type": "code",
   "execution_count": null,
   "id": "02251b51-d73c-4b62-b0b3-eda46c4ea8f4",
   "metadata": {},
   "outputs": [],
   "source": [
    "def ext_marks(marks):\n",
    "    return marks"
   ]
  },
  {
   "cell_type": "code",
   "execution_count": null,
   "id": "9dd439d6-9135-4a61-9127-4d03b488f598",
   "metadata": {},
   "outputs": [],
   "source": [
    "internal_marks(45)"
   ]
  },
  {
   "cell_type": "code",
   "execution_count": null,
   "id": "3dfa8248-9b2b-433f-968d-44a54cd358d2",
   "metadata": {},
   "outputs": [],
   "source": [
    "ext_marks(67)"
   ]
  },
  {
   "cell_type": "code",
   "execution_count": null,
   "id": "0cb7be04-3c56-435a-990f-722cbc703377",
   "metadata": {},
   "outputs": [],
   "source": [
    "internal_marks(34) + ext_marks(66)"
   ]
  },
  {
   "cell_type": "code",
   "execution_count": null,
   "id": "efcd8f3f-d924-4818-9307-2e873be106e3",
   "metadata": {},
   "outputs": [],
   "source": [
    "def internal_marks(marks):\n",
    "    print(marks)"
   ]
  },
  {
   "cell_type": "code",
   "execution_count": null,
   "id": "2e9cba13-f627-48a7-945b-b993414c3a0f",
   "metadata": {},
   "outputs": [],
   "source": [
    "def ext_marks(marks):\n",
    "    print(marks)"
   ]
  },
  {
   "cell_type": "code",
   "execution_count": null,
   "id": "84c61ddd-afe2-4e11-8cbe-d6d7f7350c48",
   "metadata": {},
   "outputs": [],
   "source": [
    "internal_marks(34) + ext_marks(66)"
   ]
  },
  {
   "cell_type": "code",
   "execution_count": null,
   "id": "5db022a1-53aa-41ae-9482-98146b5c1fc5",
   "metadata": {},
   "outputs": [],
   "source": []
  }
 ],
 "metadata": {
  "kernelspec": {
   "display_name": "Python 3 (ipykernel)",
   "language": "python",
   "name": "python3"
  },
  "language_info": {
   "codemirror_mode": {
    "name": "ipython",
    "version": 3
   },
   "file_extension": ".py",
   "mimetype": "text/x-python",
   "name": "python",
   "nbconvert_exporter": "python",
   "pygments_lexer": "ipython3",
   "version": "3.9.7"
  }
 },
 "nbformat": 4,
 "nbformat_minor": 5
}
