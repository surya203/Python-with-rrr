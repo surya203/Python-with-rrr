{
 "cells": [
  {
   "cell_type": "markdown",
   "id": "38921902-f5bf-42dd-b1ad-5edee046b818",
   "metadata": {},
   "source": [
    "<h1>map filter and variables"
   ]
  },
  {
   "cell_type": "code",
   "execution_count": 1,
   "id": "c85c61d8-d265-40e1-bd96-9ad505f48bb8",
   "metadata": {},
   "outputs": [],
   "source": [
    "def is_even(n):\n",
    "    return n%2==0"
   ]
  },
  {
   "cell_type": "code",
   "execution_count": 8,
   "id": "79d71e34-ac66-4557-a1ca-dbb130bc324d",
   "metadata": {},
   "outputs": [
    {
     "data": {
      "text/plain": [
       "False"
      ]
     },
     "execution_count": 8,
     "metadata": {},
     "output_type": "execute_result"
    }
   ],
   "source": [
    "nums = [1,2,4,5,6,8,3,4,5,2,6,9]"
   ]
  },
  {
   "cell_type": "code",
   "execution_count": 9,
   "id": "365aed9a-36af-45b8-9551-2c2c75672068",
   "metadata": {},
   "outputs": [
    {
     "data": {
      "text/plain": [
       "True"
      ]
     },
     "execution_count": 9,
     "metadata": {},
     "output_type": "execute_result"
    }
   ],
   "source": []
  },
  {
   "cell_type": "code",
   "execution_count": 19,
   "id": "7419643a-59c6-41dd-8adb-ca08250302e3",
   "metadata": {},
   "outputs": [
    {
     "name": "stdout",
     "output_type": "stream",
     "text": [
      "[1, 5, 3, 5, 9]\n"
     ]
    }
   ],
   "source": [
    "#fetch all even numbers\n",
    "\n",
    "nums = [1,2,4,5,6,8,3,4,5,2,6,9]\n",
    "\n",
    "even = list(filter(lambda n: n%2==1,nums))\n",
    "\n",
    "print(even)"
   ]
  },
  {
   "cell_type": "code",
   "execution_count": null,
   "id": "f767028c-86d9-4897-b664-987256928902",
   "metadata": {},
   "outputs": [],
   "source": []
  },
  {
   "cell_type": "code",
   "execution_count": null,
   "id": "7cd48b7a-c00f-47e7-bd13-83003cfe1a64",
   "metadata": {},
   "outputs": [],
   "source": []
  },
  {
   "cell_type": "code",
   "execution_count": null,
   "id": "c8f1dec4-599f-43c4-82fe-fd901c1e27db",
   "metadata": {},
   "outputs": [],
   "source": []
  },
  {
   "cell_type": "code",
   "execution_count": null,
   "id": "be17ba56-2904-4f76-ba7b-dc6d67e1c40b",
   "metadata": {},
   "outputs": [],
   "source": []
  },
  {
   "cell_type": "code",
   "execution_count": null,
   "id": "e8dbaac2-e491-49c8-8df8-e11e4d0bbe43",
   "metadata": {},
   "outputs": [],
   "source": []
  },
  {
   "cell_type": "code",
   "execution_count": null,
   "id": "35c70b5b-a8dd-4278-acfa-2f94ca45cc3b",
   "metadata": {},
   "outputs": [],
   "source": []
  },
  {
   "cell_type": "code",
   "execution_count": null,
   "id": "a73cda18-77c6-4ffe-879d-88b8c8075b70",
   "metadata": {},
   "outputs": [],
   "source": []
  },
  {
   "cell_type": "code",
   "execution_count": null,
   "id": "c7ce7a29-df60-4c4f-8a67-8bf0bf5e524f",
   "metadata": {},
   "outputs": [],
   "source": []
  },
  {
   "cell_type": "code",
   "execution_count": null,
   "id": "efa3e196-6337-4e31-9a76-15e0d6867af1",
   "metadata": {},
   "outputs": [],
   "source": []
  },
  {
   "cell_type": "code",
   "execution_count": 20,
   "id": "8306fd90-d267-4ea7-a5b4-e0f8d45d3f11",
   "metadata": {},
   "outputs": [
    {
     "name": "stdout",
     "output_type": "stream",
     "text": [
      "[2, 4, 6, 8, 4, 2, 6]\n"
     ]
    }
   ],
   "source": [
    "nums = [1,2,4,5,6,8,3,4,5,2,6,9]\n",
    "\n",
    "even = list(filter(lambda n:n%2==0,nums))\n",
    "\n",
    "print(even)"
   ]
  },
  {
   "cell_type": "code",
   "execution_count": null,
   "id": "f188315b-c8c3-4c4f-b660-03293078a75a",
   "metadata": {},
   "outputs": [],
   "source": []
  },
  {
   "cell_type": "code",
   "execution_count": null,
   "id": "371a0c41-51a9-4a2a-b170-8bfe6f5a1f2b",
   "metadata": {},
   "outputs": [],
   "source": []
  },
  {
   "cell_type": "code",
   "execution_count": null,
   "id": "c2917715-dd8d-42af-b526-b17c3b56eb22",
   "metadata": {},
   "outputs": [],
   "source": []
  },
  {
   "cell_type": "code",
   "execution_count": null,
   "id": "ab85f86d-33f8-4e13-91ac-4a775961750b",
   "metadata": {},
   "outputs": [],
   "source": []
  },
  {
   "cell_type": "code",
   "execution_count": 23,
   "id": "c625d96e-9853-48c8-b7f8-d2717de188f0",
   "metadata": {},
   "outputs": [
    {
     "name": "stdout",
     "output_type": "stream",
     "text": [
      "[7, 9, 11, 13, 9, 7, 11]\n"
     ]
    }
   ],
   "source": [
    "\n",
    "\n",
    "nums = [1,2,4,5,6,8,3,4,5,2,6,9]\n",
    "\n",
    "even = list(filter(lambda n:n%2==0,nums))\n",
    "\n",
    "add_5 = list(map(lambda n: n+5,even))\n",
    "\n",
    "print(add_5)"
   ]
  },
  {
   "cell_type": "code",
   "execution_count": null,
   "id": "41c04bac-2c2d-4646-9a99-71eccbd15830",
   "metadata": {},
   "outputs": [],
   "source": []
  },
  {
   "cell_type": "code",
   "execution_count": null,
   "id": "c699dde9-34a9-49fc-9c9f-24f403087b40",
   "metadata": {},
   "outputs": [],
   "source": []
  },
  {
   "cell_type": "code",
   "execution_count": null,
   "id": "9ce07568-d73c-44dc-8adb-ba79d46464ae",
   "metadata": {},
   "outputs": [],
   "source": []
  },
  {
   "cell_type": "code",
   "execution_count": null,
   "id": "5544d387-9c8f-42af-b514-02bc5c8da44f",
   "metadata": {},
   "outputs": [],
   "source": []
  },
  {
   "cell_type": "code",
   "execution_count": null,
   "id": "3aec4277-b38c-4713-8a58-455876091ef7",
   "metadata": {},
   "outputs": [],
   "source": []
  },
  {
   "cell_type": "code",
   "execution_count": null,
   "id": "4c5794f0-a8b7-45ec-8687-47d2ac64bc0c",
   "metadata": {},
   "outputs": [],
   "source": []
  },
  {
   "cell_type": "code",
   "execution_count": null,
   "id": "798125f4-b26b-43da-8721-fe2b7e8c2e22",
   "metadata": {},
   "outputs": [],
   "source": []
  },
  {
   "cell_type": "code",
   "execution_count": null,
   "id": "a12ce10e-155d-4df6-9a61-6d82d7994ed4",
   "metadata": {},
   "outputs": [],
   "source": [
    "\n",
    "nums = [1,2,4,5,6,8,3,4,5,2,6,9]\n",
    "\n",
    "even = list(filter(lambda n:n%2==0,nums))\n",
    "\n",
    "square = list(map(lambda n: n*n,even))\n",
    "\n",
    "print(square)"
   ]
  },
  {
   "cell_type": "code",
   "execution_count": null,
   "id": "6e72a956-265f-406e-a774-3106a419558d",
   "metadata": {},
   "outputs": [],
   "source": []
  },
  {
   "cell_type": "code",
   "execution_count": null,
   "id": "87fbd696-7ae7-4e80-8b6e-bb00e81f46de",
   "metadata": {},
   "outputs": [],
   "source": []
  },
  {
   "cell_type": "code",
   "execution_count": null,
   "id": "d4cbba79-8af9-4e4c-bde4-8d5a27fbc391",
   "metadata": {},
   "outputs": [],
   "source": []
  },
  {
   "cell_type": "code",
   "execution_count": null,
   "id": "afd7b065-bd8f-45f9-a22f-475b8acc31fd",
   "metadata": {},
   "outputs": [],
   "source": []
  },
  {
   "cell_type": "code",
   "execution_count": null,
   "id": "4e1ff83c-e1be-4363-9bce-ae07e3529320",
   "metadata": {},
   "outputs": [],
   "source": []
  },
  {
   "cell_type": "markdown",
   "id": "c2b5e690-64ec-4207-9864-195be3c7f7a0",
   "metadata": {},
   "source": [
    "Global variables are those which are not defined inside any function and have a global scope whereas local variables are those which are defined inside a function and its scope is limited to that function only."
   ]
  },
  {
   "cell_type": "code",
   "execution_count": 27,
   "id": "1767a491-9cbd-427c-9f72-356245f64bd1",
   "metadata": {},
   "outputs": [
    {
     "name": "stdout",
     "output_type": "stream",
     "text": [
      "I love A.I\n",
      "I love machine learning\n"
     ]
    }
   ],
   "source": [
    "s=\"I love machine learning\"\n",
    "def greet():\n",
    "\t# local variable\n",
    "\ts = \"I love A.I\"\n",
    "\tprint(s)\n",
    "\n",
    "\n",
    "# Driver code\n",
    "greet()\n",
    "print(s)"
   ]
  },
  {
   "cell_type": "code",
   "execution_count": null,
   "id": "6a4658f2-a752-47f8-89e5-de69bb45afc2",
   "metadata": {},
   "outputs": [],
   "source": []
  },
  {
   "cell_type": "code",
   "execution_count": 28,
   "id": "efd447b3-5738-4bda-b285-774b44e0a432",
   "metadata": {},
   "outputs": [
    {
     "name": "stdout",
     "output_type": "stream",
     "text": [
      "I love A.I\n",
      "I love machine learning\n"
     ]
    }
   ],
   "source": [
    "\n",
    "def greet2():\n",
    "      \n",
    "    # local variable\n",
    "    s = \"I love A.I\"\n",
    "    print(s)\n",
    "# Driver code\n",
    "greet2()\n",
    "print(s)"
   ]
  },
  {
   "cell_type": "code",
   "execution_count": 29,
   "id": "87a57b38-6e14-40fc-9973-46dd949fae9f",
   "metadata": {},
   "outputs": [
    {
     "name": "stdout",
     "output_type": "stream",
     "text": [
      "Inside Function I love A.I\n",
      "Outside Function I love A.I\n"
     ]
    }
   ],
   "source": [
    "\n",
    "# This function uses global variable s\n",
    "def f():\n",
    "    print(\"Inside Function\", s)\n",
    "\n",
    "# Global scope\n",
    "s = \"I love A.I\"\n",
    "f()\n",
    "print(\"Outside Function\", s)"
   ]
  },
  {
   "cell_type": "code",
   "execution_count": null,
   "id": "bda50d6a-8833-4a82-b473-336cc870138e",
   "metadata": {},
   "outputs": [],
   "source": [
    "# This function has a variable with\n",
    "# name same as s.\n",
    "\n",
    "\n",
    "def f():\n",
    "\ts = \"Me too.\"\n",
    "\tprint(s)\n",
    "\n",
    "\n",
    "# Global scope\n",
    "s = \"I love A.I\"\n",
    "f()\n",
    "print(s)\n"
   ]
  },
  {
   "cell_type": "code",
   "execution_count": null,
   "id": "cbba60fb-f1ab-4cb2-b968-5f9f25178d97",
   "metadata": {},
   "outputs": [],
   "source": [
    "\n",
    "# This function modifies the global variable 's'\n",
    "def f():\n",
    "    global s\n",
    "    s += ' Ai walkers'\n",
    "    print(s)\n",
    "    s = \"Look for Python Section\"\n",
    "    print(s) \n",
    "\n",
    "# Global Scope\n",
    "s = \"Python is great!\" \n",
    "f()\n",
    "print(s)"
   ]
  },
  {
   "cell_type": "code",
   "execution_count": 42,
   "id": "a3b7872d-f33c-455f-9308-c4239b9eb33c",
   "metadata": {},
   "outputs": [
    {
     "name": "stdout",
     "output_type": "stream",
     "text": [
      "ao\n"
     ]
    }
   ],
   "source": [
    "index= length -1 #13 12\n",
    "\n",
    "\n",
    "mail_id = \"abc@gmail.com\"\n",
    "length = len(mail_id)\n",
    "res = mail_id[0] + mail_id[length]  #res = mail_id[0]---a, mail_id[12] ---- m\n",
    "print(res)"
   ]
  },
  {
   "cell_type": "code",
   "execution_count": null,
   "id": "2383d60a-58a4-49d7-a315-53a6b3bd2982",
   "metadata": {},
   "outputs": [],
   "source": [
    "a-1-0\n",
    "b-2-1\n",
    "c-3-2\n",
    "@-4-3\n",
    "g-5-4\n",
    "m-6-5\n",
    "a-7-6\n",
    "i-8-7\n",
    "l-9-8\n",
    ".-10-9\n",
    "c-11-10\n",
    "o-12-11\n",
    "m-13-12\n",
    "\n",
    "length = 13"
   ]
  }
 ],
 "metadata": {
  "kernelspec": {
   "display_name": "Python 3 (ipykernel)",
   "language": "python",
   "name": "python3"
  },
  "language_info": {
   "codemirror_mode": {
    "name": "ipython",
    "version": 3
   },
   "file_extension": ".py",
   "mimetype": "text/x-python",
   "name": "python",
   "nbconvert_exporter": "python",
   "pygments_lexer": "ipython3",
   "version": "3.9.7"
  }
 },
 "nbformat": 4,
 "nbformat_minor": 5
}
