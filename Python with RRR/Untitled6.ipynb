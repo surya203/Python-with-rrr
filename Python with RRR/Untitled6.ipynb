{
 "cells": [
  {
   "cell_type": "code",
   "execution_count": null,
   "id": "b1b8c0c4-146a-420f-9e7d-d7ee8e34850e",
   "metadata": {},
   "outputs": [],
   "source": [
    "food={\"egg rice\":\"tomato rice\"}"
   ]
  },
  {
   "cell_type": "code",
   "execution_count": 8,
   "id": "1dd93386-1370-4980-96eb-6527f0e5037b",
   "metadata": {},
   "outputs": [
    {
     "data": {
      "text/plain": [
       "{'egg rice': 'tomato rice'}"
      ]
     },
     "execution_count": 8,
     "metadata": {},
     "output_type": "execute_result"
    }
   ],
   "source": [
    "food"
   ]
  },
  {
   "cell_type": "raw",
   "id": "1a87bc4d-8b93-4673-af31-5997ff791cc2",
   "metadata": {},
   "source": []
  },
  {
   "cell_type": "code",
   "execution_count": 9,
   "id": "21fdecaf-7c45-4df0-a56b-420fdca562e6",
   "metadata": {},
   "outputs": [
    {
     "data": {
      "text/plain": [
       "dict"
      ]
     },
     "execution_count": 9,
     "metadata": {},
     "output_type": "execute_result"
    }
   ],
   "source": [
    "type(food)"
   ]
  },
  {
   "cell_type": "code",
   "execution_count": null,
   "id": "d36ef659-2bd1-42ea-a1ab-fc4e37df0f4e",
   "metadata": {},
   "outputs": [],
   "source": []
  },
  {
   "cell_type": "code",
   "execution_count": null,
   "id": "990af7dd-dd0f-4167-8abd-39a6258d6b0d",
   "metadata": {},
   "outputs": [],
   "source": []
  }
 ],
 "metadata": {
  "kernelspec": {
   "display_name": "Python 3 (ipykernel)",
   "language": "python",
   "name": "python3"
  },
  "language_info": {
   "codemirror_mode": {
    "name": "ipython",
    "version": 3
   },
   "file_extension": ".py",
   "mimetype": "text/x-python",
   "name": "python",
   "nbconvert_exporter": "python",
   "pygments_lexer": "ipython3",
   "version": "3.9.7"
  }
 },
 "nbformat": 4,
 "nbformat_minor": 5
}
